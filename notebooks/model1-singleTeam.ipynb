{
 "cells": [
  {
   "cell_type": "markdown",
   "metadata": {},
   "source": [
    "# Model 1: Basic Regression for Predicting MLB Scores"
   ]
  },
  {
   "cell_type": "code",
   "execution_count": 1,
   "metadata": {},
   "outputs": [],
   "source": [
    "%load_ext autoreload\n",
    "%autoreload 2\n",
    "import pandas as pd\n",
    "import numpy as np\n",
    "import sys\n",
    "import datetime\n",
    "import pickle as pkl\n",
    "import seaborn as sns\n",
    "import matplotlib.pyplot as plt\n",
    "#get parent directory:\n",
    "import os\n",
    "parentDirectory = os.path.abspath(os.path.join(os.getcwd(), os.pardir))\n",
    "sys.path.append('/Users/efriedlander/Dropbox/SportsBetting/mlb-predict')\n",
    "from src.data import bbref_scrape\n",
    "from src.data import clean_data"
   ]
  },
  {
   "cell_type": "markdown",
   "metadata": {},
   "source": [
    "## Data Preparation\n",
    "\n",
    "First scrape, import, and parse the data scraped from baseball-reference. We will save the parsed data so we don't have to repeat that step every time we run the notebook."
   ]
  },
  {
   "cell_type": "code",
   "execution_count": 2,
   "metadata": {},
   "outputs": [],
   "source": [
    "# start19 = datetime.datetime(2019, 1, 1)\n",
    "# end19 = datetime.datetime(2019, 12, 31)\n",
    "# start18 = datetime.datetime(2018, 1, 1)\n",
    "# end18 = datetime.datetime(2018, 12, 31)\n",
    "# start17 = datetime.datetime(2017, 1, 1)\n",
    "# end17 = datetime.datetime(2017, 12, 31)"
   ]
  },
  {
   "cell_type": "code",
   "execution_count": 3,
   "metadata": {},
   "outputs": [],
   "source": [
    "# links19 = bbref_scrape.get_box_score_links('ALL', start19, end19)\n",
    "# boxscores19 = bbref_scrape.get_box_scores(links19)\n",
    "# pkl.dump(boxscores19, open(os.path.join(parentDirectory, 'data', 'boxscores2019.p'), 'wb'))"
   ]
  },
  {
   "cell_type": "code",
   "execution_count": 4,
   "metadata": {},
   "outputs": [],
   "source": [
    "# links18 = bbref_scrape.get_box_score_links('ALL', start18, end18)\n",
    "# boxscores18 = bbref_scrape.get_box_scores(links18)\n",
    "# pkl.dump(boxscores18, open(os.path.join(parentDirectory, 'data', 'boxscores2018.p'), 'wb'))"
   ]
  },
  {
   "cell_type": "code",
   "execution_count": 5,
   "metadata": {},
   "outputs": [],
   "source": [
    "# links17 = bbref_scrape.get_box_score_links('ALL', start17, end17)\n",
    "# boxscores17 = bbref_scrape.get_box_scores(links17)\n",
    "# pkl.dump(boxscores17, open(os.path.join(parentDirectory, 'data', 'boxscores2017.p'), 'wb'))"
   ]
  },
  {
   "cell_type": "code",
   "execution_count": 6,
   "metadata": {
    "scrolled": true
   },
   "outputs": [],
   "source": [
    "# scores = pkl.load(open(os.path.join(parentDirectory, 'data', 'boxscores2019.p'), 'rb'))\n",
    "# parsed_scores = bbref_scrape.parse_box_scores(scores)\n",
    "# pkl.dump(parsed_scores, open(os.path.join(parentDirectory, 'data', 'parsedData2019.p'), 'wb'))\n",
    "\n",
    "# scores = pkl.load(open(os.path.join(parentDirectory, 'data', 'boxscores2018.p'), 'rb'))\n",
    "# parsed_scores = bbref_scrape.parse_box_scores(scores)\n",
    "# pkl.dump(parsed_scores, open(os.path.join(parentDirectory, 'data', 'parsedData2018.p'), 'wb'))\n",
    "\n",
    "# scores = pkl.load(open(os.path.join(parentDirectory, 'data', 'boxscores2017.p'), 'rb'))\n",
    "# parsed_scores = bbref_scrape.parse_box_scores(scores)\n",
    "# pkl.dump(parsed_scores, open(os.path.join(parentDirectory, 'data', 'parsedData2017.p'), 'wb'))"
   ]
  },
  {
   "cell_type": "markdown",
   "metadata": {},
   "source": [
    "Load the parsed data and concatenate 2017, 2018, and 2019 data."
   ]
  },
  {
   "cell_type": "code",
   "execution_count": 7,
   "metadata": {
    "scrolled": true
   },
   "outputs": [],
   "source": [
    "parsed19 = pkl.load(open(os.path.join(parentDirectory, 'data', 'parsedData2019.p'), 'rb'))"
   ]
  },
  {
   "cell_type": "markdown",
   "metadata": {},
   "source": [
    "The parser outputs four dataframes. For now we will only concern ourselves with the game and team level data."
   ]
  },
  {
   "cell_type": "code",
   "execution_count": 8,
   "metadata": {},
   "outputs": [],
   "source": [
    "game_level = parsed19['Game']\n",
    "team_level = parsed19['Team']"
   ]
  },
  {
   "cell_type": "code",
   "execution_count": 9,
   "metadata": {},
   "outputs": [
    {
     "data": {
      "text/plain": [
       "Index(['GameID', 'AwayTeam', 'HomeTeam', 'DateTime', 'Attendance', 'Venue',\n",
       "       'Duration', 'Details', 'AwayScore', 'HomeScore'],\n",
       "      dtype='object')"
      ]
     },
     "execution_count": 9,
     "metadata": {},
     "output_type": "execute_result"
    }
   ],
   "source": [
    "game_level.columns"
   ]
  },
  {
   "cell_type": "code",
   "execution_count": 10,
   "metadata": {},
   "outputs": [
    {
     "data": {
      "text/plain": [
       "Index(['GameID', 'Team', 'GameNum', 'Wins', 'Losses', 'HomeAway', 'Inn1',\n",
       "       'Inn2', 'Inn3', 'Inn4', 'Inn5', 'Inn6', 'Inn7', 'Inn8', 'Inn9', 'Runs',\n",
       "       'Hits', 'Errors', 'AB', 'R', 'H', 'RBI', 'BB', 'SO', 'PA', 'BA', 'OBP',\n",
       "       'SLG', 'OPS', 'Pit', 'Str', 'WPA', 'aLI', 'WPA+', 'WPA-', 'RE24', 'PO',\n",
       "       'A', 'Starter', 'IP', 'H_P', 'R_P', 'ER', 'BB_P', 'SO_P', 'HR_P', 'ERA',\n",
       "       'BF', 'Pit_P', 'Str_P', 'Ctct', 'StS', 'StL', 'GB', 'FB', 'LD', 'Unk',\n",
       "       'GSc', 'IR', 'IS', 'WPA_P', 'aLI_P', 'RE24_P'],\n",
       "      dtype='object')"
      ]
     },
     "execution_count": 10,
     "metadata": {},
     "output_type": "execute_result"
    }
   ],
   "source": [
    "team_level.columns"
   ]
  },
  {
   "cell_type": "markdown",
   "metadata": {},
   "source": [
    "For this first model we'll only consider a subset of the rows for each game. Let's extract the team variables that we'll be using and make sure they have the appropriate data types. In general, we're excluding any variables that are for single innings (`Inn1`,\\ldots, `Inn9`), any of the data for pitching (with a _P suffice), any statistics that are linear combinations of the others (OPS), and some of the mroe advanced statistics such as WPA. We'll definitely look into adding these to the model in the future in order to improve our predictions."
   ]
  },
  {
   "cell_type": "code",
   "execution_count": 11,
   "metadata": {},
   "outputs": [
    {
     "name": "stdout",
     "output_type": "stream",
     "text": [
      "<class 'pandas.core.frame.DataFrame'>\n",
      "RangeIndex: 4858 entries, 0 to 4857\n",
      "Data columns (total 15 columns):\n",
      " #   Column    Non-Null Count  Dtype   \n",
      "---  ------    --------------  -----   \n",
      " 0   GameID    4858 non-null   int64   \n",
      " 1   Team      4858 non-null   category\n",
      " 2   GameNum   4858 non-null   int64   \n",
      " 3   HomeAway  4858 non-null   category\n",
      " 4   Runs      4858 non-null   int64   \n",
      " 5   Hits      4858 non-null   int64   \n",
      " 6   Errors    4858 non-null   int64   \n",
      " 7   AB        4858 non-null   int64   \n",
      " 8   RBI       4858 non-null   int64   \n",
      " 9   BB        4858 non-null   int64   \n",
      " 10  SO        4858 non-null   int64   \n",
      " 11  PA        4858 non-null   int64   \n",
      " 12  OBP       4858 non-null   float64 \n",
      " 13  SLG       4858 non-null   float64 \n",
      " 14  Starter   4858 non-null   category\n",
      "dtypes: category(3), float64(2), int64(10)\n",
      "memory usage: 489.0 KB\n"
     ]
    }
   ],
   "source": [
    "team_data = team_level[['GameID', 'Team', 'GameNum', 'HomeAway', 'Runs', 'Hits', 'Errors', 'AB', \n",
    "                        'RBI', 'BB', 'SO', 'PA', 'OBP', 'SLG', 'Starter']].astype({'GameID' : 'int',\n",
    "                                                                                                 'Team' : 'category',\n",
    "                                                                                                 'GameNum' : 'int',\n",
    "                                                                                                 'HomeAway' : 'category',\n",
    "                                                                                                 'Runs' : 'int',\n",
    "                                                                                                 'Hits' : 'int',\n",
    "                                                                                                 'Errors' : 'int',\n",
    "                                                                                                 'AB': 'int',\n",
    "                                                                                                 'RBI' : 'int', \n",
    "                                                                                                 'BB' : 'int', \n",
    "                                                                                                 'SO' : 'int', \n",
    "                                                                                                 'PA' : 'int', \n",
    "                                                                                                 'OBP' : 'float', \n",
    "                                                                                                 'SLG' : 'float', \n",
    "                                                                                                 'Starter' : 'category'}, copy=False)\n",
    "team_data.info()"
   ]
  },
  {
   "cell_type": "code",
   "execution_count": 12,
   "metadata": {},
   "outputs": [
    {
     "data": {
      "text/html": [
       "<div>\n",
       "<style scoped>\n",
       "    .dataframe tbody tr th:only-of-type {\n",
       "        vertical-align: middle;\n",
       "    }\n",
       "\n",
       "    .dataframe tbody tr th {\n",
       "        vertical-align: top;\n",
       "    }\n",
       "\n",
       "    .dataframe thead th {\n",
       "        text-align: right;\n",
       "    }\n",
       "</style>\n",
       "<table border=\"1\" class=\"dataframe\">\n",
       "  <thead>\n",
       "    <tr style=\"text-align: right;\">\n",
       "      <th></th>\n",
       "      <th>GameID</th>\n",
       "      <th>GameNum</th>\n",
       "      <th>Runs</th>\n",
       "      <th>Hits</th>\n",
       "      <th>Errors</th>\n",
       "      <th>AB</th>\n",
       "      <th>RBI</th>\n",
       "      <th>BB</th>\n",
       "      <th>SO</th>\n",
       "      <th>PA</th>\n",
       "      <th>OBP</th>\n",
       "      <th>SLG</th>\n",
       "    </tr>\n",
       "  </thead>\n",
       "  <tbody>\n",
       "    <tr>\n",
       "      <th>count</th>\n",
       "      <td>4.858000e+03</td>\n",
       "      <td>4858.000000</td>\n",
       "      <td>4858.000000</td>\n",
       "      <td>4858.000000</td>\n",
       "      <td>4858.000000</td>\n",
       "      <td>4858.000000</td>\n",
       "      <td>4858.000000</td>\n",
       "      <td>4858.000000</td>\n",
       "      <td>4858.000000</td>\n",
       "      <td>4858.000000</td>\n",
       "      <td>4858.000000</td>\n",
       "      <td>4858.000000</td>\n",
       "    </tr>\n",
       "    <tr>\n",
       "      <th>mean</th>\n",
       "      <td>1.800880e+17</td>\n",
       "      <td>81.466859</td>\n",
       "      <td>4.830589</td>\n",
       "      <td>8.653561</td>\n",
       "      <td>0.594277</td>\n",
       "      <td>34.304446</td>\n",
       "      <td>4.625566</td>\n",
       "      <td>3.271923</td>\n",
       "      <td>8.814944</td>\n",
       "      <td>38.393783</td>\n",
       "      <td>0.315166</td>\n",
       "      <td>0.425445</td>\n",
       "    </tr>\n",
       "    <tr>\n",
       "      <th>std</th>\n",
       "      <td>5.302128e+18</td>\n",
       "      <td>46.750379</td>\n",
       "      <td>3.322411</td>\n",
       "      <td>3.504400</td>\n",
       "      <td>0.797014</td>\n",
       "      <td>4.492180</td>\n",
       "      <td>3.227491</td>\n",
       "      <td>2.088913</td>\n",
       "      <td>3.092248</td>\n",
       "      <td>5.450163</td>\n",
       "      <td>0.084089</td>\n",
       "      <td>0.169419</td>\n",
       "    </tr>\n",
       "    <tr>\n",
       "      <th>min</th>\n",
       "      <td>-9.219584e+18</td>\n",
       "      <td>1.000000</td>\n",
       "      <td>0.000000</td>\n",
       "      <td>0.000000</td>\n",
       "      <td>0.000000</td>\n",
       "      <td>17.000000</td>\n",
       "      <td>0.000000</td>\n",
       "      <td>0.000000</td>\n",
       "      <td>1.000000</td>\n",
       "      <td>17.000000</td>\n",
       "      <td>0.034000</td>\n",
       "      <td>0.000000</td>\n",
       "    </tr>\n",
       "    <tr>\n",
       "      <th>25%</th>\n",
       "      <td>-4.271940e+18</td>\n",
       "      <td>41.000000</td>\n",
       "      <td>2.000000</td>\n",
       "      <td>6.000000</td>\n",
       "      <td>0.000000</td>\n",
       "      <td>31.000000</td>\n",
       "      <td>2.000000</td>\n",
       "      <td>2.000000</td>\n",
       "      <td>7.000000</td>\n",
       "      <td>35.000000</td>\n",
       "      <td>0.257000</td>\n",
       "      <td>0.303000</td>\n",
       "    </tr>\n",
       "    <tr>\n",
       "      <th>50%</th>\n",
       "      <td>3.102109e+17</td>\n",
       "      <td>81.000000</td>\n",
       "      <td>4.000000</td>\n",
       "      <td>8.000000</td>\n",
       "      <td>0.000000</td>\n",
       "      <td>34.000000</td>\n",
       "      <td>4.000000</td>\n",
       "      <td>3.000000</td>\n",
       "      <td>9.000000</td>\n",
       "      <td>38.000000</td>\n",
       "      <td>0.316000</td>\n",
       "      <td>0.415000</td>\n",
       "    </tr>\n",
       "    <tr>\n",
       "      <th>75%</th>\n",
       "      <td>4.689052e+18</td>\n",
       "      <td>122.000000</td>\n",
       "      <td>7.000000</td>\n",
       "      <td>11.000000</td>\n",
       "      <td>1.000000</td>\n",
       "      <td>36.000000</td>\n",
       "      <td>6.000000</td>\n",
       "      <td>5.000000</td>\n",
       "      <td>11.000000</td>\n",
       "      <td>41.000000</td>\n",
       "      <td>0.375000</td>\n",
       "      <td>0.533000</td>\n",
       "    </tr>\n",
       "    <tr>\n",
       "      <th>max</th>\n",
       "      <td>9.221134e+18</td>\n",
       "      <td>162.000000</td>\n",
       "      <td>23.000000</td>\n",
       "      <td>25.000000</td>\n",
       "      <td>6.000000</td>\n",
       "      <td>69.000000</td>\n",
       "      <td>21.000000</td>\n",
       "      <td>12.000000</td>\n",
       "      <td>26.000000</td>\n",
       "      <td>74.000000</td>\n",
       "      <td>0.560000</td>\n",
       "      <td>1.175000</td>\n",
       "    </tr>\n",
       "  </tbody>\n",
       "</table>\n",
       "</div>"
      ],
      "text/plain": [
       "             GameID      GameNum         Runs         Hits       Errors  \\\n",
       "count  4.858000e+03  4858.000000  4858.000000  4858.000000  4858.000000   \n",
       "mean   1.800880e+17    81.466859     4.830589     8.653561     0.594277   \n",
       "std    5.302128e+18    46.750379     3.322411     3.504400     0.797014   \n",
       "min   -9.219584e+18     1.000000     0.000000     0.000000     0.000000   \n",
       "25%   -4.271940e+18    41.000000     2.000000     6.000000     0.000000   \n",
       "50%    3.102109e+17    81.000000     4.000000     8.000000     0.000000   \n",
       "75%    4.689052e+18   122.000000     7.000000    11.000000     1.000000   \n",
       "max    9.221134e+18   162.000000    23.000000    25.000000     6.000000   \n",
       "\n",
       "                AB          RBI           BB           SO           PA  \\\n",
       "count  4858.000000  4858.000000  4858.000000  4858.000000  4858.000000   \n",
       "mean     34.304446     4.625566     3.271923     8.814944    38.393783   \n",
       "std       4.492180     3.227491     2.088913     3.092248     5.450163   \n",
       "min      17.000000     0.000000     0.000000     1.000000    17.000000   \n",
       "25%      31.000000     2.000000     2.000000     7.000000    35.000000   \n",
       "50%      34.000000     4.000000     3.000000     9.000000    38.000000   \n",
       "75%      36.000000     6.000000     5.000000    11.000000    41.000000   \n",
       "max      69.000000    21.000000    12.000000    26.000000    74.000000   \n",
       "\n",
       "               OBP          SLG  \n",
       "count  4858.000000  4858.000000  \n",
       "mean      0.315166     0.425445  \n",
       "std       0.084089     0.169419  \n",
       "min       0.034000     0.000000  \n",
       "25%       0.257000     0.303000  \n",
       "50%       0.316000     0.415000  \n",
       "75%       0.375000     0.533000  \n",
       "max       0.560000     1.175000  "
      ]
     },
     "execution_count": 12,
     "metadata": {},
     "output_type": "execute_result"
    }
   ],
   "source": [
    "team_data.describe()"
   ]
  },
  {
   "cell_type": "markdown",
   "metadata": {},
   "source": [
    "On base percentage `OBP` and slugging percentage `SLG` and computed per plate appearance `PA` and at-bat `AB`, respectively. Since there are a different number of plate appearances and at-bats per game it makes more sense to keep track of the cumulative total `PA` and `AB`, and the cumulative total of the numerator of `OBP` and `SLG` so that our averages are correct."
   ]
  },
  {
   "cell_type": "code",
   "execution_count": 13,
   "metadata": {},
   "outputs": [],
   "source": [
    "# Note that the denominator of OBP is not technically plate appearances. There are some rare events which not counted such as sacrifice bunts\n",
    "# But this is a very close approximation\n",
    "team_data['OBP_NUM'] = team_data['OBP']*team_data['PA']\n",
    "team_data['SLG_NUM'] = team_data['SLG']*team_data['AB']"
   ]
  },
  {
   "cell_type": "markdown",
   "metadata": {},
   "source": [
    "We'll now compute all of the running averages runs, hits, errors, RBI's, walks, and strikeouts."
   ]
  },
  {
   "cell_type": "code",
   "execution_count": 14,
   "metadata": {},
   "outputs": [],
   "source": [
    "team_data.sort_values(by='GameNum', inplace=True)\n",
    "team_data[['Runs_Mean', 'Hits_Mean', 'Errors_Mean', 'RBI_Mean', 'BB_Mean', 'SO_Mean']] = (team_data.groupby(by='Team')\n",
    "                                                       .expanding()\n",
    "                                                       .mean()[['Runs', 'Hits', 'Errors', 'RBI', 'BB', 'SO']].reset_index(level=0, drop=True))"
   ]
  },
  {
   "cell_type": "markdown",
   "metadata": {},
   "source": [
    "Now compute the running totals of at bats, plate appearances, and the numerators of on-base percentage (OBP) and slugging percentage (SLG). We'll then compute the running average of OBP and SLG."
   ]
  },
  {
   "cell_type": "code",
   "execution_count": 15,
   "metadata": {},
   "outputs": [],
   "source": [
    "team_data[['AB_Total', 'PA_Total', 'OBP_NUM_Total', 'SLG_NUM_Total']] = (team_data.groupby(by='Team')\n",
    "                                                                         .expanding()\n",
    "                                                                         .sum()[['AB', 'PA', 'OBP_NUM', 'SLG_NUM']].reset_index(level=0, drop=True))\n",
    "team_data['SLG_Mean'] = team_data['SLG_NUM_Total'] / team_data['PA_Total']\n",
    "team_data['OBP_Mean'] = team_data['OBP_NUM_Total'] / team_data['AB_Total']"
   ]
  },
  {
   "cell_type": "markdown",
   "metadata": {},
   "source": [
    "Finally, any predictions we make will need to be computed from data availbe before the game starts so we'll have to lag some of the data."
   ]
  },
  {
   "cell_type": "code",
   "execution_count": 16,
   "metadata": {},
   "outputs": [
    {
     "data": {
      "text/html": [
       "<div>\n",
       "<style scoped>\n",
       "    .dataframe tbody tr th:only-of-type {\n",
       "        vertical-align: middle;\n",
       "    }\n",
       "\n",
       "    .dataframe tbody tr th {\n",
       "        vertical-align: top;\n",
       "    }\n",
       "\n",
       "    .dataframe thead th {\n",
       "        text-align: right;\n",
       "    }\n",
       "</style>\n",
       "<table border=\"1\" class=\"dataframe\">\n",
       "  <thead>\n",
       "    <tr style=\"text-align: right;\">\n",
       "      <th></th>\n",
       "      <th>GameID</th>\n",
       "      <th>Team</th>\n",
       "      <th>GameNum</th>\n",
       "      <th>HomeAway</th>\n",
       "      <th>Runs</th>\n",
       "      <th>Hits</th>\n",
       "      <th>Errors</th>\n",
       "      <th>AB</th>\n",
       "      <th>RBI</th>\n",
       "      <th>BB</th>\n",
       "      <th>...</th>\n",
       "      <th>Errors_Mean</th>\n",
       "      <th>RBI_Mean</th>\n",
       "      <th>BB_Mean</th>\n",
       "      <th>SO_Mean</th>\n",
       "      <th>AB_Total</th>\n",
       "      <th>PA_Total</th>\n",
       "      <th>OBP_NUM_Total</th>\n",
       "      <th>SLG_NUM_Total</th>\n",
       "      <th>SLG_Mean</th>\n",
       "      <th>OBP_Mean</th>\n",
       "    </tr>\n",
       "  </thead>\n",
       "  <tbody>\n",
       "    <tr>\n",
       "      <th>4277</th>\n",
       "      <td>4988211173878564513</td>\n",
       "      <td>Texas Rangers</td>\n",
       "      <td>162</td>\n",
       "      <td>Home</td>\n",
       "      <td>6</td>\n",
       "      <td>10</td>\n",
       "      <td>0</td>\n",
       "      <td>31</td>\n",
       "      <td>4</td>\n",
       "      <td>4</td>\n",
       "      <td>...</td>\n",
       "      <td>0.645963</td>\n",
       "      <td>4.726708</td>\n",
       "      <td>3.291925</td>\n",
       "      <td>9.763975</td>\n",
       "      <td>5540.0</td>\n",
       "      <td>6204.0</td>\n",
       "      <td>1980.184</td>\n",
       "      <td>2386.992</td>\n",
       "      <td>0.385274</td>\n",
       "      <td>0.356725</td>\n",
       "    </tr>\n",
       "    <tr>\n",
       "      <th>1529</th>\n",
       "      <td>1012769012501979524</td>\n",
       "      <td>St. Louis Cardinals</td>\n",
       "      <td>162</td>\n",
       "      <td>Home</td>\n",
       "      <td>9</td>\n",
       "      <td>9</td>\n",
       "      <td>0</td>\n",
       "      <td>32</td>\n",
       "      <td>8</td>\n",
       "      <td>8</td>\n",
       "      <td>...</td>\n",
       "      <td>0.409938</td>\n",
       "      <td>4.385093</td>\n",
       "      <td>3.434783</td>\n",
       "      <td>8.776398</td>\n",
       "      <td>5449.0</td>\n",
       "      <td>6167.0</td>\n",
       "      <td>1987.214</td>\n",
       "      <td>2259.996</td>\n",
       "      <td>0.365978</td>\n",
       "      <td>0.363525</td>\n",
       "    </tr>\n",
       "    <tr>\n",
       "      <th>1528</th>\n",
       "      <td>1012769012501979524</td>\n",
       "      <td>Chicago Cubs</td>\n",
       "      <td>162</td>\n",
       "      <td>Away</td>\n",
       "      <td>0</td>\n",
       "      <td>3</td>\n",
       "      <td>0</td>\n",
       "      <td>27</td>\n",
       "      <td>0</td>\n",
       "      <td>1</td>\n",
       "      <td>...</td>\n",
       "      <td>0.732919</td>\n",
       "      <td>4.863354</td>\n",
       "      <td>3.602484</td>\n",
       "      <td>9.024845</td>\n",
       "      <td>5461.0</td>\n",
       "      <td>6195.0</td>\n",
       "      <td>2052.831</td>\n",
       "      <td>2468.260</td>\n",
       "      <td>0.399751</td>\n",
       "      <td>0.377038</td>\n",
       "    </tr>\n",
       "    <tr>\n",
       "      <th>3746</th>\n",
       "      <td>2827969997701635495</td>\n",
       "      <td>Miami Marlins</td>\n",
       "      <td>162</td>\n",
       "      <td>Away</td>\n",
       "      <td>4</td>\n",
       "      <td>7</td>\n",
       "      <td>1</td>\n",
       "      <td>33</td>\n",
       "      <td>4</td>\n",
       "      <td>0</td>\n",
       "      <td>...</td>\n",
       "      <td>0.571429</td>\n",
       "      <td>3.658385</td>\n",
       "      <td>2.453416</td>\n",
       "      <td>9.068323</td>\n",
       "      <td>5512.0</td>\n",
       "      <td>6045.0</td>\n",
       "      <td>1804.501</td>\n",
       "      <td>2065.044</td>\n",
       "      <td>0.340660</td>\n",
       "      <td>0.328072</td>\n",
       "    </tr>\n",
       "    <tr>\n",
       "      <th>633</th>\n",
       "      <td>-5606949110583366541</td>\n",
       "      <td>Arizona Diamondbacks</td>\n",
       "      <td>162</td>\n",
       "      <td>Home</td>\n",
       "      <td>1</td>\n",
       "      <td>7</td>\n",
       "      <td>0</td>\n",
       "      <td>32</td>\n",
       "      <td>1</td>\n",
       "      <td>1</td>\n",
       "      <td>...</td>\n",
       "      <td>0.527950</td>\n",
       "      <td>4.826087</td>\n",
       "      <td>3.347826</td>\n",
       "      <td>8.397516</td>\n",
       "      <td>5633.0</td>\n",
       "      <td>6315.0</td>\n",
       "      <td>2039.591</td>\n",
       "      <td>2446.740</td>\n",
       "      <td>0.388053</td>\n",
       "      <td>0.362722</td>\n",
       "    </tr>\n",
       "  </tbody>\n",
       "</table>\n",
       "<p>5 rows × 29 columns</p>\n",
       "</div>"
      ],
      "text/plain": [
       "                   GameID                  Team  GameNum HomeAway  Runs  Hits  \\\n",
       "4277  4988211173878564513         Texas Rangers      162     Home     6    10   \n",
       "1529  1012769012501979524   St. Louis Cardinals      162     Home     9     9   \n",
       "1528  1012769012501979524          Chicago Cubs      162     Away     0     3   \n",
       "3746  2827969997701635495         Miami Marlins      162     Away     4     7   \n",
       "633  -5606949110583366541  Arizona Diamondbacks      162     Home     1     7   \n",
       "\n",
       "      Errors  AB  RBI  BB  ...  Errors_Mean  RBI_Mean   BB_Mean   SO_Mean  \\\n",
       "4277       0  31    4   4  ...     0.645963  4.726708  3.291925  9.763975   \n",
       "1529       0  32    8   8  ...     0.409938  4.385093  3.434783  8.776398   \n",
       "1528       0  27    0   1  ...     0.732919  4.863354  3.602484  9.024845   \n",
       "3746       1  33    4   0  ...     0.571429  3.658385  2.453416  9.068323   \n",
       "633        0  32    1   1  ...     0.527950  4.826087  3.347826  8.397516   \n",
       "\n",
       "     AB_Total  PA_Total  OBP_NUM_Total  SLG_NUM_Total  SLG_Mean  OBP_Mean  \n",
       "4277   5540.0    6204.0       1980.184       2386.992  0.385274  0.356725  \n",
       "1529   5449.0    6167.0       1987.214       2259.996  0.365978  0.363525  \n",
       "1528   5461.0    6195.0       2052.831       2468.260  0.399751  0.377038  \n",
       "3746   5512.0    6045.0       1804.501       2065.044  0.340660  0.328072  \n",
       "633    5633.0    6315.0       2039.591       2446.740  0.388053  0.362722  \n",
       "\n",
       "[5 rows x 29 columns]"
      ]
     },
     "execution_count": 16,
     "metadata": {},
     "output_type": "execute_result"
    }
   ],
   "source": [
    "potential_features = ['Runs_Mean', 'Hits_Mean', 'Errors_Mean', 'RBI_Mean', 'BB_Mean', 'SO_Mean', 'SLG_Mean', 'OBP_Mean']\n",
    "team_data[potential_features] = team_data.groupby(by='Team')[potential_features].shift(1)\n",
    "team_data.tail()"
   ]
  },
  {
   "cell_type": "markdown",
   "metadata": {},
   "source": [
    "Let's plot a few of the variable to see that they are changing in a way that makes sense."
   ]
  },
  {
   "cell_type": "code",
   "execution_count": 17,
   "metadata": {},
   "outputs": [
    {
     "data": {
      "text/plain": [
       "Text(0, 0.5, 'On Base Percentage')"
      ]
     },
     "execution_count": 17,
     "metadata": {},
     "output_type": "execute_result"
    },
    {
     "data": {
      "image/png": "[encoded data removed]",
      "text/plain": [
       "<Figure size 864x360 with 2 Axes>"
      ]
     },
     "metadata": {
      "needs_background": "light"
     },
     "output_type": "display_data"
    }
   ],
   "source": [
    "yankees_data = team_data[team_data['Team'] == 'New York Yankees']\n",
    "fig, axes = plt.subplots(1, 2, figsize=(12, 5))\n",
    "axes[0].plot(yankees_data['GameNum'], yankees_data['Runs_Mean'])\n",
    "axes[0].set_xlabel('Game Number')\n",
    "axes[0].set_ylabel('Hits Per Game')\n",
    "axes[1].plot(yankees_data['GameNum'], yankees_data['OBP_Mean'])\n",
    "axes[1].set_xlabel('Game Number')\n",
    "axes[1].set_ylabel('On Base Percentage')"
   ]
  },
  {
   "cell_type": "code",
   "execution_count": 18,
   "metadata": {},
   "outputs": [
    {
     "name": "stdout",
     "output_type": "stream",
     "text": [
      "<class 'pandas.core.frame.DataFrame'>\n",
      "Int64Index: 4858 entries, 0 to 633\n",
      "Data columns (total 29 columns):\n",
      " #   Column         Non-Null Count  Dtype   \n",
      "---  ------         --------------  -----   \n",
      " 0   GameID         4858 non-null   int64   \n",
      " 1   Team           4858 non-null   category\n",
      " 2   GameNum        4858 non-null   int64   \n",
      " 3   HomeAway       4858 non-null   category\n",
      " 4   Runs           4858 non-null   int64   \n",
      " 5   Hits           4858 non-null   int64   \n",
      " 6   Errors         4858 non-null   int64   \n",
      " 7   AB             4858 non-null   int64   \n",
      " 8   RBI            4858 non-null   int64   \n",
      " 9   BB             4858 non-null   int64   \n",
      " 10  SO             4858 non-null   int64   \n",
      " 11  PA             4858 non-null   int64   \n",
      " 12  OBP            4858 non-null   float64 \n",
      " 13  SLG            4858 non-null   float64 \n",
      " 14  Starter        4858 non-null   category\n",
      " 15  OBP_NUM        4858 non-null   float64 \n",
      " 16  SLG_NUM        4858 non-null   float64 \n",
      " 17  Runs_Mean      4828 non-null   float64 \n",
      " 18  Hits_Mean      4828 non-null   float64 \n",
      " 19  Errors_Mean    4828 non-null   float64 \n",
      " 20  RBI_Mean       4828 non-null   float64 \n",
      " 21  BB_Mean        4828 non-null   float64 \n",
      " 22  SO_Mean        4828 non-null   float64 \n",
      " 23  AB_Total       4858 non-null   float64 \n",
      " 24  PA_Total       4858 non-null   float64 \n",
      " 25  OBP_NUM_Total  4858 non-null   float64 \n",
      " 26  SLG_NUM_Total  4858 non-null   float64 \n",
      " 27  SLG_Mean       4828 non-null   float64 \n",
      " 28  OBP_Mean       4828 non-null   float64 \n",
      "dtypes: category(3), float64(16), int64(10)\n",
      "memory usage: 1.0 MB\n"
     ]
    }
   ],
   "source": [
    "team_data.info()"
   ]
  },
  {
   "cell_type": "markdown",
   "metadata": {},
   "source": [
    "We have two more years worth of data but we've written a function to automate this data cleaning workflow for us. Let's apply that to the data from 2017 and 2018. We'll actually be using the 2019 data as our test data set and 2017/2018 for trainig."
   ]
  },
  {
   "cell_type": "code",
   "execution_count": 19,
   "metadata": {},
   "outputs": [],
   "source": [
    "# Import 2018 data\n",
    "parsed18 = pkl.load(open(os.path.join(parentDirectory, 'data', 'parsedData2018.p'), 'rb'))\n",
    "game_level18 = parsed18['Game']\n",
    "team_level18 = parsed18['Team']\n",
    "\n",
    "# Import 2017 data\n",
    "parsed17 = pkl.load(open(os.path.join(parentDirectory, 'data', 'parsedData2018.p'), 'rb'))\n",
    "game_level17 = parsed17['Game']\n",
    "team_level17 = parsed17['Team']\n",
    "\n",
    "# Clean data\n",
    "model_data18 = clean_data.clean_season_data(team_level18, game_level18)\n",
    "model_data17 = clean_data.clean_season_data(team_level17, game_level17)\n",
    "\n",
    "# Join 2017 and 2018 data and label train and test sets\n",
    "train = pd.concat([model_data18, model_data17])\n",
    "test = team_data"
   ]
  },
  {
   "cell_type": "code",
   "execution_count": 20,
   "metadata": {},
   "outputs": [
    {
     "name": "stdout",
     "output_type": "stream",
     "text": [
      "<class 'pandas.core.frame.DataFrame'>\n",
      "Int64Index: 9724 entries, 0 to 1524\n",
      "Data columns (total 29 columns):\n",
      " #   Column         Non-Null Count  Dtype   \n",
      "---  ------         --------------  -----   \n",
      " 0   GameID         9724 non-null   int64   \n",
      " 1   Team           9724 non-null   category\n",
      " 2   GameNum        9724 non-null   int64   \n",
      " 3   HomeAway       9724 non-null   category\n",
      " 4   Runs           9724 non-null   int64   \n",
      " 5   Hits           9724 non-null   int64   \n",
      " 6   Errors         9724 non-null   int64   \n",
      " 7   AB             9724 non-null   int64   \n",
      " 8   RBI            9724 non-null   int64   \n",
      " 9   BB             9724 non-null   int64   \n",
      " 10  SO             9724 non-null   int64   \n",
      " 11  PA             9724 non-null   int64   \n",
      " 12  OBP            9724 non-null   float64 \n",
      " 13  SLG            9724 non-null   float64 \n",
      " 14  Starter        9724 non-null   category\n",
      " 15  OBP_NUM        9724 non-null   float64 \n",
      " 16  SLG_NUM        9724 non-null   float64 \n",
      " 17  Runs_Mean      9664 non-null   float64 \n",
      " 18  Hits_Mean      9664 non-null   float64 \n",
      " 19  Errors_Mean    9664 non-null   float64 \n",
      " 20  RBI_Mean       9664 non-null   float64 \n",
      " 21  BB_Mean        9664 non-null   float64 \n",
      " 22  SO_Mean        9664 non-null   float64 \n",
      " 23  AB_Total       9724 non-null   float64 \n",
      " 24  PA_Total       9724 non-null   float64 \n",
      " 25  OBP_NUM_Total  9724 non-null   float64 \n",
      " 26  SLG_NUM_Total  9724 non-null   float64 \n",
      " 27  SLG_Mean       9664 non-null   float64 \n",
      " 28  OBP_Mean       9664 non-null   float64 \n",
      "dtypes: category(3), float64(16), int64(10)\n",
      "memory usage: 2.1 MB\n"
     ]
    }
   ],
   "source": [
    "train.info()"
   ]
  },
  {
   "cell_type": "markdown",
   "metadata": {},
   "source": [
    "## Data Exploration and Feature Selection\n",
    "\n",
    "Now that we have all of the data we will use for our model let's explore it a little bit. There are many columns in the DataFrame above and we won't use all of them, so let's isolate the columns we want to explore more, separating them into numerical and categorical variables."
   ]
  },
  {
   "cell_type": "code",
   "execution_count": 21,
   "metadata": {},
   "outputs": [],
   "source": [
    "numerical_vars = ['Runs_Mean', 'Hits_Mean', 'Errors_Mean', 'RBI_Mean', 'BB_Mean', 'SO_Mean', 'SLG_Mean', 'OBP_Mean', 'Runs']\n",
    "categorical_vars = ['HomeAway']"
   ]
  },
  {
   "cell_type": "markdown",
   "metadata": {},
   "source": [
    "Since it takes a few games for the averages to stabilize we'll remove the first 10 games from each season. Notice that we no longer have any null-values anymore."
   ]
  },
  {
   "cell_type": "code",
   "execution_count": 22,
   "metadata": {},
   "outputs": [],
   "source": [
    "train = train[train['GameNum'] > 10]\n",
    "test = test[test['GameNum'] > 10]"
   ]
  },
  {
   "cell_type": "code",
   "execution_count": 23,
   "metadata": {},
   "outputs": [
    {
     "name": "stdout",
     "output_type": "stream",
     "text": [
      "<class 'pandas.core.frame.DataFrame'>\n",
      "Int64Index: 9124 entries, 344 to 1524\n",
      "Data columns (total 29 columns):\n",
      " #   Column         Non-Null Count  Dtype   \n",
      "---  ------         --------------  -----   \n",
      " 0   GameID         9124 non-null   int64   \n",
      " 1   Team           9124 non-null   category\n",
      " 2   GameNum        9124 non-null   int64   \n",
      " 3   HomeAway       9124 non-null   category\n",
      " 4   Runs           9124 non-null   int64   \n",
      " 5   Hits           9124 non-null   int64   \n",
      " 6   Errors         9124 non-null   int64   \n",
      " 7   AB             9124 non-null   int64   \n",
      " 8   RBI            9124 non-null   int64   \n",
      " 9   BB             9124 non-null   int64   \n",
      " 10  SO             9124 non-null   int64   \n",
      " 11  PA             9124 non-null   int64   \n",
      " 12  OBP            9124 non-null   float64 \n",
      " 13  SLG            9124 non-null   float64 \n",
      " 14  Starter        9124 non-null   category\n",
      " 15  OBP_NUM        9124 non-null   float64 \n",
      " 16  SLG_NUM        9124 non-null   float64 \n",
      " 17  Runs_Mean      9124 non-null   float64 \n",
      " 18  Hits_Mean      9124 non-null   float64 \n",
      " 19  Errors_Mean    9124 non-null   float64 \n",
      " 20  RBI_Mean       9124 non-null   float64 \n",
      " 21  BB_Mean        9124 non-null   float64 \n",
      " 22  SO_Mean        9124 non-null   float64 \n",
      " 23  AB_Total       9124 non-null   float64 \n",
      " 24  PA_Total       9124 non-null   float64 \n",
      " 25  OBP_NUM_Total  9124 non-null   float64 \n",
      " 26  SLG_NUM_Total  9124 non-null   float64 \n",
      " 27  SLG_Mean       9124 non-null   float64 \n",
      " 28  OBP_Mean       9124 non-null   float64 \n",
      "dtypes: category(3), float64(16), int64(10)\n",
      "memory usage: 1.9 MB\n"
     ]
    }
   ],
   "source": [
    "train.info()"
   ]
  },
  {
   "cell_type": "code",
   "execution_count": 24,
   "metadata": {},
   "outputs": [
    {
     "name": "stdout",
     "output_type": "stream",
     "text": [
      "<class 'pandas.core.frame.DataFrame'>\n",
      "Int64Index: 4558 entries, 2575 to 633\n",
      "Data columns (total 29 columns):\n",
      " #   Column         Non-Null Count  Dtype   \n",
      "---  ------         --------------  -----   \n",
      " 0   GameID         4558 non-null   int64   \n",
      " 1   Team           4558 non-null   category\n",
      " 2   GameNum        4558 non-null   int64   \n",
      " 3   HomeAway       4558 non-null   category\n",
      " 4   Runs           4558 non-null   int64   \n",
      " 5   Hits           4558 non-null   int64   \n",
      " 6   Errors         4558 non-null   int64   \n",
      " 7   AB             4558 non-null   int64   \n",
      " 8   RBI            4558 non-null   int64   \n",
      " 9   BB             4558 non-null   int64   \n",
      " 10  SO             4558 non-null   int64   \n",
      " 11  PA             4558 non-null   int64   \n",
      " 12  OBP            4558 non-null   float64 \n",
      " 13  SLG            4558 non-null   float64 \n",
      " 14  Starter        4558 non-null   category\n",
      " 15  OBP_NUM        4558 non-null   float64 \n",
      " 16  SLG_NUM        4558 non-null   float64 \n",
      " 17  Runs_Mean      4558 non-null   float64 \n",
      " 18  Hits_Mean      4558 non-null   float64 \n",
      " 19  Errors_Mean    4558 non-null   float64 \n",
      " 20  RBI_Mean       4558 non-null   float64 \n",
      " 21  BB_Mean        4558 non-null   float64 \n",
      " 22  SO_Mean        4558 non-null   float64 \n",
      " 23  AB_Total       4558 non-null   float64 \n",
      " 24  PA_Total       4558 non-null   float64 \n",
      " 25  OBP_NUM_Total  4558 non-null   float64 \n",
      " 26  SLG_NUM_Total  4558 non-null   float64 \n",
      " 27  SLG_Mean       4558 non-null   float64 \n",
      " 28  OBP_Mean       4558 non-null   float64 \n",
      "dtypes: category(3), float64(16), int64(10)\n",
      "memory usage: 993.7 KB\n"
     ]
    }
   ],
   "source": [
    "test.info()"
   ]
  },
  {
   "cell_type": "markdown",
   "metadata": {},
   "source": [
    "Let's look at the correlation matrix of the numerical columns."
   ]
  },
  {
   "cell_type": "code",
   "execution_count": 25,
   "metadata": {},
   "outputs": [
    {
     "data": {
      "text/html": [
       "<div>\n",
       "<style scoped>\n",
       "    .dataframe tbody tr th:only-of-type {\n",
       "        vertical-align: middle;\n",
       "    }\n",
       "\n",
       "    .dataframe tbody tr th {\n",
       "        vertical-align: top;\n",
       "    }\n",
       "\n",
       "    .dataframe thead th {\n",
       "        text-align: right;\n",
       "    }\n",
       "</style>\n",
       "<table border=\"1\" class=\"dataframe\">\n",
       "  <thead>\n",
       "    <tr style=\"text-align: right;\">\n",
       "      <th></th>\n",
       "      <th>Runs_Mean</th>\n",
       "      <th>Hits_Mean</th>\n",
       "      <th>Errors_Mean</th>\n",
       "      <th>RBI_Mean</th>\n",
       "      <th>BB_Mean</th>\n",
       "      <th>SO_Mean</th>\n",
       "      <th>SLG_Mean</th>\n",
       "      <th>OBP_Mean</th>\n",
       "      <th>Runs</th>\n",
       "    </tr>\n",
       "  </thead>\n",
       "  <tbody>\n",
       "    <tr>\n",
       "      <th>Runs_Mean</th>\n",
       "      <td>1.000000</td>\n",
       "      <td>0.664741</td>\n",
       "      <td>-0.119569</td>\n",
       "      <td>0.993616</td>\n",
       "      <td>0.519330</td>\n",
       "      <td>-0.305816</td>\n",
       "      <td>0.801165</td>\n",
       "      <td>0.797799</td>\n",
       "      <td>0.073651</td>\n",
       "    </tr>\n",
       "    <tr>\n",
       "      <th>Hits_Mean</th>\n",
       "      <td>0.664741</td>\n",
       "      <td>1.000000</td>\n",
       "      <td>-0.139673</td>\n",
       "      <td>0.647632</td>\n",
       "      <td>-0.001666</td>\n",
       "      <td>-0.565792</td>\n",
       "      <td>0.707325</td>\n",
       "      <td>0.614857</td>\n",
       "      <td>0.028651</td>\n",
       "    </tr>\n",
       "    <tr>\n",
       "      <th>Errors_Mean</th>\n",
       "      <td>-0.119569</td>\n",
       "      <td>-0.139673</td>\n",
       "      <td>1.000000</td>\n",
       "      <td>-0.104447</td>\n",
       "      <td>0.022448</td>\n",
       "      <td>0.448236</td>\n",
       "      <td>-0.128166</td>\n",
       "      <td>-0.054399</td>\n",
       "      <td>-0.011047</td>\n",
       "    </tr>\n",
       "    <tr>\n",
       "      <th>RBI_Mean</th>\n",
       "      <td>0.993616</td>\n",
       "      <td>0.647632</td>\n",
       "      <td>-0.104447</td>\n",
       "      <td>1.000000</td>\n",
       "      <td>0.516857</td>\n",
       "      <td>-0.290765</td>\n",
       "      <td>0.809158</td>\n",
       "      <td>0.784974</td>\n",
       "      <td>0.072198</td>\n",
       "    </tr>\n",
       "    <tr>\n",
       "      <th>BB_Mean</th>\n",
       "      <td>0.519330</td>\n",
       "      <td>-0.001666</td>\n",
       "      <td>0.022448</td>\n",
       "      <td>0.516857</td>\n",
       "      <td>1.000000</td>\n",
       "      <td>0.185592</td>\n",
       "      <td>0.064102</td>\n",
       "      <td>0.728892</td>\n",
       "      <td>0.059284</td>\n",
       "    </tr>\n",
       "    <tr>\n",
       "      <th>SO_Mean</th>\n",
       "      <td>-0.305816</td>\n",
       "      <td>-0.565792</td>\n",
       "      <td>0.448236</td>\n",
       "      <td>-0.290765</td>\n",
       "      <td>0.185592</td>\n",
       "      <td>1.000000</td>\n",
       "      <td>-0.373032</td>\n",
       "      <td>-0.258032</td>\n",
       "      <td>-0.024189</td>\n",
       "    </tr>\n",
       "    <tr>\n",
       "      <th>SLG_Mean</th>\n",
       "      <td>0.801165</td>\n",
       "      <td>0.707325</td>\n",
       "      <td>-0.128166</td>\n",
       "      <td>0.809158</td>\n",
       "      <td>0.064102</td>\n",
       "      <td>-0.373032</td>\n",
       "      <td>1.000000</td>\n",
       "      <td>0.481215</td>\n",
       "      <td>0.062675</td>\n",
       "    </tr>\n",
       "    <tr>\n",
       "      <th>OBP_Mean</th>\n",
       "      <td>0.797799</td>\n",
       "      <td>0.614857</td>\n",
       "      <td>-0.054399</td>\n",
       "      <td>0.784974</td>\n",
       "      <td>0.728892</td>\n",
       "      <td>-0.258032</td>\n",
       "      <td>0.481215</td>\n",
       "      <td>1.000000</td>\n",
       "      <td>0.061271</td>\n",
       "    </tr>\n",
       "    <tr>\n",
       "      <th>Runs</th>\n",
       "      <td>0.073651</td>\n",
       "      <td>0.028651</td>\n",
       "      <td>-0.011047</td>\n",
       "      <td>0.072198</td>\n",
       "      <td>0.059284</td>\n",
       "      <td>-0.024189</td>\n",
       "      <td>0.062675</td>\n",
       "      <td>0.061271</td>\n",
       "      <td>1.000000</td>\n",
       "    </tr>\n",
       "  </tbody>\n",
       "</table>\n",
       "</div>"
      ],
      "text/plain": [
       "             Runs_Mean  Hits_Mean  Errors_Mean  RBI_Mean   BB_Mean   SO_Mean  \\\n",
       "Runs_Mean     1.000000   0.664741    -0.119569  0.993616  0.519330 -0.305816   \n",
       "Hits_Mean     0.664741   1.000000    -0.139673  0.647632 -0.001666 -0.565792   \n",
       "Errors_Mean  -0.119569  -0.139673     1.000000 -0.104447  0.022448  0.448236   \n",
       "RBI_Mean      0.993616   0.647632    -0.104447  1.000000  0.516857 -0.290765   \n",
       "BB_Mean       0.519330  -0.001666     0.022448  0.516857  1.000000  0.185592   \n",
       "SO_Mean      -0.305816  -0.565792     0.448236 -0.290765  0.185592  1.000000   \n",
       "SLG_Mean      0.801165   0.707325    -0.128166  0.809158  0.064102 -0.373032   \n",
       "OBP_Mean      0.797799   0.614857    -0.054399  0.784974  0.728892 -0.258032   \n",
       "Runs          0.073651   0.028651    -0.011047  0.072198  0.059284 -0.024189   \n",
       "\n",
       "             SLG_Mean  OBP_Mean      Runs  \n",
       "Runs_Mean    0.801165  0.797799  0.073651  \n",
       "Hits_Mean    0.707325  0.614857  0.028651  \n",
       "Errors_Mean -0.128166 -0.054399 -0.011047  \n",
       "RBI_Mean     0.809158  0.784974  0.072198  \n",
       "BB_Mean      0.064102  0.728892  0.059284  \n",
       "SO_Mean     -0.373032 -0.258032 -0.024189  \n",
       "SLG_Mean     1.000000  0.481215  0.062675  \n",
       "OBP_Mean     0.481215  1.000000  0.061271  \n",
       "Runs         0.062675  0.061271  1.000000  "
      ]
     },
     "execution_count": 25,
     "metadata": {},
     "output_type": "execute_result"
    }
   ],
   "source": [
    "train[numerical_vars].corr()"
   ]
  },
  {
   "cell_type": "markdown",
   "metadata": {},
   "source": [
    "Let's convert the home/away variable into dummy variables."
   ]
  },
  {
   "cell_type": "code",
   "execution_count": 26,
   "metadata": {},
   "outputs": [],
   "source": [
    "train_dummies = pd.get_dummies(train[categorical_vars]).drop(columns=['HomeAway_Away'])\n",
    "train = pd.concat([train, train_dummies], axis=1)\n",
    "\n",
    "test_dummies = pd.get_dummies(test[categorical_vars]).drop(columns=['HomeAway_Away'])\n",
    "test = pd.concat([test, test_dummies], axis=1)"
   ]
  },
  {
   "cell_type": "markdown",
   "metadata": {},
   "source": [
    "## Model Selection\n",
    "### Linear Regression\n",
    "We'll begin by fitting a linear regression model using Recursive Feature Elimination."
   ]
  },
  {
   "cell_type": "code",
   "execution_count": 27,
   "metadata": {},
   "outputs": [
    {
     "name": "stdout",
     "output_type": "stream",
     "text": [
      "Index(['Runs_Mean', 'Hits_Mean', 'Errors_Mean', 'RBI_Mean', 'BB_Mean',\n",
      "       'SO_Mean', 'SLG_Mean', 'OBP_Mean', 'HomeAway_Home'],\n",
      "      dtype='object')\n"
     ]
    }
   ],
   "source": [
    "from sklearn.linear_model import LinearRegression\n",
    "from sklearn.feature_selection import RFECV\n",
    "from sklearn.model_selection import KFold\n",
    "\n",
    "predictors = numerical_vars[:-1] + ['HomeAway_Home']\n",
    "\n",
    "# Create cross validator\n",
    "kfolds = KFold(n_splits=10, random_state=1988, shuffle=True)\n",
    "\n",
    "# Define estimator\n",
    "lm = LinearRegression()\n",
    "\n",
    "# Create and fit selector\n",
    "selector = RFECV(lm, cv=kfolds, scoring='neg_mean_squared_error')\n",
    "selector.fit(train[predictors], train['Runs'])\n",
    "lm_best_predictors = train[predictors].columns[selector.support_]\n",
    "print(lm_best_predictors)\n",
    "\n",
    "# Extract model\n",
    "lm_best = selector.estimator_"
   ]
  },
  {
   "cell_type": "markdown",
   "metadata": {},
   "source": [
    "We'll now evaluate this on the test set and save the mean squared error."
   ]
  },
  {
   "cell_type": "code",
   "execution_count": 28,
   "metadata": {},
   "outputs": [
    {
     "name": "stdout",
     "output_type": "stream",
     "text": [
      "The root MSE for Linear Regression is 3.315191\n"
     ]
    }
   ],
   "source": [
    "from sklearn.metrics import mean_squared_error\n",
    "mses = {}\n",
    "predictions = lm_best.predict(test[lm_best_predictors])\n",
    "mses['Linear Regression'] = mean_squared_error(predictions, test['Runs'])\n",
    "print('The root MSE for Linear Regression is %f' % np.sqrt(mses['Linear Regression']))"
   ]
  },
  {
   "cell_type": "markdown",
   "metadata": {},
   "source": [
    "## LASSO and Ridge Regression\n",
    "\n",
    "When we plotted our correlation matrix we saw that there was quite a bit of collinearity. Let's apply LASSO and Ridge regression to see if we can improve on our estimates. We'll start with LASSO first."
   ]
  },
  {
   "cell_type": "code",
   "execution_count": 41,
   "metadata": {},
   "outputs": [
    {
     "data": {
      "image/png": "[encoded data removed]",
      "text/plain": [
       "<Figure size 432x288 with 1 Axes>"
      ]
     },
     "metadata": {
      "needs_background": "light"
     },
     "output_type": "display_data"
    }
   ],
   "source": [
    "from sklearn.linear_model import Lasso\n",
    "from sklearn.model_selection import cross_val_score\n",
    "\n",
    "# We'll try a variaty of different values for alpha (the coefficient on the L1 penalty)\n",
    "alphas = list(np.arange(.01, 1, .01))\n",
    "\n",
    "# Normalize data\n",
    "train_normalized = (train[predictors] - train[predictors].mean())/train[predictors].std()\n",
    "test_normalized = (test[predictors]-test[predictors].mean())/test[predictors].std()\n",
    "\n",
    "alpha_losses_lasso = []\n",
    "# Loop through alphas and test each one\n",
    "for alpha in alphas:\n",
    "    # Define LASSO estimator\n",
    "    lasso = Lasso(alpha=alpha)\n",
    "    \n",
    "    # Cross Validate using samel KFold as above\n",
    "    alpha_losses_lasso.append(cross_val_score(lasso, train_normalized, train['Runs'], scoring='neg_mean_squared_error', cv=kfolds).mean())\n",
    "    \n",
    "fig, ax = plt.subplots()\n",
    "ax.plot(alphas, alpha_losses_lasso)\n",
    "ax.set_xlabel('alpha')\n",
    "ax.set_ylabel('Negative Mean Squared Error')\n",
    "plt.show()"
   ]
  },
  {
   "cell_type": "markdown",
   "metadata": {},
   "source": [
    "Based on the plot above it indicates the the best mean_squared error is actually achieved by Linear Regression so we'll stop here with Lasso and take a quick look at Ridge."
   ]
  },
  {
   "cell_type": "code",
   "execution_count": 66,
   "metadata": {},
   "outputs": [
    {
     "data": {
      "image/png": "[encoded data removed]",
      "text/plain": [
       "<Figure size 432x288 with 1 Axes>"
      ]
     },
     "metadata": {
      "needs_background": "light"
     },
     "output_type": "display_data"
    },
    {
     "name": "stdout",
     "output_type": "stream",
     "text": [
      "260\n"
     ]
    }
   ],
   "source": [
    "from sklearn.linear_model import Ridge\n",
    "from sklearn.model_selection import cross_val_score\n",
    "\n",
    "# We'll try a variaty of different values for alpha (the coefficient on the L2 penalty)\n",
    "alphas = list(np.arange(0, 600, 10))\n",
    "\n",
    "alpha_losses_ridge = []\n",
    "# Loop through alphas and test each one\n",
    "for alpha in alphas:\n",
    "    # Define Ridge Regression estimator\n",
    "    ridge = Ridge(alpha=alpha)\n",
    "    \n",
    "    # Cross Validate using samel KFold as above\n",
    "    alpha_losses_ridge.append(cross_val_score(ridge, train_normalized, train['Runs'], scoring='neg_mean_squared_error', cv=kfolds).mean())\n",
    "    \n",
    "fig, ax = plt.subplots()\n",
    "ax.plot(alphas, alpha_losses_ridge)\n",
    "ax.ticklabel_format(useOffset=False)\n",
    "ax.set_xlabel('alpha')\n",
    "ax.set_ylabel('Negative Mean Squared Error')\n",
    "plt.show()\n",
    "print(alphas[alpha_losses_ridge.index(max(alpha_losses_ridge))])"
   ]
  },
  {
   "cell_type": "markdown",
   "metadata": {},
   "source": [
    "Based on the plot above we'll try out two diff values for alpha. We'll try 80 since the MSE seems to level off here. We'll also try 260 since that the true maximum in the above plot. Let's compare these two values to the test set and see how they do compared to Linear Regression."
   ]
  },
  {
   "cell_type": "code",
   "execution_count": 68,
   "metadata": {},
   "outputs": [
    {
     "name": "stdout",
     "output_type": "stream",
     "text": [
      "The root MSE for Ridge Regression with alpha=80.000000 is 3.315191\n",
      "The root MSE for Ridge Regression with alpha=260.000000 is 3.315191\n"
     ]
    }
   ],
   "source": [
    "alphas = [80, 260]\n",
    "\n",
    "for alpha in alphas:\n",
    "    # Define model\n",
    "    ridge = Ridge(alpha=alpha)\n",
    "    \n",
    "    # Fit model\n",
    "    ridge.fit(train_normalized, train['Runs'])\n",
    "    \n",
    "    # Make predictions\n",
    "    predictions = ridge.predict(test_normalized)\n",
    "    \n",
    "    # Compute MSE\n",
    "    mses['Ridge Regression '+ str(alpha)] = mean_squared_error(predictions, test['Runs'])\n",
    "    print('The root MSE for Ridge Regression with alpha=%f is %f' % (alpha, np.sqrt(mses['Linear Regression'])))"
   ]
  },
  {
   "cell_type": "markdown",
   "metadata": {},
   "source": [
    "These are almost exactly the same as Linear Regression. Let's try some more advance machine learning techniques."
   ]
  },
  {
   "cell_type": "markdown",
   "metadata": {},
   "source": [
    "## Random Forest"
   ]
  },
  {
   "cell_type": "code",
   "execution_count": null,
   "metadata": {},
   "outputs": [],
   "source": []
  }
 ],
 "metadata": {
  "kernelspec": {
   "display_name": "Python 3",
   "language": "python",
   "name": "python3"
  },
  "language_info": {
   "codemirror_mode": {
    "name": "ipython",
    "version": 3
   },
   "file_extension": ".py",
   "mimetype": "text/x-python",
   "name": "python",
   "nbconvert_exporter": "python",
   "pygments_lexer": "ipython3",
   "version": "3.8.1"
  }
 },
 "nbformat": 4,
 "nbformat_minor": 4
}
