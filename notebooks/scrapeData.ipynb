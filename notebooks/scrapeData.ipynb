{
 "cells": [
  {
   "cell_type": "code",
   "execution_count": 1,
   "metadata": {},
   "outputs": [],
   "source": [
    "import sys\n",
    "sys.path.append('/Users/efriedlander/Dropbox/SportsBetting/mlb-predict')\n",
    "from src.data import bbref_scrape\n",
    "import datetime\n",
    "import pickle as pkl\n",
    "import os\n",
    "parentDirectory = os.path.abspath(os.path.join(os.getcwd(), os.pardir))"
   ]
  },
  {
   "cell_type": "code",
   "execution_count": 2,
   "metadata": {},
   "outputs": [],
   "source": [
    "start19 = datetime.datetime(2019, 1, 1)\n",
    "end19 = datetime.datetime(2019, 12, 31)\n",
    "start18 = datetime.datetime(2018, 1, 1)\n",
    "end18 = datetime.datetime(2018, 12, 31)"
   ]
  },
  {
   "cell_type": "code",
   "execution_count": 3,
   "metadata": {},
   "outputs": [
    {
     "name": "stdout",
     "output_type": "stream",
     "text": [
      "Scraping https://www.baseball-reference.com/boxes/TOR/TOR201908140.shtml\r"
     ]
    }
   ],
   "source": [
    "links19 = bbref_scrape.get_box_score_links('ALL', start19, end19)\n",
    "boxscores19 = bbref_scrape.get_box_scores(links19)\n",
    "pkl.dump(boxscores19, open(os.path.join(parentDirectory, 'data', 'boxscores2019.p'), 'wb'))"
   ]
  },
  {
   "cell_type": "code",
   "execution_count": 4,
   "metadata": {},
   "outputs": [
    {
     "name": "stdout",
     "output_type": "stream",
     "text": [
      "Scraping https://www.baseball-reference.com/boxes/TOR/TOR201806170.shtml\r"
     ]
    }
   ],
   "source": [
    "links18 = bbref_scrape.get_box_score_links('ALL', start18, end18)\n",
    "boxscores18 = bbref_scrape.get_box_scores(links18)\n",
    "pkl.dump(boxscores18, open(os.path.join(parentDirectory, 'data', 'boxscores2018.p'), 'wb'))"
   ]
  },
  {
   "cell_type": "code",
   "execution_count": 6,
   "metadata": {},
   "outputs": [],
   "source": [
    "# start17 = datetime.datetime(2017, 1, 1)\n",
    "# end17 = datetime.datetime(2017, 12, 31)\n",
    "# links17 = bbref_scrape.get_box_score_links('ALL', start17, end17)\n",
    "# boxscores17 = bbref_scrape.get_box_scores(links17)\n",
    "pkl.dump(boxscores18, open(os.path.join(parentDirectory, 'data', 'boxscores2017.p'), 'wb'))"
   ]
  },
  {
   "cell_type": "code",
   "execution_count": null,
   "metadata": {},
   "outputs": [],
   "source": []
  }
 ],
 "metadata": {
  "kernelspec": {
   "display_name": "Python 3",
   "language": "python",
   "name": "python3"
  },
  "language_info": {
   "codemirror_mode": {
    "name": "ipython",
    "version": 3
   },
   "file_extension": ".py",
   "mimetype": "text/x-python",
   "name": "python",
   "nbconvert_exporter": "python",
   "pygments_lexer": "ipython3",
   "version": "3.8.1"
  }
 },
 "nbformat": 4,
 "nbformat_minor": 4
}
