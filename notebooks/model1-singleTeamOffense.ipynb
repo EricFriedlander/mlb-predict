{
 "cells": [
  {
   "cell_type": "markdown",
   "metadata": {},
   "source": [
    "# Model 1: Basic Regression for Predicting MLB Scores"
   ]
  },
  {
   "cell_type": "code",
   "execution_count": 59,
   "metadata": {},
   "outputs": [
    {
     "name": "stdout",
     "output_type": "stream",
     "text": [
      "The autoreload extension is already loaded. To reload it, use:\n",
      "  %reload_ext autoreload\n"
     ]
    }
   ],
   "source": [
    "%load_ext autoreload\n",
    "%autoreload 2\n",
    "import pandas as pd\n",
    "import numpy as np\n",
    "import sys\n",
    "import datetime\n",
    "import pickle as pkl\n",
    "import seaborn as sns\n",
    "import matplotlib.pyplot as plt\n",
    "#get parent directory:\n",
    "import os\n",
    "parentDirectory = os.path.abspath(os.path.join(os.getcwd(), os.pardir))\n",
    "sys.path.append('/Users/efriedlander/Dropbox/SportsBetting/mlb-predict')\n",
    "from src.data import bbref_scrape\n",
    "from src.data import clean_data"
   ]
  },
  {
   "cell_type": "markdown",
   "metadata": {},
   "source": [
    "## Data Preparation\n",
    "\n",
    "First scrape, import, and parse the data scraped from baseball-reference. We will save the parsed data so we don't have to repeat that step every time we run the notebook."
   ]
  },
  {
   "cell_type": "code",
   "execution_count": 60,
   "metadata": {},
   "outputs": [],
   "source": [
    "# start19 = datetime.datetime(2019, 1, 1)\n",
    "# end19 = datetime.datetime(2019, 12, 31)\n",
    "# start18 = datetime.datetime(2018, 1, 1)\n",
    "# end18 = datetime.datetime(2018, 12, 31)\n",
    "# start17 = datetime.datetime(2017, 1, 1)\n",
    "# end17 = datetime.datetime(2017, 12, 31)"
   ]
  },
  {
   "cell_type": "code",
   "execution_count": 61,
   "metadata": {},
   "outputs": [],
   "source": [
    "# links19 = bbref_scrape.get_box_score_links('ALL', start19, end19)\n",
    "# boxscores19 = bbref_scrape.get_box_scores(links19)\n",
    "# pkl.dump(boxscores19, open(os.path.join(parentDirectory, 'data', 'boxscores2019.p'), 'wb'))"
   ]
  },
  {
   "cell_type": "code",
   "execution_count": 62,
   "metadata": {},
   "outputs": [],
   "source": [
    "# links18 = bbref_scrape.get_box_score_links('ALL', start18, end18)\n",
    "# boxscores18 = bbref_scrape.get_box_scores(links18)\n",
    "# pkl.dump(boxscores18, open(os.path.join(parentDirectory, 'data', 'boxscores2018.p'), 'wb'))"
   ]
  },
  {
   "cell_type": "code",
   "execution_count": 63,
   "metadata": {},
   "outputs": [],
   "source": [
    "# links17 = bbref_scrape.get_box_score_links('ALL', start17, end17)\n",
    "# boxscores17 = bbref_scrape.get_box_scores(links17)\n",
    "# pkl.dump(boxscores17, open(os.path.join(parentDirectory, 'data', 'boxscores2017.p'), 'wb'))"
   ]
  },
  {
   "cell_type": "code",
   "execution_count": 64,
   "metadata": {
    "scrolled": true
   },
   "outputs": [],
   "source": [
    "# scores = pkl.load(open(os.path.join(parentDirectory, 'data', 'boxscores2019.p'), 'rb'))\n",
    "# parsed_scores = bbref_scrape.parse_box_scores(scores)\n",
    "# pkl.dump(parsed_scores, open(os.path.join(parentDirectory, 'data', 'parsedData2019.p'), 'wb'))\n",
    "\n",
    "# scores = pkl.load(open(os.path.join(parentDirectory, 'data', 'boxscores2018.p'), 'rb'))\n",
    "# parsed_scores = bbref_scrape.parse_box_scores(scores)\n",
    "# pkl.dump(parsed_scores, open(os.path.join(parentDirectory, 'data', 'parsedData2018.p'), 'wb'))\n",
    "\n",
    "# scores = pkl.load(open(os.path.join(parentDirectory, 'data', 'boxscores2017.p'), 'rb'))\n",
    "# parsed_scores = bbref_scrape.parse_box_scores(scores)\n",
    "# pkl.dump(parsed_scores, open(os.path.join(parentDirectory, 'data', 'parsedData2017.p'), 'wb'))"
   ]
  },
  {
   "cell_type": "markdown",
   "metadata": {},
   "source": [
    "Load the parsed data and concatenate 2017, 2018, and 2019 data."
   ]
  },
  {
   "cell_type": "code",
   "execution_count": 65,
   "metadata": {
    "scrolled": true
   },
   "outputs": [],
   "source": [
    "parsed19 = pkl.load(open(os.path.join(parentDirectory, 'data', 'parsedData2019.p'), 'rb'))"
   ]
  },
  {
   "cell_type": "markdown",
   "metadata": {},
   "source": [
    "### Team-Level Data"
   ]
  },
  {
   "cell_type": "markdown",
   "metadata": {},
   "source": [
    "The parser outputs four dataframes. For now we will only concern ourselves with the game and team level data."
   ]
  },
  {
   "cell_type": "code",
   "execution_count": 66,
   "metadata": {},
   "outputs": [],
   "source": [
    "game_level = parsed19['Game']\n",
    "team_level = parsed19['Team']"
   ]
  },
  {
   "cell_type": "code",
   "execution_count": 67,
   "metadata": {},
   "outputs": [
    {
     "data": {
      "text/plain": [
       "Index(['GameID', 'AwayTeam', 'HomeTeam', 'DateTime', 'Attendance', 'Venue',\n",
       "       'Duration', 'Details', 'AwayScore', 'HomeScore'],\n",
       "      dtype='object')"
      ]
     },
     "execution_count": 67,
     "metadata": {},
     "output_type": "execute_result"
    }
   ],
   "source": [
    "game_level.columns"
   ]
  },
  {
   "cell_type": "code",
   "execution_count": 68,
   "metadata": {},
   "outputs": [
    {
     "data": {
      "text/plain": [
       "Index(['GameID', 'Team', 'GameNum', 'Wins', 'Losses', 'HomeAway', 'Inn1',\n",
       "       'Inn2', 'Inn3', 'Inn4', 'Inn5', 'Inn6', 'Inn7', 'Inn8', 'Inn9', 'Runs',\n",
       "       'Hits', 'Errors', 'AB', 'R', 'H', 'RBI', 'BB', 'SO', 'PA', 'BA', 'OBP',\n",
       "       'SLG', 'OPS', 'Pit', 'Str', 'WPA', 'aLI', 'WPA+', 'WPA-', 'RE24', 'PO',\n",
       "       'A', 'Starter', 'IP', 'H_P', 'R_P', 'ER', 'BB_P', 'SO_P', 'HR_P', 'ERA',\n",
       "       'BF', 'Pit_P', 'Str_P', 'Ctct', 'StS', 'StL', 'GB', 'FB', 'LD', 'Unk',\n",
       "       'GSc', 'IR', 'IS', 'WPA_P', 'aLI_P', 'RE24_P', 'GameNumOpponent',\n",
       "       'Opponent'],\n",
       "      dtype='object')"
      ]
     },
     "execution_count": 68,
     "metadata": {},
     "output_type": "execute_result"
    }
   ],
   "source": [
    "team_level.columns"
   ]
  },
  {
   "cell_type": "markdown",
   "metadata": {},
   "source": [
    "For this first model we'll only consider a subset of the rows for each game. Let's extract the team variables that we'll be using and make sure they have the appropriate data types. In general, we're excluding any variables that are for single innings (`Inn1`,..., `Inn9`), any of the data for pitching (with a _P suffice), any statistics that are linear combinations of the others (OPS), and some of the mroe advanced statistics such as WPA. We'll definitely look into adding these to the model in the future in order to improve our predictions."
   ]
  },
  {
   "cell_type": "code",
   "execution_count": 69,
   "metadata": {},
   "outputs": [
    {
     "name": "stdout",
     "output_type": "stream",
     "text": [
      "<class 'pandas.core.frame.DataFrame'>\n",
      "Int64Index: 4858 entries, 0 to 4857\n",
      "Data columns (total 33 columns):\n",
      " #   Column               Non-Null Count  Dtype   \n",
      "---  ------               --------------  -----   \n",
      " 0   GameID               4858 non-null   int64   \n",
      " 1   Team                 4858 non-null   category\n",
      " 2   GameNum              4858 non-null   int64   \n",
      " 3   Opponent             4858 non-null   category\n",
      " 4   GameNumOpponent      4858 non-null   int64   \n",
      " 5   HomeAway             4858 non-null   category\n",
      " 6   Runs                 4858 non-null   int64   \n",
      " 7   Hits                 4858 non-null   int64   \n",
      " 8   Errors               4858 non-null   int64   \n",
      " 9   AB                   4858 non-null   int64   \n",
      " 10  RBI                  4858 non-null   int64   \n",
      " 11  BB                   4858 non-null   int64   \n",
      " 12  SO                   4858 non-null   int64   \n",
      " 13  PA                   4858 non-null   int64   \n",
      " 14  OBP                  4858 non-null   float64 \n",
      " 15  SLG                  4858 non-null   float64 \n",
      " 16  Starter              4858 non-null   category\n",
      " 17  Team_Opp             4858 non-null   category\n",
      " 18  GameNum_Opp          4858 non-null   int64   \n",
      " 19  Opponent_Opp         4858 non-null   category\n",
      " 20  GameNumOpponent_Opp  4858 non-null   int64   \n",
      " 21  HomeAway_Opp         4858 non-null   category\n",
      " 22  Runs_Opp             4858 non-null   int64   \n",
      " 23  Hits_Opp             4858 non-null   int64   \n",
      " 24  Errors_Opp           4858 non-null   int64   \n",
      " 25  AB_Opp               4858 non-null   int64   \n",
      " 26  RBI_Opp              4858 non-null   int64   \n",
      " 27  BB_Opp               4858 non-null   int64   \n",
      " 28  SO_Opp               4858 non-null   int64   \n",
      " 29  PA_Opp               4858 non-null   int64   \n",
      " 30  OBP_Opp              4858 non-null   float64 \n",
      " 31  SLG_Opp              4858 non-null   float64 \n",
      " 32  Starter_Opp          4858 non-null   category\n",
      "dtypes: category(8), float64(4), int64(21)\n",
      "memory usage: 1.0 MB\n"
     ]
    }
   ],
   "source": [
    "team_data = team_level[['GameID', 'Team', 'GameNum', 'Opponent', 'GameNumOpponent', 'HomeAway', 'Runs', 'Hits', 'Errors', 'AB', \n",
    "                        'RBI', 'BB', 'SO', 'PA', 'OBP', 'SLG', 'Starter']].astype({'GameID' : 'int',\n",
    "                                                                                                 'Team' : 'category',\n",
    "                                                                                                 'GameNum' : 'int',\n",
    "                                                                                                 'Opponent' : 'category',\n",
    "                                                                                                 'GameNumOpponent' : 'int',\n",
    "                                                                                                 'HomeAway' : 'category',\n",
    "                                                                                                 'Runs' : 'int',\n",
    "                                                                                                 'Hits' : 'int',\n",
    "                                                                                                 'Errors' : 'int',\n",
    "                                                                                                 'AB': 'int',\n",
    "                                                                                                 'RBI' : 'int', \n",
    "                                                                                                 'BB' : 'int', \n",
    "                                                                                                 'SO' : 'int', \n",
    "                                                                                                 'PA' : 'int', \n",
    "                                                                                                 'OBP' : 'float', \n",
    "                                                                                                 'SLG' : 'float', \n",
    "                                                                                                 'Starter' : 'category'}, copy=False)\n",
    "team_data = team_data.merge(team_data.copy(), how='left', left_on=['GameID', 'Opponent'], right_on=['GameID', 'Team'], suffixes=('', '_Opp'))\n",
    "team_data.info()"
   ]
  },
  {
   "cell_type": "code",
   "execution_count": 70,
   "metadata": {},
   "outputs": [
    {
     "data": {
      "text/html": [
       "<div>\n",
       "<style scoped>\n",
       "    .dataframe tbody tr th:only-of-type {\n",
       "        vertical-align: middle;\n",
       "    }\n",
       "\n",
       "    .dataframe tbody tr th {\n",
       "        vertical-align: top;\n",
       "    }\n",
       "\n",
       "    .dataframe thead th {\n",
       "        text-align: right;\n",
       "    }\n",
       "</style>\n",
       "<table border=\"1\" class=\"dataframe\">\n",
       "  <thead>\n",
       "    <tr style=\"text-align: right;\">\n",
       "      <th></th>\n",
       "      <th>GameID</th>\n",
       "      <th>GameNum</th>\n",
       "      <th>GameNumOpponent</th>\n",
       "      <th>Runs</th>\n",
       "      <th>Hits</th>\n",
       "      <th>Errors</th>\n",
       "      <th>AB</th>\n",
       "      <th>RBI</th>\n",
       "      <th>BB</th>\n",
       "      <th>SO</th>\n",
       "      <th>PA</th>\n",
       "      <th>OBP</th>\n",
       "      <th>SLG</th>\n",
       "      <th>GameNum_Opp</th>\n",
       "      <th>GameNumOpponent_Opp</th>\n",
       "      <th>Runs_Opp</th>\n",
       "      <th>Hits_Opp</th>\n",
       "      <th>Errors_Opp</th>\n",
       "      <th>AB_Opp</th>\n",
       "      <th>RBI_Opp</th>\n",
       "      <th>BB_Opp</th>\n",
       "      <th>SO_Opp</th>\n",
       "      <th>PA_Opp</th>\n",
       "      <th>OBP_Opp</th>\n",
       "      <th>SLG_Opp</th>\n",
       "    </tr>\n",
       "  </thead>\n",
       "  <tbody>\n",
       "    <tr>\n",
       "      <th>count</th>\n",
       "      <td>4.858000e+03</td>\n",
       "      <td>4858.000000</td>\n",
       "      <td>4858.000000</td>\n",
       "      <td>4858.000000</td>\n",
       "      <td>4858.000000</td>\n",
       "      <td>4858.000000</td>\n",
       "      <td>4858.000000</td>\n",
       "      <td>4858.000000</td>\n",
       "      <td>4858.000000</td>\n",
       "      <td>4858.000000</td>\n",
       "      <td>4858.000000</td>\n",
       "      <td>4858.000000</td>\n",
       "      <td>4858.000000</td>\n",
       "      <td>4858.000000</td>\n",
       "      <td>4858.000000</td>\n",
       "      <td>4858.000000</td>\n",
       "      <td>4858.000000</td>\n",
       "      <td>4858.000000</td>\n",
       "      <td>4858.000000</td>\n",
       "      <td>4858.000000</td>\n",
       "      <td>4858.000000</td>\n",
       "      <td>4858.000000</td>\n",
       "      <td>4858.000000</td>\n",
       "      <td>4858.000000</td>\n",
       "      <td>4858.000000</td>\n",
       "    </tr>\n",
       "    <tr>\n",
       "      <th>mean</th>\n",
       "      <td>6.023130e+16</td>\n",
       "      <td>81.466859</td>\n",
       "      <td>81.466859</td>\n",
       "      <td>4.830589</td>\n",
       "      <td>8.653561</td>\n",
       "      <td>0.594277</td>\n",
       "      <td>34.304446</td>\n",
       "      <td>4.625566</td>\n",
       "      <td>3.271923</td>\n",
       "      <td>8.814944</td>\n",
       "      <td>38.393783</td>\n",
       "      <td>0.315166</td>\n",
       "      <td>0.425445</td>\n",
       "      <td>81.466859</td>\n",
       "      <td>81.466859</td>\n",
       "      <td>4.830589</td>\n",
       "      <td>8.653561</td>\n",
       "      <td>0.594277</td>\n",
       "      <td>34.304446</td>\n",
       "      <td>4.625566</td>\n",
       "      <td>3.271923</td>\n",
       "      <td>8.814944</td>\n",
       "      <td>38.393783</td>\n",
       "      <td>0.315166</td>\n",
       "      <td>0.425445</td>\n",
       "    </tr>\n",
       "    <tr>\n",
       "      <th>std</th>\n",
       "      <td>5.350388e+18</td>\n",
       "      <td>46.750379</td>\n",
       "      <td>46.750379</td>\n",
       "      <td>3.322411</td>\n",
       "      <td>3.504400</td>\n",
       "      <td>0.797014</td>\n",
       "      <td>4.492180</td>\n",
       "      <td>3.227491</td>\n",
       "      <td>2.088913</td>\n",
       "      <td>3.092248</td>\n",
       "      <td>5.450163</td>\n",
       "      <td>0.084089</td>\n",
       "      <td>0.169419</td>\n",
       "      <td>46.750379</td>\n",
       "      <td>46.750379</td>\n",
       "      <td>3.322411</td>\n",
       "      <td>3.504400</td>\n",
       "      <td>0.797014</td>\n",
       "      <td>4.492180</td>\n",
       "      <td>3.227491</td>\n",
       "      <td>2.088913</td>\n",
       "      <td>3.092248</td>\n",
       "      <td>5.450163</td>\n",
       "      <td>0.084089</td>\n",
       "      <td>0.169419</td>\n",
       "    </tr>\n",
       "    <tr>\n",
       "      <th>min</th>\n",
       "      <td>-9.215042e+18</td>\n",
       "      <td>1.000000</td>\n",
       "      <td>1.000000</td>\n",
       "      <td>0.000000</td>\n",
       "      <td>0.000000</td>\n",
       "      <td>0.000000</td>\n",
       "      <td>17.000000</td>\n",
       "      <td>0.000000</td>\n",
       "      <td>0.000000</td>\n",
       "      <td>1.000000</td>\n",
       "      <td>17.000000</td>\n",
       "      <td>0.034000</td>\n",
       "      <td>0.000000</td>\n",
       "      <td>1.000000</td>\n",
       "      <td>1.000000</td>\n",
       "      <td>0.000000</td>\n",
       "      <td>0.000000</td>\n",
       "      <td>0.000000</td>\n",
       "      <td>17.000000</td>\n",
       "      <td>0.000000</td>\n",
       "      <td>0.000000</td>\n",
       "      <td>1.000000</td>\n",
       "      <td>17.000000</td>\n",
       "      <td>0.034000</td>\n",
       "      <td>0.000000</td>\n",
       "    </tr>\n",
       "    <tr>\n",
       "      <th>25%</th>\n",
       "      <td>-4.658990e+18</td>\n",
       "      <td>41.000000</td>\n",
       "      <td>41.000000</td>\n",
       "      <td>2.000000</td>\n",
       "      <td>6.000000</td>\n",
       "      <td>0.000000</td>\n",
       "      <td>31.000000</td>\n",
       "      <td>2.000000</td>\n",
       "      <td>2.000000</td>\n",
       "      <td>7.000000</td>\n",
       "      <td>35.000000</td>\n",
       "      <td>0.257000</td>\n",
       "      <td>0.303000</td>\n",
       "      <td>41.000000</td>\n",
       "      <td>41.000000</td>\n",
       "      <td>2.000000</td>\n",
       "      <td>6.000000</td>\n",
       "      <td>0.000000</td>\n",
       "      <td>31.000000</td>\n",
       "      <td>2.000000</td>\n",
       "      <td>2.000000</td>\n",
       "      <td>7.000000</td>\n",
       "      <td>35.000000</td>\n",
       "      <td>0.257000</td>\n",
       "      <td>0.303000</td>\n",
       "    </tr>\n",
       "    <tr>\n",
       "      <th>50%</th>\n",
       "      <td>4.633219e+16</td>\n",
       "      <td>81.000000</td>\n",
       "      <td>81.000000</td>\n",
       "      <td>4.000000</td>\n",
       "      <td>8.000000</td>\n",
       "      <td>0.000000</td>\n",
       "      <td>34.000000</td>\n",
       "      <td>4.000000</td>\n",
       "      <td>3.000000</td>\n",
       "      <td>9.000000</td>\n",
       "      <td>38.000000</td>\n",
       "      <td>0.316000</td>\n",
       "      <td>0.415000</td>\n",
       "      <td>81.000000</td>\n",
       "      <td>81.000000</td>\n",
       "      <td>4.000000</td>\n",
       "      <td>8.000000</td>\n",
       "      <td>0.000000</td>\n",
       "      <td>34.000000</td>\n",
       "      <td>4.000000</td>\n",
       "      <td>3.000000</td>\n",
       "      <td>9.000000</td>\n",
       "      <td>38.000000</td>\n",
       "      <td>0.316000</td>\n",
       "      <td>0.415000</td>\n",
       "    </tr>\n",
       "    <tr>\n",
       "      <th>75%</th>\n",
       "      <td>4.777229e+18</td>\n",
       "      <td>122.000000</td>\n",
       "      <td>122.000000</td>\n",
       "      <td>7.000000</td>\n",
       "      <td>11.000000</td>\n",
       "      <td>1.000000</td>\n",
       "      <td>36.000000</td>\n",
       "      <td>6.000000</td>\n",
       "      <td>5.000000</td>\n",
       "      <td>11.000000</td>\n",
       "      <td>41.000000</td>\n",
       "      <td>0.375000</td>\n",
       "      <td>0.533000</td>\n",
       "      <td>122.000000</td>\n",
       "      <td>122.000000</td>\n",
       "      <td>7.000000</td>\n",
       "      <td>11.000000</td>\n",
       "      <td>1.000000</td>\n",
       "      <td>36.000000</td>\n",
       "      <td>6.000000</td>\n",
       "      <td>5.000000</td>\n",
       "      <td>11.000000</td>\n",
       "      <td>41.000000</td>\n",
       "      <td>0.375000</td>\n",
       "      <td>0.533000</td>\n",
       "    </tr>\n",
       "    <tr>\n",
       "      <th>max</th>\n",
       "      <td>9.218301e+18</td>\n",
       "      <td>162.000000</td>\n",
       "      <td>162.000000</td>\n",
       "      <td>23.000000</td>\n",
       "      <td>25.000000</td>\n",
       "      <td>6.000000</td>\n",
       "      <td>69.000000</td>\n",
       "      <td>21.000000</td>\n",
       "      <td>12.000000</td>\n",
       "      <td>26.000000</td>\n",
       "      <td>74.000000</td>\n",
       "      <td>0.560000</td>\n",
       "      <td>1.175000</td>\n",
       "      <td>162.000000</td>\n",
       "      <td>162.000000</td>\n",
       "      <td>23.000000</td>\n",
       "      <td>25.000000</td>\n",
       "      <td>6.000000</td>\n",
       "      <td>69.000000</td>\n",
       "      <td>21.000000</td>\n",
       "      <td>12.000000</td>\n",
       "      <td>26.000000</td>\n",
       "      <td>74.000000</td>\n",
       "      <td>0.560000</td>\n",
       "      <td>1.175000</td>\n",
       "    </tr>\n",
       "  </tbody>\n",
       "</table>\n",
       "</div>"
      ],
      "text/plain": [
       "             GameID      GameNum  GameNumOpponent         Runs         Hits  \\\n",
       "count  4.858000e+03  4858.000000      4858.000000  4858.000000  4858.000000   \n",
       "mean   6.023130e+16    81.466859        81.466859     4.830589     8.653561   \n",
       "std    5.350388e+18    46.750379        46.750379     3.322411     3.504400   \n",
       "min   -9.215042e+18     1.000000         1.000000     0.000000     0.000000   \n",
       "25%   -4.658990e+18    41.000000        41.000000     2.000000     6.000000   \n",
       "50%    4.633219e+16    81.000000        81.000000     4.000000     8.000000   \n",
       "75%    4.777229e+18   122.000000       122.000000     7.000000    11.000000   \n",
       "max    9.218301e+18   162.000000       162.000000    23.000000    25.000000   \n",
       "\n",
       "            Errors           AB          RBI           BB           SO  \\\n",
       "count  4858.000000  4858.000000  4858.000000  4858.000000  4858.000000   \n",
       "mean      0.594277    34.304446     4.625566     3.271923     8.814944   \n",
       "std       0.797014     4.492180     3.227491     2.088913     3.092248   \n",
       "min       0.000000    17.000000     0.000000     0.000000     1.000000   \n",
       "25%       0.000000    31.000000     2.000000     2.000000     7.000000   \n",
       "50%       0.000000    34.000000     4.000000     3.000000     9.000000   \n",
       "75%       1.000000    36.000000     6.000000     5.000000    11.000000   \n",
       "max       6.000000    69.000000    21.000000    12.000000    26.000000   \n",
       "\n",
       "                PA          OBP          SLG  GameNum_Opp  \\\n",
       "count  4858.000000  4858.000000  4858.000000  4858.000000   \n",
       "mean     38.393783     0.315166     0.425445    81.466859   \n",
       "std       5.450163     0.084089     0.169419    46.750379   \n",
       "min      17.000000     0.034000     0.000000     1.000000   \n",
       "25%      35.000000     0.257000     0.303000    41.000000   \n",
       "50%      38.000000     0.316000     0.415000    81.000000   \n",
       "75%      41.000000     0.375000     0.533000   122.000000   \n",
       "max      74.000000     0.560000     1.175000   162.000000   \n",
       "\n",
       "       GameNumOpponent_Opp     Runs_Opp     Hits_Opp   Errors_Opp  \\\n",
       "count          4858.000000  4858.000000  4858.000000  4858.000000   \n",
       "mean             81.466859     4.830589     8.653561     0.594277   \n",
       "std              46.750379     3.322411     3.504400     0.797014   \n",
       "min               1.000000     0.000000     0.000000     0.000000   \n",
       "25%              41.000000     2.000000     6.000000     0.000000   \n",
       "50%              81.000000     4.000000     8.000000     0.000000   \n",
       "75%             122.000000     7.000000    11.000000     1.000000   \n",
       "max             162.000000    23.000000    25.000000     6.000000   \n",
       "\n",
       "            AB_Opp      RBI_Opp       BB_Opp       SO_Opp       PA_Opp  \\\n",
       "count  4858.000000  4858.000000  4858.000000  4858.000000  4858.000000   \n",
       "mean     34.304446     4.625566     3.271923     8.814944    38.393783   \n",
       "std       4.492180     3.227491     2.088913     3.092248     5.450163   \n",
       "min      17.000000     0.000000     0.000000     1.000000    17.000000   \n",
       "25%      31.000000     2.000000     2.000000     7.000000    35.000000   \n",
       "50%      34.000000     4.000000     3.000000     9.000000    38.000000   \n",
       "75%      36.000000     6.000000     5.000000    11.000000    41.000000   \n",
       "max      69.000000    21.000000    12.000000    26.000000    74.000000   \n",
       "\n",
       "           OBP_Opp      SLG_Opp  \n",
       "count  4858.000000  4858.000000  \n",
       "mean      0.315166     0.425445  \n",
       "std       0.084089     0.169419  \n",
       "min       0.034000     0.000000  \n",
       "25%       0.257000     0.303000  \n",
       "50%       0.316000     0.415000  \n",
       "75%       0.375000     0.533000  \n",
       "max       0.560000     1.175000  "
      ]
     },
     "execution_count": 70,
     "metadata": {},
     "output_type": "execute_result"
    }
   ],
   "source": [
    "team_data.describe()"
   ]
  },
  {
   "cell_type": "markdown",
   "metadata": {},
   "source": [
    "On base percentage `OBP` and slugging percentage `SLG` and computed per plate appearance `PA` and at-bat `AB`, respectively. Since there are a different number of plate appearances and at-bats per game it makes more sense to keep track of the cumulative total `PA` and `AB`, and the cumulative total of the numerator of `OBP` and `SLG` so that our averages are correct."
   ]
  },
  {
   "cell_type": "code",
   "execution_count": 71,
   "metadata": {},
   "outputs": [],
   "source": [
    "# Note that the denominator of OBP is not technically plate appearances. There are some rare events which not counted such as sacrifice bunts\n",
    "# But this is a very close approximation\n",
    "team_data['OBP_NUM'] = team_data['OBP']*team_data['PA']\n",
    "team_data['SLG_NUM'] = team_data['SLG']*team_data['AB']\n",
    "team_data['OBP_NUM_Opp'] = team_data['OBP_Opp']*team_data['PA_Opp']\n",
    "team_data['SLG_NUM_Opp'] = team_data['SLG_Opp']*team_data['AB_Opp']"
   ]
  },
  {
   "cell_type": "markdown",
   "metadata": {},
   "source": [
    "We'll now compute all of the running averages runs, hits, errors, RBI's, walks, and strikeouts."
   ]
  },
  {
   "cell_type": "code",
   "execution_count": 72,
   "metadata": {},
   "outputs": [],
   "source": [
    "mean_vars = ['Runs_Mean', 'Hits_Mean', 'Errors_Mean', 'RBI_Mean', 'BB_Mean', 'SO_Mean', 'Runs_Mean_Opp', 'Hits_Mean_Opp', \n",
    "                'Errors_Mean_Opp', 'RBI_Mean_Opp', 'BB_Mean_Opp', 'SO_Mean_Opp']\n",
    "to_sum = ['Runs', 'Hits', 'Errors', 'RBI', 'BB', 'SO', 'Runs_Opp', 'Hits_Opp', 'Errors_Opp', 'RBI_Opp', 'BB_Opp', 'SO_Opp']\n",
    "team_data.sort_values(by='GameNum', inplace=True)\n",
    "team_data[mean_vars] = (team_data.groupby(by='Team').expanding()\n",
    "                                                   .mean()[to_sum].reset_index(level=0, drop=True))"
   ]
  },
  {
   "cell_type": "markdown",
   "metadata": {},
   "source": [
    "Now compute the running totals of at bats, plate appearances, and the numerators of on-base percentage (OBP) and slugging percentage (SLG). We'll then compute the running average of OBP and SLG."
   ]
  },
  {
   "cell_type": "code",
   "execution_count": 73,
   "metadata": {},
   "outputs": [],
   "source": [
    "# Compute cumulative totals\n",
    "sum_vars = ['AB_Total', 'PA_Total', 'OBP_NUM_Total', 'SLG_NUM_Total',\n",
    "      'AB_Total_Opp', 'PA_Total_Opp', 'OBP_NUM_Total_Opp', 'SLG_NUM_Total_Opp']\n",
    "to_sum = ['AB', 'PA', 'OBP_NUM', 'SLG_NUM', 'AB_Opp', 'PA_Opp', 'OBP_NUM_Opp', 'SLG_NUM_Opp']\n",
    "team_data[sum_vars] = (team_data.groupby(by='Team').expanding().sum()[to_sum].reset_index(level=0, drop=True))\n",
    "\n",
    "# Compute cumulative slugging and on-base percentage\n",
    "team_data['SLG_Mean'] = team_data['SLG_NUM_Total'] / team_data['PA_Total']\n",
    "team_data['OBP_Mean'] = team_data['OBP_NUM_Total'] / team_data['AB_Total']\n",
    "team_data['SLG_Mean_Opp'] = team_data['SLG_NUM_Total_Opp'] / team_data['PA_Total_Opp']\n",
    "team_data['OBP_Mean_Opp'] = team_data['OBP_NUM_Total_Opp'] / team_data['AB_Total_Opp']"
   ]
  },
  {
   "cell_type": "markdown",
   "metadata": {},
   "source": [
    "Finally, any predictions we make will need to be computed from data availbe before the game starts so we'll have to lag some of the data."
   ]
  },
  {
   "cell_type": "code",
   "execution_count": 74,
   "metadata": {},
   "outputs": [
    {
     "data": {
      "text/html": [
       "<div>\n",
       "<style scoped>\n",
       "    .dataframe tbody tr th:only-of-type {\n",
       "        vertical-align: middle;\n",
       "    }\n",
       "\n",
       "    .dataframe tbody tr th {\n",
       "        vertical-align: top;\n",
       "    }\n",
       "\n",
       "    .dataframe thead th {\n",
       "        text-align: right;\n",
       "    }\n",
       "</style>\n",
       "<table border=\"1\" class=\"dataframe\">\n",
       "  <thead>\n",
       "    <tr style=\"text-align: right;\">\n",
       "      <th></th>\n",
       "      <th>GameID</th>\n",
       "      <th>Team</th>\n",
       "      <th>GameNum</th>\n",
       "      <th>Opponent</th>\n",
       "      <th>GameNumOpponent</th>\n",
       "      <th>HomeAway</th>\n",
       "      <th>Runs</th>\n",
       "      <th>Hits</th>\n",
       "      <th>Errors</th>\n",
       "      <th>AB</th>\n",
       "      <th>RBI</th>\n",
       "      <th>BB</th>\n",
       "      <th>SO</th>\n",
       "      <th>PA</th>\n",
       "      <th>OBP</th>\n",
       "      <th>SLG</th>\n",
       "      <th>Starter</th>\n",
       "      <th>Team_Opp</th>\n",
       "      <th>GameNum_Opp</th>\n",
       "      <th>Opponent_Opp</th>\n",
       "      <th>GameNumOpponent_Opp</th>\n",
       "      <th>HomeAway_Opp</th>\n",
       "      <th>Runs_Opp</th>\n",
       "      <th>Hits_Opp</th>\n",
       "      <th>Errors_Opp</th>\n",
       "      <th>AB_Opp</th>\n",
       "      <th>RBI_Opp</th>\n",
       "      <th>BB_Opp</th>\n",
       "      <th>SO_Opp</th>\n",
       "      <th>PA_Opp</th>\n",
       "      <th>OBP_Opp</th>\n",
       "      <th>SLG_Opp</th>\n",
       "      <th>Starter_Opp</th>\n",
       "      <th>OBP_NUM</th>\n",
       "      <th>SLG_NUM</th>\n",
       "      <th>OBP_NUM_Opp</th>\n",
       "      <th>SLG_NUM_Opp</th>\n",
       "      <th>Runs_Mean</th>\n",
       "      <th>Hits_Mean</th>\n",
       "      <th>Errors_Mean</th>\n",
       "      <th>RBI_Mean</th>\n",
       "      <th>BB_Mean</th>\n",
       "      <th>SO_Mean</th>\n",
       "      <th>Runs_Mean_Opp</th>\n",
       "      <th>Hits_Mean_Opp</th>\n",
       "      <th>Errors_Mean_Opp</th>\n",
       "      <th>RBI_Mean_Opp</th>\n",
       "      <th>BB_Mean_Opp</th>\n",
       "      <th>SO_Mean_Opp</th>\n",
       "      <th>AB_Total</th>\n",
       "      <th>PA_Total</th>\n",
       "      <th>OBP_NUM_Total</th>\n",
       "      <th>SLG_NUM_Total</th>\n",
       "      <th>AB_Total_Opp</th>\n",
       "      <th>PA_Total_Opp</th>\n",
       "      <th>OBP_NUM_Total_Opp</th>\n",
       "      <th>SLG_NUM_Total_Opp</th>\n",
       "      <th>SLG_Mean</th>\n",
       "      <th>OBP_Mean</th>\n",
       "      <th>SLG_Mean_Opp</th>\n",
       "      <th>OBP_Mean_Opp</th>\n",
       "    </tr>\n",
       "  </thead>\n",
       "  <tbody>\n",
       "    <tr>\n",
       "      <th>4277</th>\n",
       "      <td>-880284580264118396</td>\n",
       "      <td>Texas Rangers</td>\n",
       "      <td>162</td>\n",
       "      <td>New York Yankees</td>\n",
       "      <td>162</td>\n",
       "      <td>Home</td>\n",
       "      <td>6</td>\n",
       "      <td>10</td>\n",
       "      <td>0</td>\n",
       "      <td>31</td>\n",
       "      <td>4</td>\n",
       "      <td>4</td>\n",
       "      <td>6</td>\n",
       "      <td>37</td>\n",
       "      <td>0.405</td>\n",
       "      <td>0.355</td>\n",
       "      <td>Lance Lynn</td>\n",
       "      <td>New York Yankees</td>\n",
       "      <td>162</td>\n",
       "      <td>Texas Rangers</td>\n",
       "      <td>162</td>\n",
       "      <td>Away</td>\n",
       "      <td>1</td>\n",
       "      <td>3</td>\n",
       "      <td>2</td>\n",
       "      <td>30</td>\n",
       "      <td>1</td>\n",
       "      <td>1</td>\n",
       "      <td>13</td>\n",
       "      <td>31</td>\n",
       "      <td>0.129</td>\n",
       "      <td>0.200</td>\n",
       "      <td>Chad Green</td>\n",
       "      <td>14.985</td>\n",
       "      <td>11.005</td>\n",
       "      <td>3.999</td>\n",
       "      <td>6.000</td>\n",
       "      <td>4.993789</td>\n",
       "      <td>8.472050</td>\n",
       "      <td>0.645963</td>\n",
       "      <td>4.726708</td>\n",
       "      <td>3.291925</td>\n",
       "      <td>9.763975</td>\n",
       "      <td>5.447205</td>\n",
       "      <td>9.391304</td>\n",
       "      <td>0.844720</td>\n",
       "      <td>5.204969</td>\n",
       "      <td>3.614907</td>\n",
       "      <td>8.484472</td>\n",
       "      <td>5540.0</td>\n",
       "      <td>6204.0</td>\n",
       "      <td>1980.184</td>\n",
       "      <td>2386.992</td>\n",
       "      <td>5629.0</td>\n",
       "      <td>6354.0</td>\n",
       "      <td>2175.685</td>\n",
       "      <td>2611.676</td>\n",
       "      <td>0.385274</td>\n",
       "      <td>0.356725</td>\n",
       "      <td>0.412095</td>\n",
       "      <td>0.387870</td>\n",
       "    </tr>\n",
       "    <tr>\n",
       "      <th>1529</th>\n",
       "      <td>-5632484825522276387</td>\n",
       "      <td>St. Louis Cardinals</td>\n",
       "      <td>162</td>\n",
       "      <td>Chicago Cubs</td>\n",
       "      <td>162</td>\n",
       "      <td>Home</td>\n",
       "      <td>9</td>\n",
       "      <td>9</td>\n",
       "      <td>0</td>\n",
       "      <td>32</td>\n",
       "      <td>8</td>\n",
       "      <td>8</td>\n",
       "      <td>7</td>\n",
       "      <td>41</td>\n",
       "      <td>0.439</td>\n",
       "      <td>0.563</td>\n",
       "      <td>Jack Flaherty</td>\n",
       "      <td>Chicago Cubs</td>\n",
       "      <td>162</td>\n",
       "      <td>St. Louis Cardinals</td>\n",
       "      <td>162</td>\n",
       "      <td>Away</td>\n",
       "      <td>0</td>\n",
       "      <td>3</td>\n",
       "      <td>0</td>\n",
       "      <td>27</td>\n",
       "      <td>0</td>\n",
       "      <td>1</td>\n",
       "      <td>7</td>\n",
       "      <td>28</td>\n",
       "      <td>0.143</td>\n",
       "      <td>0.111</td>\n",
       "      <td>Derek Holland</td>\n",
       "      <td>17.999</td>\n",
       "      <td>18.016</td>\n",
       "      <td>4.004</td>\n",
       "      <td>2.997</td>\n",
       "      <td>4.689441</td>\n",
       "      <td>8.242236</td>\n",
       "      <td>0.409938</td>\n",
       "      <td>4.385093</td>\n",
       "      <td>3.434783</td>\n",
       "      <td>8.776398</td>\n",
       "      <td>4.111801</td>\n",
       "      <td>7.956522</td>\n",
       "      <td>0.726708</td>\n",
       "      <td>3.987578</td>\n",
       "      <td>3.378882</td>\n",
       "      <td>8.645963</td>\n",
       "      <td>5449.0</td>\n",
       "      <td>6167.0</td>\n",
       "      <td>1987.214</td>\n",
       "      <td>2259.996</td>\n",
       "      <td>5389.0</td>\n",
       "      <td>6068.0</td>\n",
       "      <td>1907.037</td>\n",
       "      <td>2141.193</td>\n",
       "      <td>0.365978</td>\n",
       "      <td>0.363525</td>\n",
       "      <td>0.354006</td>\n",
       "      <td>0.354911</td>\n",
       "    </tr>\n",
       "    <tr>\n",
       "      <th>1528</th>\n",
       "      <td>-5632484825522276387</td>\n",
       "      <td>Chicago Cubs</td>\n",
       "      <td>162</td>\n",
       "      <td>St. Louis Cardinals</td>\n",
       "      <td>162</td>\n",
       "      <td>Away</td>\n",
       "      <td>0</td>\n",
       "      <td>3</td>\n",
       "      <td>0</td>\n",
       "      <td>27</td>\n",
       "      <td>0</td>\n",
       "      <td>1</td>\n",
       "      <td>7</td>\n",
       "      <td>28</td>\n",
       "      <td>0.143</td>\n",
       "      <td>0.111</td>\n",
       "      <td>Derek Holland</td>\n",
       "      <td>St. Louis Cardinals</td>\n",
       "      <td>162</td>\n",
       "      <td>Chicago Cubs</td>\n",
       "      <td>162</td>\n",
       "      <td>Home</td>\n",
       "      <td>9</td>\n",
       "      <td>9</td>\n",
       "      <td>0</td>\n",
       "      <td>32</td>\n",
       "      <td>8</td>\n",
       "      <td>8</td>\n",
       "      <td>7</td>\n",
       "      <td>41</td>\n",
       "      <td>0.439</td>\n",
       "      <td>0.563</td>\n",
       "      <td>Jack Flaherty</td>\n",
       "      <td>4.004</td>\n",
       "      <td>2.997</td>\n",
       "      <td>17.999</td>\n",
       "      <td>18.016</td>\n",
       "      <td>5.055901</td>\n",
       "      <td>8.540373</td>\n",
       "      <td>0.732919</td>\n",
       "      <td>4.863354</td>\n",
       "      <td>3.602484</td>\n",
       "      <td>9.024845</td>\n",
       "      <td>4.397516</td>\n",
       "      <td>8.490683</td>\n",
       "      <td>0.465839</td>\n",
       "      <td>4.111801</td>\n",
       "      <td>3.267081</td>\n",
       "      <td>8.925466</td>\n",
       "      <td>5461.0</td>\n",
       "      <td>6195.0</td>\n",
       "      <td>2052.831</td>\n",
       "      <td>2468.260</td>\n",
       "      <td>5492.0</td>\n",
       "      <td>6190.0</td>\n",
       "      <td>2002.331</td>\n",
       "      <td>2275.961</td>\n",
       "      <td>0.399751</td>\n",
       "      <td>0.377038</td>\n",
       "      <td>0.367205</td>\n",
       "      <td>0.363431</td>\n",
       "    </tr>\n",
       "    <tr>\n",
       "      <th>3746</th>\n",
       "      <td>-6606248183034828051</td>\n",
       "      <td>Miami Marlins</td>\n",
       "      <td>162</td>\n",
       "      <td>Philadelphia Phillies</td>\n",
       "      <td>162</td>\n",
       "      <td>Away</td>\n",
       "      <td>4</td>\n",
       "      <td>7</td>\n",
       "      <td>1</td>\n",
       "      <td>33</td>\n",
       "      <td>4</td>\n",
       "      <td>0</td>\n",
       "      <td>9</td>\n",
       "      <td>33</td>\n",
       "      <td>0.212</td>\n",
       "      <td>0.515</td>\n",
       "      <td>Sandy Alcantara</td>\n",
       "      <td>Philadelphia Phillies</td>\n",
       "      <td>162</td>\n",
       "      <td>Miami Marlins</td>\n",
       "      <td>162</td>\n",
       "      <td>Home</td>\n",
       "      <td>3</td>\n",
       "      <td>13</td>\n",
       "      <td>1</td>\n",
       "      <td>40</td>\n",
       "      <td>3</td>\n",
       "      <td>3</td>\n",
       "      <td>10</td>\n",
       "      <td>43</td>\n",
       "      <td>0.372</td>\n",
       "      <td>0.500</td>\n",
       "      <td>Blake Parker</td>\n",
       "      <td>6.996</td>\n",
       "      <td>16.995</td>\n",
       "      <td>15.996</td>\n",
       "      <td>20.000</td>\n",
       "      <td>3.795031</td>\n",
       "      <td>8.192547</td>\n",
       "      <td>0.571429</td>\n",
       "      <td>3.658385</td>\n",
       "      <td>2.453416</td>\n",
       "      <td>9.068323</td>\n",
       "      <td>5.000000</td>\n",
       "      <td>8.242236</td>\n",
       "      <td>0.645963</td>\n",
       "      <td>4.795031</td>\n",
       "      <td>3.801242</td>\n",
       "      <td>8.496894</td>\n",
       "      <td>5512.0</td>\n",
       "      <td>6045.0</td>\n",
       "      <td>1804.501</td>\n",
       "      <td>2065.044</td>\n",
       "      <td>5473.0</td>\n",
       "      <td>6247.0</td>\n",
       "      <td>2055.293</td>\n",
       "      <td>2383.180</td>\n",
       "      <td>0.340660</td>\n",
       "      <td>0.328072</td>\n",
       "      <td>0.380912</td>\n",
       "      <td>0.375354</td>\n",
       "    </tr>\n",
       "    <tr>\n",
       "      <th>633</th>\n",
       "      <td>3705705967130953031</td>\n",
       "      <td>Arizona Diamondbacks</td>\n",
       "      <td>162</td>\n",
       "      <td>San Diego Padres</td>\n",
       "      <td>162</td>\n",
       "      <td>Home</td>\n",
       "      <td>1</td>\n",
       "      <td>7</td>\n",
       "      <td>0</td>\n",
       "      <td>32</td>\n",
       "      <td>1</td>\n",
       "      <td>1</td>\n",
       "      <td>8</td>\n",
       "      <td>33</td>\n",
       "      <td>0.242</td>\n",
       "      <td>0.281</td>\n",
       "      <td>Taijuan Walker</td>\n",
       "      <td>San Diego Padres</td>\n",
       "      <td>162</td>\n",
       "      <td>Arizona Diamondbacks</td>\n",
       "      <td>162</td>\n",
       "      <td>Away</td>\n",
       "      <td>0</td>\n",
       "      <td>8</td>\n",
       "      <td>1</td>\n",
       "      <td>33</td>\n",
       "      <td>0</td>\n",
       "      <td>0</td>\n",
       "      <td>7</td>\n",
       "      <td>34</td>\n",
       "      <td>0.265</td>\n",
       "      <td>0.303</td>\n",
       "      <td>Michel Baez</td>\n",
       "      <td>7.986</td>\n",
       "      <td>8.992</td>\n",
       "      <td>9.010</td>\n",
       "      <td>9.999</td>\n",
       "      <td>5.043478</td>\n",
       "      <td>8.770186</td>\n",
       "      <td>0.527950</td>\n",
       "      <td>4.826087</td>\n",
       "      <td>3.347826</td>\n",
       "      <td>8.397516</td>\n",
       "      <td>4.614907</td>\n",
       "      <td>8.645963</td>\n",
       "      <td>0.596273</td>\n",
       "      <td>4.447205</td>\n",
       "      <td>3.204969</td>\n",
       "      <td>8.819876</td>\n",
       "      <td>5633.0</td>\n",
       "      <td>6315.0</td>\n",
       "      <td>2039.591</td>\n",
       "      <td>2446.740</td>\n",
       "      <td>5568.0</td>\n",
       "      <td>6230.0</td>\n",
       "      <td>1993.864</td>\n",
       "      <td>2406.989</td>\n",
       "      <td>0.388053</td>\n",
       "      <td>0.362722</td>\n",
       "      <td>0.386861</td>\n",
       "      <td>0.358601</td>\n",
       "    </tr>\n",
       "  </tbody>\n",
       "</table>\n",
       "</div>"
      ],
      "text/plain": [
       "                   GameID                  Team  GameNum  \\\n",
       "4277  -880284580264118396         Texas Rangers      162   \n",
       "1529 -5632484825522276387   St. Louis Cardinals      162   \n",
       "1528 -5632484825522276387          Chicago Cubs      162   \n",
       "3746 -6606248183034828051         Miami Marlins      162   \n",
       "633   3705705967130953031  Arizona Diamondbacks      162   \n",
       "\n",
       "                   Opponent  GameNumOpponent HomeAway  Runs  Hits  Errors  AB  \\\n",
       "4277       New York Yankees              162     Home     6    10       0  31   \n",
       "1529           Chicago Cubs              162     Home     9     9       0  32   \n",
       "1528    St. Louis Cardinals              162     Away     0     3       0  27   \n",
       "3746  Philadelphia Phillies              162     Away     4     7       1  33   \n",
       "633        San Diego Padres              162     Home     1     7       0  32   \n",
       "\n",
       "      RBI  BB  SO  PA    OBP    SLG          Starter               Team_Opp  \\\n",
       "4277    4   4   6  37  0.405  0.355       Lance Lynn       New York Yankees   \n",
       "1529    8   8   7  41  0.439  0.563    Jack Flaherty           Chicago Cubs   \n",
       "1528    0   1   7  28  0.143  0.111    Derek Holland    St. Louis Cardinals   \n",
       "3746    4   0   9  33  0.212  0.515  Sandy Alcantara  Philadelphia Phillies   \n",
       "633     1   1   8  33  0.242  0.281   Taijuan Walker       San Diego Padres   \n",
       "\n",
       "      GameNum_Opp          Opponent_Opp  GameNumOpponent_Opp HomeAway_Opp  \\\n",
       "4277          162         Texas Rangers                  162         Away   \n",
       "1529          162   St. Louis Cardinals                  162         Away   \n",
       "1528          162          Chicago Cubs                  162         Home   \n",
       "3746          162         Miami Marlins                  162         Home   \n",
       "633           162  Arizona Diamondbacks                  162         Away   \n",
       "\n",
       "      Runs_Opp  Hits_Opp  Errors_Opp  AB_Opp  RBI_Opp  BB_Opp  SO_Opp  PA_Opp  \\\n",
       "4277         1         3           2      30        1       1      13      31   \n",
       "1529         0         3           0      27        0       1       7      28   \n",
       "1528         9         9           0      32        8       8       7      41   \n",
       "3746         3        13           1      40        3       3      10      43   \n",
       "633          0         8           1      33        0       0       7      34   \n",
       "\n",
       "      OBP_Opp  SLG_Opp    Starter_Opp  OBP_NUM  SLG_NUM  OBP_NUM_Opp  \\\n",
       "4277    0.129    0.200     Chad Green   14.985   11.005        3.999   \n",
       "1529    0.143    0.111  Derek Holland   17.999   18.016        4.004   \n",
       "1528    0.439    0.563  Jack Flaherty    4.004    2.997       17.999   \n",
       "3746    0.372    0.500   Blake Parker    6.996   16.995       15.996   \n",
       "633     0.265    0.303    Michel Baez    7.986    8.992        9.010   \n",
       "\n",
       "      SLG_NUM_Opp  Runs_Mean  Hits_Mean  Errors_Mean  RBI_Mean   BB_Mean  \\\n",
       "4277        6.000   4.993789   8.472050     0.645963  4.726708  3.291925   \n",
       "1529        2.997   4.689441   8.242236     0.409938  4.385093  3.434783   \n",
       "1528       18.016   5.055901   8.540373     0.732919  4.863354  3.602484   \n",
       "3746       20.000   3.795031   8.192547     0.571429  3.658385  2.453416   \n",
       "633         9.999   5.043478   8.770186     0.527950  4.826087  3.347826   \n",
       "\n",
       "       SO_Mean  Runs_Mean_Opp  Hits_Mean_Opp  Errors_Mean_Opp  RBI_Mean_Opp  \\\n",
       "4277  9.763975       5.447205       9.391304         0.844720      5.204969   \n",
       "1529  8.776398       4.111801       7.956522         0.726708      3.987578   \n",
       "1528  9.024845       4.397516       8.490683         0.465839      4.111801   \n",
       "3746  9.068323       5.000000       8.242236         0.645963      4.795031   \n",
       "633   8.397516       4.614907       8.645963         0.596273      4.447205   \n",
       "\n",
       "      BB_Mean_Opp  SO_Mean_Opp  AB_Total  PA_Total  OBP_NUM_Total  \\\n",
       "4277     3.614907     8.484472    5540.0    6204.0       1980.184   \n",
       "1529     3.378882     8.645963    5449.0    6167.0       1987.214   \n",
       "1528     3.267081     8.925466    5461.0    6195.0       2052.831   \n",
       "3746     3.801242     8.496894    5512.0    6045.0       1804.501   \n",
       "633      3.204969     8.819876    5633.0    6315.0       2039.591   \n",
       "\n",
       "      SLG_NUM_Total  AB_Total_Opp  PA_Total_Opp  OBP_NUM_Total_Opp  \\\n",
       "4277       2386.992        5629.0        6354.0           2175.685   \n",
       "1529       2259.996        5389.0        6068.0           1907.037   \n",
       "1528       2468.260        5492.0        6190.0           2002.331   \n",
       "3746       2065.044        5473.0        6247.0           2055.293   \n",
       "633        2446.740        5568.0        6230.0           1993.864   \n",
       "\n",
       "      SLG_NUM_Total_Opp  SLG_Mean  OBP_Mean  SLG_Mean_Opp  OBP_Mean_Opp  \n",
       "4277           2611.676  0.385274  0.356725      0.412095      0.387870  \n",
       "1529           2141.193  0.365978  0.363525      0.354006      0.354911  \n",
       "1528           2275.961  0.399751  0.377038      0.367205      0.363431  \n",
       "3746           2383.180  0.340660  0.328072      0.380912      0.375354  \n",
       "633            2406.989  0.388053  0.362722      0.386861      0.358601  "
      ]
     },
     "execution_count": 74,
     "metadata": {},
     "output_type": "execute_result"
    }
   ],
   "source": [
    "potential_features = ['Runs_Mean', 'Hits_Mean', 'Errors_Mean', 'RBI_Mean', 'BB_Mean', 'SO_Mean', 'SLG_Mean', 'OBP_Mean',\n",
    "                     'Runs_Mean_Opp', 'Hits_Mean_Opp', 'Errors_Mean_Opp', 'RBI_Mean_Opp', 'BB_Mean_Opp', 'SO_Mean_Opp', \n",
    "                      'SLG_Mean_Opp', 'OBP_Mean_Opp']\n",
    "team_data[potential_features] = team_data.groupby(by='Team')[potential_features].shift(1)\n",
    "team_data.tail()"
   ]
  },
  {
   "cell_type": "markdown",
   "metadata": {},
   "source": [
    "Let's plot a few of the variable to see that they are changing in a way that makes sense."
   ]
  },
  {
   "cell_type": "code",
   "execution_count": 75,
   "metadata": {},
   "outputs": [
    {
     "data": {
      "text/plain": [
       "Text(0, 0.5, 'On Base Percentage')"
      ]
     },
     "execution_count": 75,
     "metadata": {},
     "output_type": "execute_result"
    },
    {
     "data": {
      "image/png": "[encoded data removed]",
      "text/plain": [
       "<Figure size 864x360 with 2 Axes>"
      ]
     },
     "metadata": {
      "needs_background": "light"
     },
     "output_type": "display_data"
    }
   ],
   "source": [
    "yankees_data = team_data[team_data['Team'] == 'New York Yankees']\n",
    "fig, axes = plt.subplots(1, 2, figsize=(12, 5))\n",
    "axes[0].plot(yankees_data['GameNum'], yankees_data['Runs_Mean'])\n",
    "axes[0].set_xlabel('Game Number')\n",
    "axes[0].set_ylabel('Hits Per Game')\n",
    "axes[1].plot(yankees_data['GameNum'], yankees_data['OBP_Mean'])\n",
    "axes[1].set_xlabel('Game Number')\n",
    "axes[1].set_ylabel('On Base Percentage')"
   ]
  },
  {
   "cell_type": "code",
   "execution_count": 76,
   "metadata": {},
   "outputs": [
    {
     "name": "stdout",
     "output_type": "stream",
     "text": [
      "<class 'pandas.core.frame.DataFrame'>\n",
      "Int64Index: 4858 entries, 0 to 633\n",
      "Data columns (total 61 columns):\n",
      " #   Column               Non-Null Count  Dtype   \n",
      "---  ------               --------------  -----   \n",
      " 0   GameID               4858 non-null   int64   \n",
      " 1   Team                 4858 non-null   category\n",
      " 2   GameNum              4858 non-null   int64   \n",
      " 3   Opponent             4858 non-null   category\n",
      " 4   GameNumOpponent      4858 non-null   int64   \n",
      " 5   HomeAway             4858 non-null   category\n",
      " 6   Runs                 4858 non-null   int64   \n",
      " 7   Hits                 4858 non-null   int64   \n",
      " 8   Errors               4858 non-null   int64   \n",
      " 9   AB                   4858 non-null   int64   \n",
      " 10  RBI                  4858 non-null   int64   \n",
      " 11  BB                   4858 non-null   int64   \n",
      " 12  SO                   4858 non-null   int64   \n",
      " 13  PA                   4858 non-null   int64   \n",
      " 14  OBP                  4858 non-null   float64 \n",
      " 15  SLG                  4858 non-null   float64 \n",
      " 16  Starter              4858 non-null   category\n",
      " 17  Team_Opp             4858 non-null   category\n",
      " 18  GameNum_Opp          4858 non-null   int64   \n",
      " 19  Opponent_Opp         4858 non-null   category\n",
      " 20  GameNumOpponent_Opp  4858 non-null   int64   \n",
      " 21  HomeAway_Opp         4858 non-null   category\n",
      " 22  Runs_Opp             4858 non-null   int64   \n",
      " 23  Hits_Opp             4858 non-null   int64   \n",
      " 24  Errors_Opp           4858 non-null   int64   \n",
      " 25  AB_Opp               4858 non-null   int64   \n",
      " 26  RBI_Opp              4858 non-null   int64   \n",
      " 27  BB_Opp               4858 non-null   int64   \n",
      " 28  SO_Opp               4858 non-null   int64   \n",
      " 29  PA_Opp               4858 non-null   int64   \n",
      " 30  OBP_Opp              4858 non-null   float64 \n",
      " 31  SLG_Opp              4858 non-null   float64 \n",
      " 32  Starter_Opp          4858 non-null   category\n",
      " 33  OBP_NUM              4858 non-null   float64 \n",
      " 34  SLG_NUM              4858 non-null   float64 \n",
      " 35  OBP_NUM_Opp          4858 non-null   float64 \n",
      " 36  SLG_NUM_Opp          4858 non-null   float64 \n",
      " 37  Runs_Mean            4828 non-null   float64 \n",
      " 38  Hits_Mean            4828 non-null   float64 \n",
      " 39  Errors_Mean          4828 non-null   float64 \n",
      " 40  RBI_Mean             4828 non-null   float64 \n",
      " 41  BB_Mean              4828 non-null   float64 \n",
      " 42  SO_Mean              4828 non-null   float64 \n",
      " 43  Runs_Mean_Opp        4828 non-null   float64 \n",
      " 44  Hits_Mean_Opp        4828 non-null   float64 \n",
      " 45  Errors_Mean_Opp      4828 non-null   float64 \n",
      " 46  RBI_Mean_Opp         4828 non-null   float64 \n",
      " 47  BB_Mean_Opp          4828 non-null   float64 \n",
      " 48  SO_Mean_Opp          4828 non-null   float64 \n",
      " 49  AB_Total             4858 non-null   float64 \n",
      " 50  PA_Total             4858 non-null   float64 \n",
      " 51  OBP_NUM_Total        4858 non-null   float64 \n",
      " 52  SLG_NUM_Total        4858 non-null   float64 \n",
      " 53  AB_Total_Opp         4858 non-null   float64 \n",
      " 54  PA_Total_Opp         4858 non-null   float64 \n",
      " 55  OBP_NUM_Total_Opp    4858 non-null   float64 \n",
      " 56  SLG_NUM_Total_Opp    4858 non-null   float64 \n",
      " 57  SLG_Mean             4828 non-null   float64 \n",
      " 58  OBP_Mean             4828 non-null   float64 \n",
      " 59  SLG_Mean_Opp         4828 non-null   float64 \n",
      " 60  OBP_Mean_Opp         4828 non-null   float64 \n",
      "dtypes: category(8), float64(32), int64(21)\n",
      "memory usage: 2.1 MB\n"
     ]
    }
   ],
   "source": [
    "team_data.info()"
   ]
  },
  {
   "cell_type": "markdown",
   "metadata": {},
   "source": [
    "For each game we'll join the cumulative data from the opponent so that we can use the other teams defensive ability in our predictions."
   ]
  },
  {
   "cell_type": "code",
   "execution_count": 77,
   "metadata": {},
   "outputs": [
    {
     "name": "stdout",
     "output_type": "stream",
     "text": [
      "<class 'pandas.core.frame.DataFrame'>\n",
      "Int64Index: 4858 entries, 0 to 4857\n",
      "Data columns (total 70 columns):\n",
      " #   Column               Non-Null Count  Dtype   \n",
      "---  ------               --------------  -----   \n",
      " 0   GameID               4858 non-null   int64   \n",
      " 1   Team                 4858 non-null   category\n",
      " 2   GameNum              4858 non-null   int64   \n",
      " 3   Opponent             4858 non-null   category\n",
      " 4   GameNumOpponent      4858 non-null   int64   \n",
      " 5   HomeAway             4858 non-null   category\n",
      " 6   Runs                 4858 non-null   int64   \n",
      " 7   Hits                 4858 non-null   int64   \n",
      " 8   Errors               4858 non-null   int64   \n",
      " 9   AB                   4858 non-null   int64   \n",
      " 10  RBI                  4858 non-null   int64   \n",
      " 11  BB                   4858 non-null   int64   \n",
      " 12  SO                   4858 non-null   int64   \n",
      " 13  PA                   4858 non-null   int64   \n",
      " 14  OBP                  4858 non-null   float64 \n",
      " 15  SLG                  4858 non-null   float64 \n",
      " 16  Starter              4858 non-null   category\n",
      " 17  Team_Opp             4858 non-null   category\n",
      " 18  GameNum_Opp          4858 non-null   int64   \n",
      " 19  Opponent_Opp         4858 non-null   category\n",
      " 20  GameNumOpponent_Opp  4858 non-null   int64   \n",
      " 21  HomeAway_Opp         4858 non-null   category\n",
      " 22  Runs_Opp             4858 non-null   int64   \n",
      " 23  Hits_Opp             4858 non-null   int64   \n",
      " 24  Errors_Opp           4858 non-null   int64   \n",
      " 25  AB_Opp               4858 non-null   int64   \n",
      " 26  RBI_Opp              4858 non-null   int64   \n",
      " 27  BB_Opp               4858 non-null   int64   \n",
      " 28  SO_Opp               4858 non-null   int64   \n",
      " 29  PA_Opp               4858 non-null   int64   \n",
      " 30  OBP_Opp              4858 non-null   float64 \n",
      " 31  SLG_Opp              4858 non-null   float64 \n",
      " 32  Starter_Opp          4858 non-null   category\n",
      " 33  OBP_NUM              4858 non-null   float64 \n",
      " 34  SLG_NUM              4858 non-null   float64 \n",
      " 35  OBP_NUM_Opp          4858 non-null   float64 \n",
      " 36  SLG_NUM_Opp          4858 non-null   float64 \n",
      " 37  Runs_Mean            4828 non-null   float64 \n",
      " 38  Hits_Mean            4828 non-null   float64 \n",
      " 39  Errors_Mean          4828 non-null   float64 \n",
      " 40  RBI_Mean             4828 non-null   float64 \n",
      " 41  BB_Mean              4828 non-null   float64 \n",
      " 42  SO_Mean              4828 non-null   float64 \n",
      " 43  Runs_Mean_Opp        4828 non-null   float64 \n",
      " 44  Hits_Mean_Opp        4828 non-null   float64 \n",
      " 45  Errors_Mean_Opp      4828 non-null   float64 \n",
      " 46  RBI_Mean_Opp         4828 non-null   float64 \n",
      " 47  BB_Mean_Opp          4828 non-null   float64 \n",
      " 48  SO_Mean_Opp          4828 non-null   float64 \n",
      " 49  AB_Total             4858 non-null   float64 \n",
      " 50  PA_Total             4858 non-null   float64 \n",
      " 51  OBP_NUM_Total        4858 non-null   float64 \n",
      " 52  SLG_NUM_Total        4858 non-null   float64 \n",
      " 53  AB_Total_Opp         4858 non-null   float64 \n",
      " 54  PA_Total_Opp         4858 non-null   float64 \n",
      " 55  OBP_NUM_Total_Opp    4858 non-null   float64 \n",
      " 56  SLG_NUM_Total_Opp    4858 non-null   float64 \n",
      " 57  SLG_Mean             4828 non-null   float64 \n",
      " 58  OBP_Mean             4828 non-null   float64 \n",
      " 59  SLG_Mean_Opp         4828 non-null   float64 \n",
      " 60  OBP_Mean_Opp         4828 non-null   float64 \n",
      " 61  Team_Def             4858 non-null   category\n",
      " 62  Runs_Mean_Opp_Def    4828 non-null   float64 \n",
      " 63  Hits_Mean_Opp_Def    4828 non-null   float64 \n",
      " 64  Errors_Mean_Opp_Def  4828 non-null   float64 \n",
      " 65  RBI_Mean_Opp_Def     4828 non-null   float64 \n",
      " 66  BB_Mean_Opp_Def      4828 non-null   float64 \n",
      " 67  SO_Mean_Opp_Def      4828 non-null   float64 \n",
      " 68  SLG_Mean_Opp_Def     4828 non-null   float64 \n",
      " 69  OBP_Mean_Opp_Def     4828 non-null   float64 \n",
      "dtypes: category(9), float64(40), int64(21)\n",
      "memory usage: 2.4 MB\n"
     ]
    }
   ],
   "source": [
    "defensive_stats = ['GameID', 'Team', 'Runs_Mean_Opp', 'Hits_Mean_Opp', 'Errors_Mean_Opp', 'RBI_Mean_Opp', 'BB_Mean_Opp', 'SO_Mean_Opp', \n",
    "                   'SLG_Mean_Opp', 'OBP_Mean_Opp']\n",
    "team_data =  team_data = team_data.merge(team_data[defensive_stats].copy(), how='left', left_on=['GameID', 'Opponent'], \n",
    "                                         right_on=['GameID', 'Team'], suffixes=('', '_Def'))\n",
    "team_data.info()"
   ]
  },
  {
   "cell_type": "markdown",
   "metadata": {},
   "source": [
    "Finally, we'll want to add some odds to the data set that we can try out different betting strategies."
   ]
  },
  {
   "cell_type": "code",
   "execution_count": 78,
   "metadata": {},
   "outputs": [
    {
     "name": "stdout",
     "output_type": "stream",
     "text": [
      "<class 'pandas.core.frame.DataFrame'>\n",
      "Int64Index: 4858 entries, 0 to 4857\n",
      "Data columns (total 80 columns):\n",
      " #   Column               Non-Null Count  Dtype   \n",
      "---  ------               --------------  -----   \n",
      " 0   GameID               4858 non-null   object  \n",
      " 1   Team                 4858 non-null   category\n",
      " 2   GameNum              4858 non-null   int64   \n",
      " 3   Opponent             4858 non-null   category\n",
      " 4   GameNumOpponent      4858 non-null   int64   \n",
      " 5   HomeAway             4858 non-null   category\n",
      " 6   Runs                 4858 non-null   int64   \n",
      " 7   Hits                 4858 non-null   int64   \n",
      " 8   Errors               4858 non-null   int64   \n",
      " 9   AB                   4858 non-null   int64   \n",
      " 10  RBI                  4858 non-null   int64   \n",
      " 11  BB                   4858 non-null   int64   \n",
      " 12  SO                   4858 non-null   int64   \n",
      " 13  PA                   4858 non-null   int64   \n",
      " 14  OBP                  4858 non-null   float64 \n",
      " 15  SLG                  4858 non-null   float64 \n",
      " 16  Starter              4858 non-null   category\n",
      " 17  Team_Opp             4858 non-null   category\n",
      " 18  GameNum_Opp          4858 non-null   int64   \n",
      " 19  Opponent_Opp         4858 non-null   category\n",
      " 20  GameNumOpponent_Opp  4858 non-null   int64   \n",
      " 21  HomeAway_Opp         4858 non-null   category\n",
      " 22  Runs_Opp             4858 non-null   int64   \n",
      " 23  Hits_Opp             4858 non-null   int64   \n",
      " 24  Errors_Opp           4858 non-null   int64   \n",
      " 25  AB_Opp               4858 non-null   int64   \n",
      " 26  RBI_Opp              4858 non-null   int64   \n",
      " 27  BB_Opp               4858 non-null   int64   \n",
      " 28  SO_Opp               4858 non-null   int64   \n",
      " 29  PA_Opp               4858 non-null   int64   \n",
      " 30  OBP_Opp              4858 non-null   float64 \n",
      " 31  SLG_Opp              4858 non-null   float64 \n",
      " 32  Starter_Opp          4858 non-null   category\n",
      " 33  OBP_NUM              4858 non-null   float64 \n",
      " 34  SLG_NUM              4858 non-null   float64 \n",
      " 35  OBP_NUM_Opp          4858 non-null   float64 \n",
      " 36  SLG_NUM_Opp          4858 non-null   float64 \n",
      " 37  Runs_Mean            4828 non-null   float64 \n",
      " 38  Hits_Mean            4828 non-null   float64 \n",
      " 39  Errors_Mean          4828 non-null   float64 \n",
      " 40  RBI_Mean             4828 non-null   float64 \n",
      " 41  BB_Mean              4828 non-null   float64 \n",
      " 42  SO_Mean              4828 non-null   float64 \n",
      " 43  Runs_Mean_Opp        4828 non-null   float64 \n",
      " 44  Hits_Mean_Opp        4828 non-null   float64 \n",
      " 45  Errors_Mean_Opp      4828 non-null   float64 \n",
      " 46  RBI_Mean_Opp         4828 non-null   float64 \n",
      " 47  BB_Mean_Opp          4828 non-null   float64 \n",
      " 48  SO_Mean_Opp          4828 non-null   float64 \n",
      " 49  AB_Total             4858 non-null   float64 \n",
      " 50  PA_Total             4858 non-null   float64 \n",
      " 51  OBP_NUM_Total        4858 non-null   float64 \n",
      " 52  SLG_NUM_Total        4858 non-null   float64 \n",
      " 53  AB_Total_Opp         4858 non-null   float64 \n",
      " 54  PA_Total_Opp         4858 non-null   float64 \n",
      " 55  OBP_NUM_Total_Opp    4858 non-null   float64 \n",
      " 56  SLG_NUM_Total_Opp    4858 non-null   float64 \n",
      " 57  SLG_Mean             4828 non-null   float64 \n",
      " 58  OBP_Mean             4828 non-null   float64 \n",
      " 59  SLG_Mean_Opp         4828 non-null   float64 \n",
      " 60  OBP_Mean_Opp         4828 non-null   float64 \n",
      " 61  Team_Def             4858 non-null   category\n",
      " 62  Runs_Mean_Opp_Def    4828 non-null   float64 \n",
      " 63  Hits_Mean_Opp_Def    4828 non-null   float64 \n",
      " 64  Errors_Mean_Opp_Def  4828 non-null   float64 \n",
      " 65  RBI_Mean_Opp_Def     4828 non-null   float64 \n",
      " 66  BB_Mean_Opp_Def      4828 non-null   float64 \n",
      " 67  SO_Mean_Opp_Def      4828 non-null   float64 \n",
      " 68  SLG_Mean_Opp_Def     4828 non-null   float64 \n",
      " 69  OBP_Mean_Opp_Def     4828 non-null   float64 \n",
      " 70  Close                4836 non-null   float64 \n",
      " 71  Run Line             4836 non-null   float64 \n",
      " 72  Run_Odds             4836 non-null   float64 \n",
      " 73  Close OU             4836 non-null   float64 \n",
      " 74  Close_OU_Odds        4836 non-null   float64 \n",
      " 75  Close_away           4834 non-null   float64 \n",
      " 76  Run Line_away        4834 non-null   float64 \n",
      " 77  Run_Odds_away        4834 non-null   float64 \n",
      " 78  Close OU_away        4834 non-null   float64 \n",
      " 79  Close_OU_Odds_away   4834 non-null   float64 \n",
      "dtypes: category(9), float64(50), int64(20), object(1)\n",
      "memory usage: 2.8+ MB\n"
     ]
    }
   ],
   "source": [
    "odds19 = pd.read_csv(os.path.join(parentDirectory, 'data', 'mlbodds2019.csv'))\n",
    "odds_lookup2019 = clean_data.generate_odds_lookup(game_level, odds19)\n",
    "\n",
    "odds_features = ['GameID', 'Close', 'Run Line', 'Run_Odds', 'Close OU', 'Close_OU_Odds',\n",
    "                'Close_away', 'Run Line_away', 'Run_Odds_away', 'Close OU_away', 'Close_OU_Odds_away']\n",
    "model_data19 = team_data.merge(odds_lookup2019[odds_features], how='left', left_on='GameID', right_on='GameID')\n",
    "model_data19.info()"
   ]
  },
  {
   "cell_type": "markdown",
   "metadata": {},
   "source": [
    "We have two more years worth of data but we've written a function to automate this data cleaning workflow for us. Let's apply that to the data from 2017 and 2018. We'll actually be using the 2019 data as our test data set and 2017/2018 for trainig."
   ]
  },
  {
   "cell_type": "code",
   "execution_count": 79,
   "metadata": {},
   "outputs": [],
   "source": [
    "# Import 2018 data\n",
    "parsed18 = pkl.load(open(os.path.join(parentDirectory, 'data', 'parsedData2018.p'), 'rb'))\n",
    "game_level18 = parsed18['Game']\n",
    "team_level18 = parsed18['Team']\n",
    "\n",
    "# Import 2017 data\n",
    "parsed17 = pkl.load(open(os.path.join(parentDirectory, 'data', 'parsedData2018.p'), 'rb'))\n",
    "game_level17 = parsed17['Game']\n",
    "team_level17 = parsed17['Team']\n",
    "\n",
    "# Clean data\n",
    "model_data18 = clean_data.clean_team_season_data(team_level18, game_level18)\n",
    "model_data17 = clean_data.clean_team_season_data(team_level17, game_level17)\n",
    "\n",
    "# Add Odds\n",
    "odds18 = pd.read_csv(os.path.join(parentDirectory, 'data', 'mlbodds2018.csv'))\n",
    "odds_lookup18 = clean_data.generate_odds_lookup(game_level18, odds18)\n",
    "odds17 = pd.read_csv(os.path.join(parentDirectory, 'data', 'mlbodds2017.csv'))\n",
    "odds_lookup17 = clean_data.generate_odds_lookup(game_level17, odds17)\n",
    "model_data18 = model_data18.merge(odds_lookup18[odds_features], how='left', left_on='GameID', right_on='GameID')\n",
    "model_data17 = model_data17.merge(odds_lookup17[odds_features], how='left', left_on='GameID', right_on='GameID')"
   ]
  },
  {
   "cell_type": "code",
   "execution_count": 80,
   "metadata": {},
   "outputs": [],
   "source": [
    "# Join 2017 and 2018 data and label train and test sets\n",
    "train = pd.concat([model_data18, model_data17])\n",
    "test = model_data19"
   ]
  },
  {
   "cell_type": "markdown",
   "metadata": {},
   "source": [
    "## Data Exploration and Feature Selection\n",
    "\n",
    "Now that we have all of the data we will use for our model let's explore it a little bit. There are many columns in the DataFrame above and we won't use all of them, so let's isolate the columns we want to explore more, separating them into numerical and categorical variables."
   ]
  },
  {
   "cell_type": "code",
   "execution_count": 81,
   "metadata": {},
   "outputs": [],
   "source": [
    "numerical_vars = ['Runs_Mean', 'Hits_Mean', 'Errors_Mean', 'RBI_Mean', 'BB_Mean', 'SO_Mean', 'SLG_Mean', 'OBP_Mean']\n",
    "numerical_vars = numerical_vars + [name+'_Opp_Def' for name in numerical_vars]+['Runs']\n",
    "categorical_vars = ['HomeAway']"
   ]
  },
  {
   "cell_type": "markdown",
   "metadata": {},
   "source": [
    "Since it takes a few games for the averages to stabilize we'll remove the first 10 games from each season. Notice that we no longer have any null-values anymore."
   ]
  },
  {
   "cell_type": "code",
   "execution_count": 82,
   "metadata": {},
   "outputs": [],
   "source": [
    "train = train[train['GameNum'] > 30]\n",
    "test = test[test['GameNum'] > 30]"
   ]
  },
  {
   "cell_type": "code",
   "execution_count": 83,
   "metadata": {},
   "outputs": [
    {
     "name": "stdout",
     "output_type": "stream",
     "text": [
      "<class 'pandas.core.frame.DataFrame'>\n",
      "Int64Index: 7924 entries, 900 to 4861\n",
      "Data columns (total 80 columns):\n",
      " #   Column               Non-Null Count  Dtype   \n",
      "---  ------               --------------  -----   \n",
      " 0   GameID               7924 non-null   object  \n",
      " 1   Team                 7924 non-null   category\n",
      " 2   GameNum              7924 non-null   int64   \n",
      " 3   Opponent             7924 non-null   category\n",
      " 4   GameNumOpponent      7924 non-null   int64   \n",
      " 5   HomeAway             7924 non-null   category\n",
      " 6   Runs                 7924 non-null   int64   \n",
      " 7   Hits                 7924 non-null   int64   \n",
      " 8   Errors               7924 non-null   int64   \n",
      " 9   AB                   7924 non-null   int64   \n",
      " 10  RBI                  7924 non-null   int64   \n",
      " 11  BB                   7924 non-null   int64   \n",
      " 12  SO                   7924 non-null   int64   \n",
      " 13  PA                   7924 non-null   int64   \n",
      " 14  OBP                  7924 non-null   float64 \n",
      " 15  SLG                  7924 non-null   float64 \n",
      " 16  Starter              7924 non-null   category\n",
      " 17  Team_Opp             7924 non-null   category\n",
      " 18  GameNum_Opp          7924 non-null   int64   \n",
      " 19  Opponent_Opp         7924 non-null   category\n",
      " 20  GameNumOpponent_Opp  7924 non-null   int64   \n",
      " 21  HomeAway_Opp         7924 non-null   category\n",
      " 22  Runs_Opp             7924 non-null   int64   \n",
      " 23  Hits_Opp             7924 non-null   int64   \n",
      " 24  Errors_Opp           7924 non-null   int64   \n",
      " 25  AB_Opp               7924 non-null   int64   \n",
      " 26  RBI_Opp              7924 non-null   int64   \n",
      " 27  BB_Opp               7924 non-null   int64   \n",
      " 28  SO_Opp               7924 non-null   int64   \n",
      " 29  PA_Opp               7924 non-null   int64   \n",
      " 30  OBP_Opp              7924 non-null   float64 \n",
      " 31  SLG_Opp              7924 non-null   float64 \n",
      " 32  Starter_Opp          7924 non-null   category\n",
      " 33  OBP_NUM              7924 non-null   float64 \n",
      " 34  SLG_NUM              7924 non-null   float64 \n",
      " 35  OBP_NUM_Opp          7924 non-null   float64 \n",
      " 36  SLG_NUM_Opp          7924 non-null   float64 \n",
      " 37  Runs_Mean            7924 non-null   float64 \n",
      " 38  Hits_Mean            7924 non-null   float64 \n",
      " 39  Errors_Mean          7924 non-null   float64 \n",
      " 40  RBI_Mean             7924 non-null   float64 \n",
      " 41  BB_Mean              7924 non-null   float64 \n",
      " 42  SO_Mean              7924 non-null   float64 \n",
      " 43  Runs_Mean_Opp        7924 non-null   float64 \n",
      " 44  Hits_Mean_Opp        7924 non-null   float64 \n",
      " 45  Errors_Mean_Opp      7924 non-null   float64 \n",
      " 46  RBI_Mean_Opp         7924 non-null   float64 \n",
      " 47  BB_Mean_Opp          7924 non-null   float64 \n",
      " 48  SO_Mean_Opp          7924 non-null   float64 \n",
      " 49  AB_Total             7924 non-null   float64 \n",
      " 50  PA_Total             7924 non-null   float64 \n",
      " 51  OBP_NUM_Total        7924 non-null   float64 \n",
      " 52  SLG_NUM_Total        7924 non-null   float64 \n",
      " 53  AB_Total_Opp         7924 non-null   float64 \n",
      " 54  PA_Total_Opp         7924 non-null   float64 \n",
      " 55  OBP_NUM_Total_Opp    7924 non-null   float64 \n",
      " 56  SLG_NUM_Total_Opp    7924 non-null   float64 \n",
      " 57  SLG_Mean             7924 non-null   float64 \n",
      " 58  OBP_Mean             7924 non-null   float64 \n",
      " 59  SLG_Mean_Opp         7924 non-null   float64 \n",
      " 60  OBP_Mean_Opp         7924 non-null   float64 \n",
      " 61  Team_Def             7924 non-null   category\n",
      " 62  Runs_Mean_Opp_Def    7924 non-null   float64 \n",
      " 63  Hits_Mean_Opp_Def    7924 non-null   float64 \n",
      " 64  Errors_Mean_Opp_Def  7924 non-null   float64 \n",
      " 65  RBI_Mean_Opp_Def     7924 non-null   float64 \n",
      " 66  BB_Mean_Opp_Def      7924 non-null   float64 \n",
      " 67  SO_Mean_Opp_Def      7924 non-null   float64 \n",
      " 68  SLG_Mean_Opp_Def     7924 non-null   float64 \n",
      " 69  OBP_Mean_Opp_Def     7924 non-null   float64 \n",
      " 70  Close                4258 non-null   float64 \n",
      " 71  Run Line             4258 non-null   float64 \n",
      " 72  Run_Odds             4258 non-null   float64 \n",
      " 73  Close OU             4258 non-null   float64 \n",
      " 74  Close_OU_Odds        4258 non-null   float64 \n",
      " 75  Close_away           4303 non-null   float64 \n",
      " 76  Run Line_away        4303 non-null   float64 \n",
      " 77  Run_Odds_away        4303 non-null   float64 \n",
      " 78  Close OU_away        4303 non-null   float64 \n",
      " 79  Close_OU_Odds_away   4303 non-null   float64 \n",
      "dtypes: category(9), float64(50), int64(20), object(1)\n",
      "memory usage: 4.5+ MB\n"
     ]
    }
   ],
   "source": [
    "train.info()"
   ]
  },
  {
   "cell_type": "code",
   "execution_count": 84,
   "metadata": {},
   "outputs": [
    {
     "name": "stdout",
     "output_type": "stream",
     "text": [
      "<class 'pandas.core.frame.DataFrame'>\n",
      "Int64Index: 3958 entries, 900 to 4857\n",
      "Data columns (total 80 columns):\n",
      " #   Column               Non-Null Count  Dtype   \n",
      "---  ------               --------------  -----   \n",
      " 0   GameID               3958 non-null   object  \n",
      " 1   Team                 3958 non-null   category\n",
      " 2   GameNum              3958 non-null   int64   \n",
      " 3   Opponent             3958 non-null   category\n",
      " 4   GameNumOpponent      3958 non-null   int64   \n",
      " 5   HomeAway             3958 non-null   category\n",
      " 6   Runs                 3958 non-null   int64   \n",
      " 7   Hits                 3958 non-null   int64   \n",
      " 8   Errors               3958 non-null   int64   \n",
      " 9   AB                   3958 non-null   int64   \n",
      " 10  RBI                  3958 non-null   int64   \n",
      " 11  BB                   3958 non-null   int64   \n",
      " 12  SO                   3958 non-null   int64   \n",
      " 13  PA                   3958 non-null   int64   \n",
      " 14  OBP                  3958 non-null   float64 \n",
      " 15  SLG                  3958 non-null   float64 \n",
      " 16  Starter              3958 non-null   category\n",
      " 17  Team_Opp             3958 non-null   category\n",
      " 18  GameNum_Opp          3958 non-null   int64   \n",
      " 19  Opponent_Opp         3958 non-null   category\n",
      " 20  GameNumOpponent_Opp  3958 non-null   int64   \n",
      " 21  HomeAway_Opp         3958 non-null   category\n",
      " 22  Runs_Opp             3958 non-null   int64   \n",
      " 23  Hits_Opp             3958 non-null   int64   \n",
      " 24  Errors_Opp           3958 non-null   int64   \n",
      " 25  AB_Opp               3958 non-null   int64   \n",
      " 26  RBI_Opp              3958 non-null   int64   \n",
      " 27  BB_Opp               3958 non-null   int64   \n",
      " 28  SO_Opp               3958 non-null   int64   \n",
      " 29  PA_Opp               3958 non-null   int64   \n",
      " 30  OBP_Opp              3958 non-null   float64 \n",
      " 31  SLG_Opp              3958 non-null   float64 \n",
      " 32  Starter_Opp          3958 non-null   category\n",
      " 33  OBP_NUM              3958 non-null   float64 \n",
      " 34  SLG_NUM              3958 non-null   float64 \n",
      " 35  OBP_NUM_Opp          3958 non-null   float64 \n",
      " 36  SLG_NUM_Opp          3958 non-null   float64 \n",
      " 37  Runs_Mean            3958 non-null   float64 \n",
      " 38  Hits_Mean            3958 non-null   float64 \n",
      " 39  Errors_Mean          3958 non-null   float64 \n",
      " 40  RBI_Mean             3958 non-null   float64 \n",
      " 41  BB_Mean              3958 non-null   float64 \n",
      " 42  SO_Mean              3958 non-null   float64 \n",
      " 43  Runs_Mean_Opp        3958 non-null   float64 \n",
      " 44  Hits_Mean_Opp        3958 non-null   float64 \n",
      " 45  Errors_Mean_Opp      3958 non-null   float64 \n",
      " 46  RBI_Mean_Opp         3958 non-null   float64 \n",
      " 47  BB_Mean_Opp          3958 non-null   float64 \n",
      " 48  SO_Mean_Opp          3958 non-null   float64 \n",
      " 49  AB_Total             3958 non-null   float64 \n",
      " 50  PA_Total             3958 non-null   float64 \n",
      " 51  OBP_NUM_Total        3958 non-null   float64 \n",
      " 52  SLG_NUM_Total        3958 non-null   float64 \n",
      " 53  AB_Total_Opp         3958 non-null   float64 \n",
      " 54  PA_Total_Opp         3958 non-null   float64 \n",
      " 55  OBP_NUM_Total_Opp    3958 non-null   float64 \n",
      " 56  SLG_NUM_Total_Opp    3958 non-null   float64 \n",
      " 57  SLG_Mean             3958 non-null   float64 \n",
      " 58  OBP_Mean             3958 non-null   float64 \n",
      " 59  SLG_Mean_Opp         3958 non-null   float64 \n",
      " 60  OBP_Mean_Opp         3958 non-null   float64 \n",
      " 61  Team_Def             3958 non-null   category\n",
      " 62  Runs_Mean_Opp_Def    3958 non-null   float64 \n",
      " 63  Hits_Mean_Opp_Def    3958 non-null   float64 \n",
      " 64  Errors_Mean_Opp_Def  3958 non-null   float64 \n",
      " 65  RBI_Mean_Opp_Def     3958 non-null   float64 \n",
      " 66  BB_Mean_Opp_Def      3958 non-null   float64 \n",
      " 67  SO_Mean_Opp_Def      3958 non-null   float64 \n",
      " 68  SLG_Mean_Opp_Def     3958 non-null   float64 \n",
      " 69  OBP_Mean_Opp_Def     3958 non-null   float64 \n",
      " 70  Close                3939 non-null   float64 \n",
      " 71  Run Line             3939 non-null   float64 \n",
      " 72  Run_Odds             3939 non-null   float64 \n",
      " 73  Close OU             3939 non-null   float64 \n",
      " 74  Close_OU_Odds        3939 non-null   float64 \n",
      " 75  Close_away           3939 non-null   float64 \n",
      " 76  Run Line_away        3939 non-null   float64 \n",
      " 77  Run_Odds_away        3939 non-null   float64 \n",
      " 78  Close OU_away        3939 non-null   float64 \n",
      " 79  Close_OU_Odds_away   3939 non-null   float64 \n",
      "dtypes: category(9), float64(50), int64(20), object(1)\n",
      "memory usage: 2.2+ MB\n"
     ]
    }
   ],
   "source": [
    "test.info()"
   ]
  },
  {
   "cell_type": "markdown",
   "metadata": {},
   "source": [
    "Let's look at the correlation matrix of the numerical columns."
   ]
  },
  {
   "cell_type": "code",
   "execution_count": 85,
   "metadata": {},
   "outputs": [
    {
     "data": {
      "text/plain": [
       "Runs_Mean              0.085600\n",
       "Hits_Mean              0.031612\n",
       "Errors_Mean           -0.011889\n",
       "RBI_Mean               0.083712\n",
       "BB_Mean                0.063683\n",
       "SO_Mean               -0.019591\n",
       "SLG_Mean               0.077439\n",
       "OBP_Mean               0.066490\n",
       "Runs_Mean_Opp_Def      0.114487\n",
       "Hits_Mean_Opp_Def      0.119104\n",
       "Errors_Mean_Opp_Def   -0.062622\n",
       "RBI_Mean_Opp_Def       0.113927\n",
       "BB_Mean_Opp_Def        0.048021\n",
       "SO_Mean_Opp_Def       -0.115999\n",
       "SLG_Mean_Opp_Def       0.110140\n",
       "OBP_Mean_Opp_Def       0.115700\n",
       "Runs                   1.000000\n",
       "Name: Runs, dtype: float64"
      ]
     },
     "execution_count": 85,
     "metadata": {},
     "output_type": "execute_result"
    }
   ],
   "source": [
    "train[numerical_vars].corr()['Runs']"
   ]
  },
  {
   "cell_type": "markdown",
   "metadata": {},
   "source": [
    "Let's convert the home/away variable into dummy variables."
   ]
  },
  {
   "cell_type": "code",
   "execution_count": 86,
   "metadata": {},
   "outputs": [],
   "source": [
    "train_dummies = pd.get_dummies(train[categorical_vars], drop_first=True)\n",
    "train = pd.concat([train, train_dummies], axis=1)\n",
    "\n",
    "test_dummies = pd.get_dummies(test[categorical_vars], drop_first=True)\n",
    "test = pd.concat([test, test_dummies], axis=1)"
   ]
  },
  {
   "cell_type": "markdown",
   "metadata": {},
   "source": [
    "### Betting Odds\n",
    "\n",
    "Let's add the amount that would've been won to the test set."
   ]
  },
  {
   "cell_type": "code",
   "execution_count": 87,
   "metadata": {},
   "outputs": [],
   "source": [
    "def american_odds_to_winnings(odds, bet_size):\n",
    "    if odds > 0:\n",
    "        return odds/100 * bet_size\n",
    "    else:\n",
    "        return  -100/odds*bet_size\n",
    "    \n",
    "test['ML_towin_home'] = test['Close'].apply(lambda x: american_odds_to_winnings(x, 10))\n",
    "test['ATS_towin_home'] = test['Run_Odds'].apply(lambda x: american_odds_to_winnings(x, 10))\n",
    "test['OU_towin'] = test['Close_OU_Odds'].apply(lambda x: american_odds_to_winnings(x, 10))\n",
    "test['ML_towin_away'] = test['Close_away'].apply(lambda x: american_odds_to_winnings(x, 10))\n",
    "test['ATS_towin_away'] = test['Run_Odds_away'].apply(lambda x: american_odds_to_winnings(x, 10))"
   ]
  },
  {
   "cell_type": "markdown",
   "metadata": {},
   "source": [
    "We'll now define a funtion which which evaluates the ROI from a given model."
   ]
  },
  {
   "cell_type": "code",
   "execution_count": 101,
   "metadata": {},
   "outputs": [],
   "source": [
    "def evaluate_with_betting(test_data):\n",
    "    test_home = test_data[test_data['HomeAway'] == 'Home']\n",
    "    test_away = test_data[test_data['HomeAway'] == 'Away']\n",
    "    test_combined = test_home.merge(test_away[['GameID', 'Predictions', 'Runs']], how='inner', on='GameID', suffixes=('_home', '_away'))\n",
    "    test_combined['predicted_point_diff'] = test_combined['Predictions_away'] - test_combined['Predictions_home']\n",
    "    test_combined['predicted_total'] = test_combined['Predictions_away'] + test_combined['Predictions_home']\n",
    "    test_combined['point_diff'] = test_combined['Runs_away'] - test_combined['Runs_home']\n",
    "    test_combined['total'] = test_combined['Runs_away'] + test_combined['Runs_home']\n",
    "    test_combined['spread_diff'] = test_combined['predicted_point_diff'] - test_combined['Run Line']\n",
    "    test_combined['spread_diff_rounded'] = test_combined['spread_diff'].round()\n",
    "    test_combined['total_diff'] = test_combined['predicted_total'] - test_combined['Close OU']\n",
    "    def eval_ml(row):\n",
    "        if row['predicted_point_diff']*row['point_diff'] > 0:\n",
    "            if row['predicted_point_diff'] < 0:\n",
    "                return row['ML_towin_home']\n",
    "            else:\n",
    "                return row['ML_towin_away']\n",
    "        else:\n",
    "            return -10\n",
    "    test_combined['ML_winnings'] = test_combined.apply(eval_ml, axis=1)\n",
    "    test_combined['ML_correct'] = test_combined['ML_winnings'].apply(lambda x: 1 if x>0 else 0)\n",
    "    def eval_ats(row):\n",
    "        to_bet = row['spread_diff'] * (row['point_diff'] - row['Run Line'])\n",
    "        if to_bet > 0:\n",
    "            if row['spread_diff'] < 0:\n",
    "                return row['ATS_towin_home']\n",
    "            else:\n",
    "                return row['ATS_towin_away']\n",
    "        elif to_bet < 0:\n",
    "            return -10\n",
    "        else:\n",
    "            return 0\n",
    "    test_combined['ATS_winnings'] = test_combined.apply(eval_ats, axis=1)\n",
    "    test_combined['ATS_correct'] = test_combined['ATS_winnings'].apply(lambda x: 1 if x>0 else 0)\n",
    "    def eval_OU(row):\n",
    "        to_bet = row['total_diff'] * (row['total'] - row['Close OU'])\n",
    "        if to_bet > 0:\n",
    "            return row['OU_towin']\n",
    "        elif to_bet < 0:\n",
    "            return -10\n",
    "        else:\n",
    "            return 0\n",
    "    test_combined['OU_winnings'] = test_combined.apply(eval_OU, axis=1)\n",
    "    test_combined['OU_correct'] = test_combined['OU_winnings'].apply(lambda x: 1 if x>0 else 0)\n",
    "    test_combined.sort_values(by='GameNum', inplace=True)\n",
    "    betting_vars = ['ML_balance', 'ATS_balance', 'OU_balance']\n",
    "    test_combined[betting_vars] = (test_combined.expanding().sum()[['ML_winnings', 'ATS_winnings', 'OU_winnings']].reset_index(level=0, drop=True))\n",
    "    return test_combined"
   ]
  },
  {
   "cell_type": "markdown",
   "metadata": {},
   "source": [
    "## Model Selection\n",
    "### Linear Regression\n",
    "We'll begin by fitting a linear regression model using Recursive Feature Elimination."
   ]
  },
  {
   "cell_type": "code",
   "execution_count": 95,
   "metadata": {},
   "outputs": [
    {
     "name": "stdout",
     "output_type": "stream",
     "text": [
      "Index(['Runs_Mean', 'Hits_Mean', 'Errors_Mean', 'RBI_Mean', 'BB_Mean',\n",
      "       'SO_Mean', 'SLG_Mean', 'OBP_Mean', 'Runs_Mean_Opp_Def',\n",
      "       'Hits_Mean_Opp_Def', 'Errors_Mean_Opp_Def', 'BB_Mean_Opp_Def',\n",
      "       'SO_Mean_Opp_Def', 'SLG_Mean_Opp_Def', 'OBP_Mean_Opp_Def',\n",
      "       'HomeAway_Home'],\n",
      "      dtype='object')\n"
     ]
    }
   ],
   "source": [
    "from sklearn.linear_model import LinearRegression\n",
    "from sklearn.feature_selection import RFECV\n",
    "from sklearn.model_selection import KFold\n",
    "\n",
    "predictors = numerical_vars[:-1] + ['HomeAway_Home']\n",
    "\n",
    "# Create cross validator\n",
    "kfolds = KFold(n_splits=10, random_state=1988, shuffle=True)\n",
    "\n",
    "# Define estimator\n",
    "lm = LinearRegression()\n",
    "\n",
    "# Create and fit selector\n",
    "selector = RFECV(lm, cv=kfolds, scoring='neg_mean_squared_error')\n",
    "selector.fit(train[predictors], train['Runs'])\n",
    "lm_best_predictors = train[predictors].columns[selector.support_]\n",
    "print(lm_best_predictors)\n",
    "\n",
    "# Extract model\n",
    "lm_best = selector.estimator_"
   ]
  },
  {
   "cell_type": "markdown",
   "metadata": {},
   "source": [
    "We'll now evaluate this on the test set and save the mean squared error."
   ]
  },
  {
   "cell_type": "code",
   "execution_count": 96,
   "metadata": {},
   "outputs": [
    {
     "name": "stdout",
     "output_type": "stream",
     "text": [
      "The root MSE for Linear Regression on training set is 3.126872 and on test set is 3.337356.\n"
     ]
    }
   ],
   "source": [
    "from sklearn.metrics import mean_squared_error\n",
    "rmses = {}\n",
    "train_predictions = lm_best.predict(train[lm_best_predictors])\n",
    "train_rmse = np.sqrt(mean_squared_error(train_predictions, train['Runs']))\n",
    "predictions = lm_best.predict(test[lm_best_predictors])\n",
    "rmses['Linear Regression'] = np.sqrt(mean_squared_error(predictions, test['Runs']))\n",
    "print('The root MSE for Linear Regression on training set is %f and on test set is %f.' % (train_rmse, rmses['Linear Regression']))"
   ]
  },
  {
   "cell_type": "code",
   "execution_count": 97,
   "metadata": {},
   "outputs": [
    {
     "data": {
      "text/plain": [
       "<matplotlib.collections.PathCollection at 0x7f8a6cde31c0>"
      ]
     },
     "execution_count": 97,
     "metadata": {},
     "output_type": "execute_result"
    },
    {
     "data": {
      "image/png": "[encoded data removed]",
      "text/plain": [
       "<Figure size 432x288 with 1 Axes>"
      ]
     },
     "metadata": {
      "needs_background": "light"
     },
     "output_type": "display_data"
    }
   ],
   "source": [
    "test_residuals = test['Runs'] - predictions\n",
    "plt.scatter(test['GameNum'], test_residuals, s=1)"
   ]
  },
  {
   "cell_type": "code",
   "execution_count": 102,
   "metadata": {},
   "outputs": [],
   "source": [
    "test['Predictions'] = predictions\n",
    "test_eval_lm = evaluate_with_betting(test)"
   ]
  },
  {
   "cell_type": "code",
   "execution_count": 103,
   "metadata": {},
   "outputs": [
    {
     "data": {
      "text/plain": [
       "<matplotlib.legend.Legend at 0x7f8a65c7c940>"
      ]
     },
     "execution_count": 103,
     "metadata": {},
     "output_type": "execute_result"
    },
    {
     "data": {
      "image/png": "[encoded data removed]",
      "text/plain": [
       "<Figure size 432x288 with 1 Axes>"
      ]
     },
     "metadata": {
      "needs_background": "light"
     },
     "output_type": "display_data"
    }
   ],
   "source": [
    "plt.plot(test_eval_lm['ML_balance'], label='Moneyline')\n",
    "plt.plot(test_eval_lm['ATS_balance'], label='Spread')\n",
    "plt.plot(test_eval_lm['OU_balance'], label='Over/Under')\n",
    "plt.legend()"
   ]
  },
  {
   "cell_type": "markdown",
   "metadata": {},
   "source": [
    "## LASSO and Ridge Regression\n",
    "\n",
    "When we plotted our correlation matrix we saw that there was quite a bit of collinearity. Let's apply LASSO and Ridge regression to see if we can improve on our estimates. We'll start with LASSO first."
   ]
  },
  {
   "cell_type": "code",
   "execution_count": 109,
   "metadata": {},
   "outputs": [
    {
     "data": {
      "image/png": "[encoded data removed]",
      "text/plain": [
       "<Figure size 432x288 with 1 Axes>"
      ]
     },
     "metadata": {
      "needs_background": "light"
     },
     "output_type": "display_data"
    }
   ],
   "source": [
    "from sklearn.linear_model import Lasso\n",
    "from sklearn.model_selection import cross_val_score\n",
    "\n",
    "# We'll try a variaty of different values for alpha (the coefficient on the L1 penalty)\n",
    "alphas = list(np.arange(.01, 1, .01))\n",
    "\n",
    "# Normalize data\n",
    "train_normalized = (train[predictors] - train[predictors].mean())/train[predictors].std()\n",
    "test_normalized = (test[predictors]-train[predictors].mean())/train[predictors].std()\n",
    "\n",
    "alpha_losses_lasso = []\n",
    "# Loop through alphas and test each one\n",
    "for alpha in alphas:\n",
    "    # Define LASSO estimator\n",
    "    lasso = Lasso(alpha=alpha)\n",
    "    \n",
    "    # Cross Validate using samel KFold as above\n",
    "    alpha_losses_lasso.append(cross_val_score(lasso, train_normalized, train['Runs'], scoring='neg_mean_squared_error', cv=kfolds).mean())\n",
    "    \n",
    "fig, ax = plt.subplots()\n",
    "ax.plot(alphas, alpha_losses_lasso)\n",
    "ax.set_xlabel('alpha')\n",
    "ax.set_ylabel('Negative Mean Squared Error')\n",
    "plt.show()"
   ]
  },
  {
   "cell_type": "markdown",
   "metadata": {},
   "source": [
    "Based on the plot above it indicates the the best mean_squared error is actually achieved by Linear Regression so we'll stop here with Lasso and take a quick look at Ridge."
   ]
  },
  {
   "cell_type": "code",
   "execution_count": 110,
   "metadata": {},
   "outputs": [
    {
     "data": {
      "image/png": "[encoded data removed]",
      "text/plain": [
       "<Figure size 432x288 with 1 Axes>"
      ]
     },
     "metadata": {
      "needs_background": "light"
     },
     "output_type": "display_data"
    },
    {
     "name": "stdout",
     "output_type": "stream",
     "text": [
      "20\n"
     ]
    }
   ],
   "source": [
    "from sklearn.linear_model import Ridge\n",
    "from sklearn.model_selection import cross_val_score\n",
    "\n",
    "# We'll try a variaty of different values for alpha (the coefficient on the L2 penalty)\n",
    "alphas = list(np.arange(0, 600, 10))\n",
    "\n",
    "alpha_losses_ridge = []\n",
    "# Loop through alphas and test each one\n",
    "for alpha in alphas:\n",
    "    # Define Ridge Regression estimator\n",
    "    ridge = Ridge(alpha=alpha)\n",
    "    \n",
    "    # Cross Validate using samel KFold as above\n",
    "    alpha_losses_ridge.append(cross_val_score(ridge, train_normalized, train['Runs'], scoring='neg_mean_squared_error', cv=kfolds).mean())\n",
    "    \n",
    "fig, ax = plt.subplots()\n",
    "ax.plot(alphas, alpha_losses_ridge)\n",
    "ax.ticklabel_format(useOffset=False)\n",
    "ax.set_xlabel('alpha')\n",
    "ax.set_ylabel('Negative Mean Squared Error')\n",
    "plt.show()\n",
    "print(alphas[alpha_losses_ridge.index(max(alpha_losses_ridge))])"
   ]
  },
  {
   "cell_type": "markdown",
   "metadata": {},
   "source": [
    "We'll also try 190 since that the true maximum in the above plot. Let's compare these two values to the test set and see how they do compared to Linear Regression."
   ]
  },
  {
   "cell_type": "code",
   "execution_count": 116,
   "metadata": {},
   "outputs": [
    {
     "name": "stdout",
     "output_type": "stream",
     "text": [
      "The root MSE for Ridge Regression with alpha=20.000000 is 3.335875\n"
     ]
    }
   ],
   "source": [
    "alpha = 20\n",
    "\n",
    "# Define model\n",
    "ridge = Ridge(alpha=alpha)\n",
    "\n",
    "# Fit model\n",
    "ridge.fit(train_normalized, train['Runs'])\n",
    "\n",
    "# Make predictions\n",
    "predictions = ridge.predict(test_normalized)\n",
    "\n",
    "# Compute MSE\n",
    "rmses['Ridge Regression'] = np.sqrt(mean_squared_error(predictions, test['Runs']))\n",
    "print('The root MSE for Ridge Regression with alpha=%f is %f' % (alpha, rmses['Ridge Regression']))"
   ]
  },
  {
   "cell_type": "code",
   "execution_count": 120,
   "metadata": {},
   "outputs": [
    {
     "data": {
      "text/plain": [
       "<matplotlib.collections.PathCollection at 0x7f8a59865c10>"
      ]
     },
     "execution_count": 120,
     "metadata": {},
     "output_type": "execute_result"
    },
    {
     "data": {
      "image/png": "[encoded data removed]",
      "text/plain": [
       "<Figure size 432x288 with 1 Axes>"
      ]
     },
     "metadata": {
      "needs_background": "light"
     },
     "output_type": "display_data"
    }
   ],
   "source": [
    "plt.scatter(predictions, test['Runs'], s=1)"
   ]
  },
  {
   "cell_type": "code",
   "execution_count": 121,
   "metadata": {},
   "outputs": [],
   "source": [
    "test['Predictions'] = predictions\n",
    "test_eval_ridge = evaluate_with_betting(test)"
   ]
  },
  {
   "cell_type": "code",
   "execution_count": 122,
   "metadata": {},
   "outputs": [
    {
     "data": {
      "text/plain": [
       "<matplotlib.legend.Legend at 0x7f8a61f2f0d0>"
      ]
     },
     "execution_count": 122,
     "metadata": {},
     "output_type": "execute_result"
    },
    {
     "data": {
      "image/png": "[encoded data removed]",
      "text/plain": [
       "<Figure size 432x288 with 1 Axes>"
      ]
     },
     "metadata": {
      "needs_background": "light"
     },
     "output_type": "display_data"
    }
   ],
   "source": [
    "plt.plot(test_eval_ridge['ML_balance'], label='Moneyline')\n",
    "plt.plot(test_eval_ridge['ATS_balance'], label='Spread')\n",
    "plt.plot(test_eval_ridge['OU_balance'], label='Over/Under')\n",
    "plt.legend()"
   ]
  },
  {
   "cell_type": "markdown",
   "metadata": {},
   "source": [
    "These are almost exactly the same as Linear Regression. Let's try some more advance machine learning techniques."
   ]
  },
  {
   "cell_type": "markdown",
   "metadata": {},
   "source": [
    "## Random Forest\n",
    "\n",
    "We'll apply a Random Forest Regressor and see if this can improve our estiamtes."
   ]
  },
  {
   "cell_type": "code",
   "execution_count": 123,
   "metadata": {},
   "outputs": [
    {
     "data": {
      "text/plain": [
       "3.5234677574653537"
      ]
     },
     "execution_count": 123,
     "metadata": {},
     "output_type": "execute_result"
    }
   ],
   "source": [
    "from sklearn.ensemble import RandomForestRegressor\n",
    "from sklearn.model_selection import GridSearchCV\n",
    "\n",
    "rf = RandomForestRegressor()\n",
    "rf.fit(train_normalized, train['Runs'])\n",
    "predictions = rf.predict(test_normalized)\n",
    "np.sqrt(mean_squared_error(predictions, test['Runs']))"
   ]
  },
  {
   "cell_type": "code",
   "execution_count": 124,
   "metadata": {},
   "outputs": [
    {
     "data": {
      "text/plain": [
       "<matplotlib.collections.PathCollection at 0x7f8a76b7ef10>"
      ]
     },
     "execution_count": 124,
     "metadata": {},
     "output_type": "execute_result"
    },
    {
     "data": {
      "image/png": "[encoded data removed]",
      "text/plain": [
       "<Figure size 432x288 with 1 Axes>"
      ]
     },
     "metadata": {
      "needs_background": "light"
     },
     "output_type": "display_data"
    }
   ],
   "source": [
    "plt.scatter(predictions, test['Runs'], s=1)"
   ]
  },
  {
   "cell_type": "code",
   "execution_count": 125,
   "metadata": {},
   "outputs": [
    {
     "name": "stdout",
     "output_type": "stream",
     "text": [
      "{'max_depth': 50, 'max_features': 'sqrt', 'min_samples_leaf': 1, 'min_samples_split': 2}\n"
     ]
    }
   ],
   "source": [
    "from sklearn.ensemble import RandomForestRegressor\n",
    "from sklearn.model_selection import GridSearchCV\n",
    "\n",
    "params = {\n",
    "    'max_features': ['auto', 'sqrt', 'log2'],\n",
    "    'max_depth' : [40, 50, 60],\n",
    "'min_samples_split' : [2, 3, 4],\n",
    "'min_samples_leaf' : [1, 2, 3]\n",
    "    \n",
    "}\n",
    "\n",
    "rf = RandomForestRegressor(n_estimators=50)\n",
    "gscv = GridSearchCV(rf, params, cv=2, scoring='neg_mean_squared_error')\n",
    "gscv.fit(train_normalized, train['Runs'])\n",
    "print(gscv.best_params_)"
   ]
  },
  {
   "cell_type": "code",
   "execution_count": 126,
   "metadata": {},
   "outputs": [
    {
     "data": {
      "text/plain": [
       "3.442965354390177"
      ]
     },
     "execution_count": 126,
     "metadata": {},
     "output_type": "execute_result"
    }
   ],
   "source": [
    "rf = RandomForestRegressor(n_estimators=500, max_features='log2', max_depth=50, min_samples_leaf=1, min_samples_split=2)\n",
    "rf.fit(train_normalized, train['Runs'])\n",
    "predictions = rf.predict(test_normalized)\n",
    "np.sqrt(mean_squared_error(predictions, test['Runs']))"
   ]
  },
  {
   "cell_type": "code",
   "execution_count": 127,
   "metadata": {},
   "outputs": [
    {
     "data": {
      "text/plain": [
       "<matplotlib.collections.PathCollection at 0x7f8a75277070>"
      ]
     },
     "execution_count": 127,
     "metadata": {},
     "output_type": "execute_result"
    },
    {
     "data": {
      "image/png": "[encoded data removed]",
      "text/plain": [
       "<Figure size 432x288 with 1 Axes>"
      ]
     },
     "metadata": {
      "needs_background": "light"
     },
     "output_type": "display_data"
    }
   ],
   "source": [
    "plt.scatter(predictions, test['Runs'])"
   ]
  },
  {
   "cell_type": "code",
   "execution_count": 128,
   "metadata": {},
   "outputs": [],
   "source": [
    "test['Predictions'] = predictions\n",
    "test_eval_rf = evaluate_with_betting(test)"
   ]
  },
  {
   "cell_type": "code",
   "execution_count": 129,
   "metadata": {},
   "outputs": [
    {
     "data": {
      "text/plain": [
       "<matplotlib.legend.Legend at 0x7f8a630a8130>"
      ]
     },
     "execution_count": 129,
     "metadata": {},
     "output_type": "execute_result"
    },
    {
     "data": {
      "image/png": "[encoded data removed]",
      "text/plain": [
       "<Figure size 432x288 with 1 Axes>"
      ]
     },
     "metadata": {
      "needs_background": "light"
     },
     "output_type": "display_data"
    }
   ],
   "source": [
    "plt.plot(test_eval_rf['ML_balance'], label='Moneyline')\n",
    "plt.plot(test_eval_rf['ATS_balance'], label='Spread')\n",
    "plt.plot(test_eval_rf['OU_balance'], label='Over/Under')\n",
    "plt.legend()"
   ]
  },
  {
   "cell_type": "code",
   "execution_count": null,
   "metadata": {},
   "outputs": [],
   "source": []
  }
 ],
 "metadata": {
  "kernelspec": {
   "display_name": "Python 3",
   "language": "python",
   "name": "python3"
  },
  "language_info": {
   "codemirror_mode": {
    "name": "ipython",
    "version": 3
   },
   "file_extension": ".py",
   "mimetype": "text/x-python",
   "name": "python",
   "nbconvert_exporter": "python",
   "pygments_lexer": "ipython3",
   "version": "3.8.5"
  }
 },
 "nbformat": 4,
 "nbformat_minor": 4
}
