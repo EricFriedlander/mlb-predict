{
 "cells": [
  {
   "cell_type": "markdown",
   "metadata": {},
   "source": [
    "# Model 1: Basic Regression for Predicting MLB Scores"
   ]
  },
  {
   "cell_type": "code",
   "execution_count": 2,
   "metadata": {},
   "outputs": [
    {
     "name": "stdout",
     "output_type": "stream",
     "text": [
      "The autoreload extension is already loaded. To reload it, use:\n",
      "  %reload_ext autoreload\n"
     ]
    }
   ],
   "source": [
    "%load_ext autoreload\n",
    "%autoreload 2\n",
    "import pandas as pd\n",
    "import numpy as np\n",
    "import sys\n",
    "import datetime\n",
    "import pickle as pkl\n",
    "import matplotlib.pyplot as plt\n",
    "#get parent directory:\n",
    "import os\n",
    "parentDirectory = os.path.abspath(os.path.join(os.getcwd(), os.pardir))\n",
    "sys.path.append('/Users/efriedlander/Dropbox/SportsBetting/mlb-predict')\n",
    "from src.data import bbref_scrape"
   ]
  },
  {
   "cell_type": "markdown",
   "metadata": {},
   "source": [
    "## Data Preparation\n",
    "\n",
    "First scrape, import, and parse the data scraped from baseball-reference. We will save the parsed data so we don't have to repeat that step every time we run the notebook."
   ]
  },
  {
   "cell_type": "code",
   "execution_count": 3,
   "metadata": {},
   "outputs": [],
   "source": [
    "# start19 = datetime.datetime(2019, 1, 1)\n",
    "# end19 = datetime.datetime(2019, 12, 31)\n",
    "# start18 = datetime.datetime(2018, 1, 1)\n",
    "# end18 = datetime.datetime(2018, 12, 31)\n",
    "# start17 = datetime.datetime(2017, 1, 1)\n",
    "# end17 = datetime.datetime(2017, 12, 31)"
   ]
  },
  {
   "cell_type": "code",
   "execution_count": 4,
   "metadata": {},
   "outputs": [],
   "source": [
    "# links19 = bbref_scrape.get_box_score_links('ALL', start19, end19)\n",
    "# boxscores19 = bbref_scrape.get_box_scores(links19)\n",
    "# pkl.dump(boxscores19, open(os.path.join(parentDirectory, 'data', 'boxscores2019.p'), 'wb'))"
   ]
  },
  {
   "cell_type": "code",
   "execution_count": 5,
   "metadata": {},
   "outputs": [],
   "source": [
    "# links18 = bbref_scrape.get_box_score_links('ALL', start18, end18)\n",
    "# boxscores18 = bbref_scrape.get_box_scores(links18)\n",
    "# pkl.dump(boxscores18, open(os.path.join(parentDirectory, 'data', 'boxscores2018.p'), 'wb'))"
   ]
  },
  {
   "cell_type": "code",
   "execution_count": 6,
   "metadata": {},
   "outputs": [],
   "source": [
    "# links17 = bbref_scrape.get_box_score_links('ALL', start17, end17)\n",
    "# boxscores17 = bbref_scrape.get_box_scores(links17)\n",
    "# pkl.dump(boxscores17, open(os.path.join(parentDirectory, 'data', 'boxscores2017.p'), 'wb'))"
   ]
  },
  {
   "cell_type": "code",
   "execution_count": 7,
   "metadata": {
    "scrolled": true
   },
   "outputs": [],
   "source": [
    "# scores = pkl.load(open(os.path.join(parentDirectory, 'data', 'boxscores2019.p'), 'rb'))\n",
    "# parsed_scores = bbref_scrape.parse_box_scores(scores)\n",
    "# pkl.dump(parsed_scores, open(os.path.join(parentDirectory, 'data', 'parsedData2019.p'), 'wb'))\n",
    "\n",
    "# scores = pkl.load(open(os.path.join(parentDirectory, 'data', 'boxscores2018.p'), 'rb'))\n",
    "# parsed_scores = bbref_scrape.parse_box_scores(scores)\n",
    "# pkl.dump(parsed_scores, open(os.path.join(parentDirectory, 'data', 'parsedData2018.p'), 'wb'))\n",
    "\n",
    "# scores = pkl.load(open(os.path.join(parentDirectory, 'data', 'boxscores2017.p'), 'rb'))\n",
    "# parsed_scores = bbref_scrape.parse_box_scores(scores)\n",
    "# pkl.dump(parsed_scores, open(os.path.join(parentDirectory, 'data', 'parsedData2017.p'), 'wb'))"
   ]
  },
  {
   "cell_type": "code",
   "execution_count": 8,
   "metadata": {
    "scrolled": true
   },
   "outputs": [],
   "source": [
    "parsed19 = pkl.load(open(os.path.join(parentDirectory, 'data', 'parsedData2019.p'), 'rb'))"
   ]
  },
  {
   "cell_type": "markdown",
   "metadata": {},
   "source": [
    "The parser outputs four dataframes. For now we will only concern ourselves with the game and team level data."
   ]
  },
  {
   "cell_type": "code",
   "execution_count": 9,
   "metadata": {},
   "outputs": [],
   "source": [
    "game_level = parsed19['Game']\n",
    "team_level = parsed19['Team']"
   ]
  },
  {
   "cell_type": "markdown",
   "metadata": {},
   "source": [
    "For this first model we'll only consider the number of runs, hits, and starter for each game. Let's extract those, make sure they have the appropriate data types."
   ]
  },
  {
   "cell_type": "code",
   "execution_count": 10,
   "metadata": {},
   "outputs": [
    {
     "name": "stdout",
     "output_type": "stream",
     "text": [
      "<class 'pandas.core.frame.DataFrame'>\n",
      "RangeIndex: 4858 entries, 0 to 4857\n",
      "Data columns (total 7 columns):\n",
      " #   Column    Non-Null Count  Dtype   \n",
      "---  ------    --------------  -----   \n",
      " 0   GameID    4858 non-null   int64   \n",
      " 1   Team      4858 non-null   category\n",
      " 2   GameNum   4858 non-null   Int32   \n",
      " 3   HomeAway  4858 non-null   category\n",
      " 4   Runs      4858 non-null   Int32   \n",
      " 5   Hits      4858 non-null   Int32   \n",
      " 6   Starter   4858 non-null   category\n",
      "dtypes: Int32(3), category(3), int64(1)\n",
      "memory usage: 142.7 KB\n"
     ]
    }
   ],
   "source": [
    "team_data = team_level[['GameID', 'Team', 'GameNum', 'HomeAway', 'Runs', 'Hits', 'Starter']].astype({'GameID' : 'int64',\n",
    "                                                                                                     'Team' : 'category',\n",
    "                                                                                                     'GameNum' : 'Int32',\n",
    "                                                                                                     'HomeAway' : 'category',\n",
    "                                                                                                     'Runs' : 'Int32',\n",
    "                                                                                                     'Hits' : 'Int32',\n",
    "                                                                                                     'Starter' : 'category'}, copy=False)\n",
    "\n",
    "team_data.info()"
   ]
  },
  {
   "cell_type": "markdown",
   "metadata": {},
   "source": [
    "Now compute the lagged running average for the number of runs and hits for each game."
   ]
  },
  {
   "cell_type": "code",
   "execution_count": 11,
   "metadata": {},
   "outputs": [],
   "source": [
    "team_data.sort_values(by='GameNum', inplace=True)\n",
    "team_data[['MeanRuns', 'MeanHits']] = team_data.groupby(by='Team').expanding().mean()[['Runs', 'Hits']].reset_index(level=0, drop=True)\n",
    "team_data[['MeanRuns', 'MeanHits']] = team_data.groupby(by='Team')[['MeanRuns', 'MeanHits']].shift(1)"
   ]
  },
  {
   "cell_type": "markdown",
   "metadata": {},
   "source": [
    "We will need the game odds. Due to formatting it will be easiest to add it to team_data first. Below we import the odds dataset and join the batting line and odds. Note that the odds dataset uses abbreviations so we'll need to define those and add them to the data set in order to join"
   ]
  },
  {
   "cell_type": "code",
   "execution_count": 12,
   "metadata": {},
   "outputs": [],
   "source": [
    "team_abbrv = {'Atlanta Braves' : 'ATL', \n",
    "              'Arizona Diamondbacks' : 'ARI', \n",
    "              'Baltimore Orioles' : 'BAL', \n",
    "              'Boston Red Sox' : 'BOS', \n",
    "              'Chicago Cubs' : 'CUB', \n",
    "              'Chicago White Sox' : 'CWS', \n",
    "              'Cincinnati Reds' : 'CIN', \n",
    "              'Cleveland Indians' : 'CLE', \n",
    "              'Colorado Rockies' : 'COL', \n",
    "              'Detroit Tigers' : 'DET',\n",
    "              'Kansas City Royals': 'KAN', \n",
    "              'Houston Astros' : 'HOU', \n",
    "              'Los Angeles Angels' : 'LAA', \n",
    "              'Los Angeles Dodgers' : 'LAD', \n",
    "              'Miami Marlins' : 'MIA', \n",
    "              'Florida Marlins' : 'FLA', \n",
    "              'Milwaukee Brewers' : 'MIL', \n",
    "              'Minnesota Twins' : 'MIN', \n",
    "              'New York Mets' : 'NYM', \n",
    "              'New York Yankees' : 'NYY', \n",
    "              'Oakland Athletics' : 'OAK',\n",
    "              'Philadelphia Phillies' : 'PHI', \n",
    "              'Pittsburgh Pirates' : 'PIT', \n",
    "              'San Diego Padres' : 'SDG', \n",
    "              'Seattle Mariners' : 'SEA', \n",
    "              'San Francisco Giants' : 'SFO', \n",
    "              'St. Louis Cardinals' : 'STL', \n",
    "              'Tampa Bay Rays' : 'TAM', \n",
    "              'Texas Rangers' : 'TEX', \n",
    "              'Toronto Blue Jays' : 'TOR', \n",
    "              'Washington Nationals' : 'WAS'}\n",
    "team_data['TeamAbr'] = team_data['Team'].apply(lambda x: team_abbrv[x])\n",
    "\n",
    "# game_level['DateTime'] = pd.to_datetime(game_level['DateTime'], utc=True)\n",
    "game_date = game_level[['GameID', 'DateTime']].astype({'GameID' : 'int64'})\n",
    "game_date['Date'] = game_date['DateTime'].map(lambda x: x.month*100 + x.day)\n",
    "game_date.drop(columns='DateTime', inplace=True)\n",
    "team_data = team_data.merge(game_date, on='GameID')\n",
    "\n",
    "\n",
    "odds = pd.read_csv(os.path.join(parentDirectory, 'data', 'mlbodds2019.csv'))\n",
    "odds.rename(columns={'Team' : 'TeamAbr', 'Final' : 'Runs', 'Unnamed: 18' : 'Line Odds'}, inplace=True)\n",
    "team_data = team_data.merge(odds[['Date', 'TeamAbr', 'Runs', 'Run Line', 'Line Odds', 'Pitcher']], how='left', on=['TeamAbr', 'Date', 'Runs'])"
   ]
  },
  {
   "cell_type": "markdown",
   "metadata": {},
   "source": [
    "Now join the team data back to the game_level data in order to come up with our final dataset."
   ]
  },
  {
   "cell_type": "code",
   "execution_count": 13,
   "metadata": {},
   "outputs": [],
   "source": [
    "# team_data.drop(columns=['DateTime', 'HomeAway'], inplace=True)\n",
    "model_data = game_level[['GameID', 'AwayTeam', 'HomeTeam', 'DateTime', 'AwayScore', 'HomeScore']]\n",
    "model_data = model_data.merge(team_data, left_on=['GameID', 'AwayTeam'], right_on=['GameID', 'Team'])\n",
    "model_data = model_data.merge(team_data, left_on=['GameID', 'HomeTeam'], right_on=['GameID', 'Team'], suffixes=('_away', '_home'))\n",
    "model_data['ScoreDiff'] = model_data['AwayScore'] - model_data['HomeScore']\n",
    "model_data.drop(columns=['Team_away', 'Team_home', 'Runs_away', 'Runs_home'], inplace=True)"
   ]
  },
  {
   "cell_type": "markdown",
   "metadata": {},
   "source": [
    "## Data Exploration\n",
    "\n",
    "Now that we have all of the data we will use for our model let's explore it a little bit."
   ]
  },
  {
   "cell_type": "code",
   "execution_count": 14,
   "metadata": {},
   "outputs": [
    {
     "data": {
      "text/html": [
       "<div>\n",
       "<style scoped>\n",
       "    .dataframe tbody tr th:only-of-type {\n",
       "        vertical-align: middle;\n",
       "    }\n",
       "\n",
       "    .dataframe tbody tr th {\n",
       "        vertical-align: top;\n",
       "    }\n",
       "\n",
       "    .dataframe thead th {\n",
       "        text-align: right;\n",
       "    }\n",
       "</style>\n",
       "<table border=\"1\" class=\"dataframe\">\n",
       "  <thead>\n",
       "    <tr style=\"text-align: right;\">\n",
       "      <th></th>\n",
       "      <th>GameID</th>\n",
       "      <th>AwayTeam</th>\n",
       "      <th>HomeTeam</th>\n",
       "      <th>DateTime</th>\n",
       "      <th>AwayScore</th>\n",
       "      <th>HomeScore</th>\n",
       "      <th>GameNum_away</th>\n",
       "      <th>HomeAway_away</th>\n",
       "      <th>Hits_away</th>\n",
       "      <th>Starter_away</th>\n",
       "      <th>...</th>\n",
       "      <th>Hits_home</th>\n",
       "      <th>Starter_home</th>\n",
       "      <th>MeanRuns_home</th>\n",
       "      <th>MeanHits_home</th>\n",
       "      <th>TeamAbr_home</th>\n",
       "      <th>Date_home</th>\n",
       "      <th>Run Line_home</th>\n",
       "      <th>Line Odds_home</th>\n",
       "      <th>Pitcher_home</th>\n",
       "      <th>ScoreDiff</th>\n",
       "    </tr>\n",
       "  </thead>\n",
       "  <tbody>\n",
       "    <tr>\n",
       "      <th>578</th>\n",
       "      <td>-910491629547739276</td>\n",
       "      <td>Kansas City Royals</td>\n",
       "      <td>Boston Red Sox</td>\n",
       "      <td>2019-08-07 19:10:00-05:00</td>\n",
       "      <td>4</td>\n",
       "      <td>5</td>\n",
       "      <td>116</td>\n",
       "      <td>Away</td>\n",
       "      <td>13</td>\n",
       "      <td>Glenn Sparkman</td>\n",
       "      <td>...</td>\n",
       "      <td>12</td>\n",
       "      <td>Eduardo Rodriguez</td>\n",
       "      <td>5.698276</td>\n",
       "      <td>9.767241</td>\n",
       "      <td>BOS</td>\n",
       "      <td>807</td>\n",
       "      <td>NaN</td>\n",
       "      <td>NaN</td>\n",
       "      <td>NaN</td>\n",
       "      <td>-1</td>\n",
       "    </tr>\n",
       "    <tr>\n",
       "      <th>778</th>\n",
       "      <td>7842854319504398228</td>\n",
       "      <td>Chicago White Sox</td>\n",
       "      <td>New York Yankees</td>\n",
       "      <td>2019-04-12 19:05:00-05:00</td>\n",
       "      <td>9</td>\n",
       "      <td>6</td>\n",
       "      <td>12</td>\n",
       "      <td>Away</td>\n",
       "      <td>12</td>\n",
       "      <td>Lucas Giolito</td>\n",
       "      <td>...</td>\n",
       "      <td>7</td>\n",
       "      <td>J.A. Happ</td>\n",
       "      <td>5.083333</td>\n",
       "      <td>8.750000</td>\n",
       "      <td>NYY</td>\n",
       "      <td>412</td>\n",
       "      <td>-1.5</td>\n",
       "      <td>-110.0</td>\n",
       "      <td>JHAPP-L</td>\n",
       "      <td>3</td>\n",
       "    </tr>\n",
       "    <tr>\n",
       "      <th>809</th>\n",
       "      <td>2568596730165295575</td>\n",
       "      <td>Kansas City Royals</td>\n",
       "      <td>Chicago White Sox</td>\n",
       "      <td>2019-05-27 14:10:00-05:00</td>\n",
       "      <td>1</td>\n",
       "      <td>2</td>\n",
       "      <td>53</td>\n",
       "      <td>Away</td>\n",
       "      <td>7</td>\n",
       "      <td>Homer Bailey</td>\n",
       "      <td>...</td>\n",
       "      <td>7</td>\n",
       "      <td>Ivan Nova</td>\n",
       "      <td>4.192308</td>\n",
       "      <td>8.326923</td>\n",
       "      <td>CWS</td>\n",
       "      <td>527</td>\n",
       "      <td>NaN</td>\n",
       "      <td>NaN</td>\n",
       "      <td>NaN</td>\n",
       "      <td>-1</td>\n",
       "    </tr>\n",
       "    <tr>\n",
       "      <th>1311</th>\n",
       "      <td>-2068446951398620634</td>\n",
       "      <td>Oakland Athletics</td>\n",
       "      <td>Detroit Tigers</td>\n",
       "      <td>2019-05-19 13:10:00-05:00</td>\n",
       "      <td>7</td>\n",
       "      <td>3</td>\n",
       "      <td>48</td>\n",
       "      <td>Away</td>\n",
       "      <td>12</td>\n",
       "      <td>Mike Fiers</td>\n",
       "      <td>...</td>\n",
       "      <td>5</td>\n",
       "      <td>Gregory Soto</td>\n",
       "      <td>3.318182</td>\n",
       "      <td>7.295455</td>\n",
       "      <td>DET</td>\n",
       "      <td>519</td>\n",
       "      <td>1.5</td>\n",
       "      <td>116.0</td>\n",
       "      <td>GSOTO-L</td>\n",
       "      <td>4</td>\n",
       "    </tr>\n",
       "    <tr>\n",
       "      <th>1510</th>\n",
       "      <td>1915063218856430657</td>\n",
       "      <td>Texas Rangers</td>\n",
       "      <td>Houston Astros</td>\n",
       "      <td>2019-05-10 20:10:00-05:00</td>\n",
       "      <td>0</td>\n",
       "      <td>3</td>\n",
       "      <td>36</td>\n",
       "      <td>Away</td>\n",
       "      <td>2</td>\n",
       "      <td>Lance Lynn</td>\n",
       "      <td>...</td>\n",
       "      <td>6</td>\n",
       "      <td>Justin Verlander</td>\n",
       "      <td>5.052632</td>\n",
       "      <td>9.289474</td>\n",
       "      <td>HOU</td>\n",
       "      <td>510</td>\n",
       "      <td>NaN</td>\n",
       "      <td>NaN</td>\n",
       "      <td>NaN</td>\n",
       "      <td>-3</td>\n",
       "    </tr>\n",
       "    <tr>\n",
       "      <th>1517</th>\n",
       "      <td>5327454643872064934</td>\n",
       "      <td>Houston Astros</td>\n",
       "      <td>Seattle Mariners</td>\n",
       "      <td>2019-06-04 22:10:00-05:00</td>\n",
       "      <td>11</td>\n",
       "      <td>5</td>\n",
       "      <td>62</td>\n",
       "      <td>Away</td>\n",
       "      <td>13</td>\n",
       "      <td>Wade Miley</td>\n",
       "      <td>...</td>\n",
       "      <td>5</td>\n",
       "      <td>Andrew Moore</td>\n",
       "      <td>4.936508</td>\n",
       "      <td>8.222222</td>\n",
       "      <td>SEA</td>\n",
       "      <td>604</td>\n",
       "      <td>1.5</td>\n",
       "      <td>-113.0</td>\n",
       "      <td>AMOORE-R</td>\n",
       "      <td>6</td>\n",
       "    </tr>\n",
       "    <tr>\n",
       "      <th>2044</th>\n",
       "      <td>9059109643928713529</td>\n",
       "      <td>St. Louis Cardinals</td>\n",
       "      <td>New York Mets</td>\n",
       "      <td>2019-06-13 19:10:00-05:00</td>\n",
       "      <td>5</td>\n",
       "      <td>4</td>\n",
       "      <td>67</td>\n",
       "      <td>Away</td>\n",
       "      <td>10</td>\n",
       "      <td>Jack Flaherty</td>\n",
       "      <td>...</td>\n",
       "      <td>6</td>\n",
       "      <td>Jacob deGrom</td>\n",
       "      <td>4.686567</td>\n",
       "      <td>8.626866</td>\n",
       "      <td>NYM</td>\n",
       "      <td>613</td>\n",
       "      <td>-1.5</td>\n",
       "      <td>149.0</td>\n",
       "      <td>JDEGROM-R</td>\n",
       "      <td>1</td>\n",
       "    </tr>\n",
       "    <tr>\n",
       "      <th>2116</th>\n",
       "      <td>1547503049529398916</td>\n",
       "      <td>Tampa Bay Rays</td>\n",
       "      <td>New York Yankees</td>\n",
       "      <td>2019-07-18 15:00:00-05:00</td>\n",
       "      <td>2</td>\n",
       "      <td>6</td>\n",
       "      <td>98</td>\n",
       "      <td>Away</td>\n",
       "      <td>5</td>\n",
       "      <td>Yonny Chirinos</td>\n",
       "      <td>...</td>\n",
       "      <td>10</td>\n",
       "      <td>Domingo German</td>\n",
       "      <td>5.634409</td>\n",
       "      <td>9.021505</td>\n",
       "      <td>NYY</td>\n",
       "      <td>718</td>\n",
       "      <td>NaN</td>\n",
       "      <td>NaN</td>\n",
       "      <td>NaN</td>\n",
       "      <td>-4</td>\n",
       "    </tr>\n",
       "    <tr>\n",
       "      <th>2222</th>\n",
       "      <td>-8347995212585020649</td>\n",
       "      <td>Philadelphia Phillies</td>\n",
       "      <td>San Diego Padres</td>\n",
       "      <td>2019-06-04 22:10:00-05:00</td>\n",
       "      <td>9</td>\n",
       "      <td>6</td>\n",
       "      <td>61</td>\n",
       "      <td>Away</td>\n",
       "      <td>13</td>\n",
       "      <td>Jerad Eickhoff</td>\n",
       "      <td>...</td>\n",
       "      <td>10</td>\n",
       "      <td>Chris Paddack</td>\n",
       "      <td>4.000000</td>\n",
       "      <td>7.566667</td>\n",
       "      <td>SDG</td>\n",
       "      <td>604</td>\n",
       "      <td>NaN</td>\n",
       "      <td>NaN</td>\n",
       "      <td>NaN</td>\n",
       "      <td>3</td>\n",
       "    </tr>\n",
       "  </tbody>\n",
       "</table>\n",
       "<p>9 rows × 29 columns</p>\n",
       "</div>"
      ],
      "text/plain": [
       "                    GameID               AwayTeam           HomeTeam  \\\n",
       "578    -910491629547739276     Kansas City Royals     Boston Red Sox   \n",
       "778    7842854319504398228      Chicago White Sox   New York Yankees   \n",
       "809    2568596730165295575     Kansas City Royals  Chicago White Sox   \n",
       "1311  -2068446951398620634      Oakland Athletics     Detroit Tigers   \n",
       "1510   1915063218856430657          Texas Rangers     Houston Astros   \n",
       "1517   5327454643872064934         Houston Astros   Seattle Mariners   \n",
       "2044   9059109643928713529    St. Louis Cardinals      New York Mets   \n",
       "2116   1547503049529398916         Tampa Bay Rays   New York Yankees   \n",
       "2222  -8347995212585020649  Philadelphia Phillies   San Diego Padres   \n",
       "\n",
       "                       DateTime AwayScore HomeScore  GameNum_away  \\\n",
       "578   2019-08-07 19:10:00-05:00         4         5           116   \n",
       "778   2019-04-12 19:05:00-05:00         9         6            12   \n",
       "809   2019-05-27 14:10:00-05:00         1         2            53   \n",
       "1311  2019-05-19 13:10:00-05:00         7         3            48   \n",
       "1510  2019-05-10 20:10:00-05:00         0         3            36   \n",
       "1517  2019-06-04 22:10:00-05:00        11         5            62   \n",
       "2044  2019-06-13 19:10:00-05:00         5         4            67   \n",
       "2116  2019-07-18 15:00:00-05:00         2         6            98   \n",
       "2222  2019-06-04 22:10:00-05:00         9         6            61   \n",
       "\n",
       "     HomeAway_away  Hits_away    Starter_away  ...  Hits_home  \\\n",
       "578           Away         13  Glenn Sparkman  ...         12   \n",
       "778           Away         12   Lucas Giolito  ...          7   \n",
       "809           Away          7    Homer Bailey  ...          7   \n",
       "1311          Away         12      Mike Fiers  ...          5   \n",
       "1510          Away          2      Lance Lynn  ...          6   \n",
       "1517          Away         13      Wade Miley  ...          5   \n",
       "2044          Away         10   Jack Flaherty  ...          6   \n",
       "2116          Away          5  Yonny Chirinos  ...         10   \n",
       "2222          Away         13  Jerad Eickhoff  ...         10   \n",
       "\n",
       "           Starter_home MeanRuns_home  MeanHits_home  TeamAbr_home  Date_home  \\\n",
       "578   Eduardo Rodriguez      5.698276       9.767241           BOS        807   \n",
       "778           J.A. Happ      5.083333       8.750000           NYY        412   \n",
       "809           Ivan Nova      4.192308       8.326923           CWS        527   \n",
       "1311       Gregory Soto      3.318182       7.295455           DET        519   \n",
       "1510   Justin Verlander      5.052632       9.289474           HOU        510   \n",
       "1517       Andrew Moore      4.936508       8.222222           SEA        604   \n",
       "2044       Jacob deGrom      4.686567       8.626866           NYM        613   \n",
       "2116     Domingo German      5.634409       9.021505           NYY        718   \n",
       "2222      Chris Paddack      4.000000       7.566667           SDG        604   \n",
       "\n",
       "     Run Line_home  Line Odds_home Pitcher_home  ScoreDiff  \n",
       "578            NaN             NaN          NaN         -1  \n",
       "778           -1.5          -110.0      JHAPP-L          3  \n",
       "809            NaN             NaN          NaN         -1  \n",
       "1311           1.5           116.0      GSOTO-L          4  \n",
       "1510           NaN             NaN          NaN         -3  \n",
       "1517           1.5          -113.0     AMOORE-R          6  \n",
       "2044          -1.5           149.0    JDEGROM-R          1  \n",
       "2116           NaN             NaN          NaN         -4  \n",
       "2222           NaN             NaN          NaN          3  \n",
       "\n",
       "[9 rows x 29 columns]"
      ]
     },
     "execution_count": 14,
     "metadata": {},
     "output_type": "execute_result"
    }
   ],
   "source": [
    "model_data[model_data['Run Line_home'] != -model_data['Run Line_away']]"
   ]
  },
  {
   "cell_type": "code",
   "execution_count": null,
   "metadata": {},
   "outputs": [],
   "source": [
    "odds.loc[(odds['Date']==807)]"
   ]
  },
  {
   "cell_type": "code",
   "execution_count": null,
   "metadata": {},
   "outputs": [],
   "source": [
    "odds[(odds['TeamAbr']=='ATL')].iloc[4]"
   ]
  },
  {
   "cell_type": "code",
   "execution_count": null,
   "metadata": {},
   "outputs": [],
   "source": [
    "team_data[(team_data['TeamAbr']=='LAD')].count()"
   ]
  },
  {
   "cell_type": "code",
   "execution_count": null,
   "metadata": {},
   "outputs": [],
   "source": [
    "game_level[game_level['GameID']==1096196326745839632]"
   ]
  },
  {
   "cell_type": "code",
   "execution_count": null,
   "metadata": {},
   "outputs": [],
   "source": [
    "game_level[game_level['HomeTeam']=='Atlanta Braves'].iloc[0]['DateTime']"
   ]
  },
  {
   "cell_type": "code",
   "execution_count": null,
   "metadata": {},
   "outputs": [],
   "source": [
    "box_score = scores[3]"
   ]
  },
  {
   "cell_type": "code",
   "execution_count": null,
   "metadata": {},
   "outputs": [],
   "source": [
    "pd.to_datetime(dateparser.parse(box_score.date + ' ' + box_score.time.replace('Local', '')))"
   ]
  },
  {
   "cell_type": "code",
   "execution_count": null,
   "metadata": {},
   "outputs": [],
   "source": [
    "dateparser.parse(box_score.date + ' ' + box_score.time.replace('Local', ''))"
   ]
  },
  {
   "cell_type": "code",
   "execution_count": null,
   "metadata": {},
   "outputs": [],
   "source": []
  },
  {
   "cell_type": "code",
   "execution_count": null,
   "metadata": {},
   "outputs": [],
   "source": []
  }
 ],
 "metadata": {
  "kernelspec": {
   "display_name": "Python 3",
   "language": "python",
   "name": "python3"
  },
  "language_info": {
   "codemirror_mode": {
    "name": "ipython",
    "version": 3
   },
   "file_extension": ".py",
   "mimetype": "text/x-python",
   "name": "python",
   "nbconvert_exporter": "python",
   "pygments_lexer": "ipython3",
   "version": "3.8.1"
  }
 },
 "nbformat": 4,
 "nbformat_minor": 4
}
